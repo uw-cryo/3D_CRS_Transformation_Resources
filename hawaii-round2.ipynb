{
 "cells": [
  {
   "cell_type": "code",
   "execution_count": 48,
   "id": "68e53e27-ff1e-4f71-b5c8-12639d47af7b",
   "metadata": {
    "editable": true,
    "slideshow": {
     "slide_type": ""
    },
    "tags": []
   },
   "outputs": [],
   "source": [
    "import numpy as np\n",
    "import os\n",
    "import cartopy.crs as ccrs\n",
    "from matplotlib import colors\n",
    "from matplotlib import pyplot as plt\n",
    "import rioxarray \n",
    "%matplotlib inline"
   ]
  },
  {
   "cell_type": "markdown",
   "id": "cddf10a9-00d7-4549-881a-5a460335e90c",
   "metadata": {},
   "source": [
    "## Transform from EPSG:6635 (NAD83 PA11 UTM Zone 5N) and geoid heights to UTM Zone 5N of WGS84 ellipsoid with respect to the G2139 realization"
   ]
  },
  {
   "cell_type": "code",
   "execution_count": 2,
   "id": "d86a6c9c-fe6e-40f0-aeeb-71d019312bdd",
   "metadata": {
    "editable": true,
    "slideshow": {
     "slide_type": ""
    },
    "tags": []
   },
   "outputs": [
    {
     "name": "stdout",
     "output_type": "stream",
     "text": [
      "/panfs/ccds02/nobackup/people/sbhusha1/mouna_loa\n"
     ]
    }
   ],
   "source": [
    "%cd /panfs/ccds02/nobackup/people/sbhusha1/mouna_loa/"
   ]
  },
  {
   "cell_type": "code",
   "execution_count": 4,
   "id": "12ab52a5-938d-422b-b83a-c11678a6b041",
   "metadata": {},
   "outputs": [],
   "source": [
    "ml_lidar_fn = 'MaunaLoa_3DEP.tif'\n",
    "da = rioxarray.open_rasterio(ml_lidar_fn,masked=True)\n",
    "crs = da.rio.crs"
   ]
  },
  {
   "cell_type": "code",
   "execution_count": 5,
   "id": "b0878480-60ee-4ec5-b510-be336b8f4438",
   "metadata": {},
   "outputs": [
    {
     "data": {
      "text/plain": [
       "CRS.from_epsg(6635)"
      ]
     },
     "execution_count": 5,
     "metadata": {},
     "output_type": "execute_result"
    }
   ],
   "source": [
    "crs"
   ]
  },
  {
   "cell_type": "code",
   "execution_count": 6,
   "id": "cb2962f0-a87c-4da0-9df8-da7b4f2b0793",
   "metadata": {},
   "outputs": [
    {
     "name": "stdout",
     "output_type": "stream",
     "text": [
      "PROJ.4 string:\n",
      "+proj=utm +zone=5 +ellps=GRS80 +units=m +no_defs +type=crs\n",
      "\n",
      "WKT2:2019 string:\n",
      "PROJCRS[\"NAD83(PA11) / UTM zone 5N\",\n",
      "    BASEGEOGCRS[\"NAD83(PA11)\",\n",
      "        DATUM[\"NAD83 (National Spatial Reference System PA11)\",\n",
      "            ELLIPSOID[\"GRS 1980\",6378137,298.257222101,\n",
      "                LENGTHUNIT[\"metre\",1]]],\n",
      "        PRIMEM[\"Greenwich\",0,\n",
      "            ANGLEUNIT[\"degree\",0.0174532925199433]],\n",
      "        ID[\"EPSG\",6322]],\n",
      "    CONVERSION[\"UTM zone 5N\",\n",
      "        METHOD[\"Transverse Mercator\",\n",
      "            ID[\"EPSG\",9807]],\n",
      "        PARAMETER[\"Latitude of natural origin\",0,\n",
      "            ANGLEUNIT[\"degree\",0.0174532925199433],\n",
      "            ID[\"EPSG\",8801]],\n",
      "        PARAMETER[\"Longitude of natural origin\",-153,\n",
      "            ANGLEUNIT[\"degree\",0.0174532925199433],\n",
      "            ID[\"EPSG\",8802]],\n",
      "        PARAMETER[\"Scale factor at natural origin\",0.9996,\n",
      "            SCALEUNIT[\"unity\",1],\n",
      "            ID[\"EPSG\",8805]],\n",
      "        PARAMETER[\"False easting\",500000,\n",
      "            LENGTHUNIT[\"metre\",1],\n",
      "            ID[\"EPSG\",8806]],\n",
      "        PARAMETER[\"False northing\",0,\n",
      "            LENGTHUNIT[\"metre\",1],\n",
      "            ID[\"EPSG\",8807]]],\n",
      "    CS[Cartesian,2],\n",
      "        AXIS[\"(E)\",east,\n",
      "            ORDER[1],\n",
      "            LENGTHUNIT[\"metre\",1]],\n",
      "        AXIS[\"(N)\",north,\n",
      "            ORDER[2],\n",
      "            LENGTHUNIT[\"metre\",1]],\n",
      "    USAGE[\n",
      "        SCOPE[\"Engineering survey, topographic mapping.\"],\n",
      "        AREA[\"United States (USA) - between 156°W and 150°W onshore - Hawaii.\"],\n",
      "        BBOX[18.87,-156,20.86,-154.74]],\n",
      "    ID[\"EPSG\",6635]]\n"
     ]
    }
   ],
   "source": [
    "! projinfo EPSG:6635"
   ]
  },
  {
   "cell_type": "code",
   "execution_count": 7,
   "id": "2efb67ec-9ead-4ada-b9e1-e47f31bdcf59",
   "metadata": {
    "editable": true,
    "slideshow": {
     "slide_type": ""
    },
    "tags": []
   },
   "outputs": [
    {
     "name": "stdout",
     "output_type": "stream",
     "text": [
      "PROJ.4 string:\n",
      "+proj=longlat +ellps=GRS80 +no_defs +type=crs\n",
      "\n",
      "WKT2:2019 string:\n",
      "GEOGCRS[\"NAD83(PA11)\",\n",
      "    DATUM[\"NAD83 (National Spatial Reference System PA11)\",\n",
      "        ELLIPSOID[\"GRS 1980\",6378137,298.257222101,\n",
      "            LENGTHUNIT[\"metre\",1]]],\n",
      "    PRIMEM[\"Greenwich\",0,\n",
      "        ANGLEUNIT[\"degree\",0.0174532925199433]],\n",
      "    CS[ellipsoidal,3],\n",
      "        AXIS[\"geodetic latitude (Lat)\",north,\n",
      "            ORDER[1],\n",
      "            ANGLEUNIT[\"degree\",0.0174532925199433]],\n",
      "        AXIS[\"geodetic longitude (Lon)\",east,\n",
      "            ORDER[2],\n",
      "            ANGLEUNIT[\"degree\",0.0174532925199433]],\n",
      "        AXIS[\"ellipsoidal height (h)\",up,\n",
      "            ORDER[3],\n",
      "            LENGTHUNIT[\"metre\",1]],\n",
      "    USAGE[\n",
      "        SCOPE[\"Geodesy.\"],\n",
      "        AREA[\"American Samoa, Marshall Islands, United States (USA) - Hawaii, United States minor outlying islands; onshore and offshore.\"],\n",
      "        BBOX[-17.56,157.47,31.8,-151.27]],\n",
      "    ID[\"EPSG\",6321]]\n"
     ]
    }
   ],
   "source": [
    "!projinfo EPSG:6321"
   ]
  },
  {
   "cell_type": "code",
   "execution_count": 12,
   "id": "ac2f8f6a-6eae-4f61-bb21-ffe651b7d581",
   "metadata": {},
   "outputs": [
    {
     "name": "stdout",
     "output_type": "stream",
     "text": [
      "PROJ.4 string:\n",
      "+proj=utm +zone=5 +ellps=GRS80 +units=m +no_defs +type=crs\n",
      "\n",
      "WKT2:2019 string:\n",
      "PROJCRS[\"NAD83(PA11) / UTM zone 5N\",\n",
      "    BASEGEOGCRS[\"NAD83(PA11)\",\n",
      "        DATUM[\"NAD83 (National Spatial Reference System PA11)\",\n",
      "            ELLIPSOID[\"GRS 1980\",6378137,298.257222101,\n",
      "                LENGTHUNIT[\"metre\",1]]],\n",
      "        PRIMEM[\"Greenwich\",0,\n",
      "            ANGLEUNIT[\"degree\",0.0174532925199433]],\n",
      "        ID[\"EPSG\",6321]],\n",
      "    CONVERSION[\"UTM zone 5N\",\n",
      "        METHOD[\"Transverse Mercator\",\n",
      "            ID[\"EPSG\",9807]],\n",
      "        PARAMETER[\"Latitude of natural origin\",0,\n",
      "            ANGLEUNIT[\"degree\",0.0174532925199433],\n",
      "            ID[\"EPSG\",8801]],\n",
      "        PARAMETER[\"Longitude of natural origin\",-153,\n",
      "            ANGLEUNIT[\"degree\",0.0174532925199433],\n",
      "            ID[\"EPSG\",8802]],\n",
      "        PARAMETER[\"Scale factor at natural origin\",0.9996,\n",
      "            SCALEUNIT[\"unity\",1],\n",
      "            ID[\"EPSG\",8805]],\n",
      "        PARAMETER[\"False easting\",500000,\n",
      "            LENGTHUNIT[\"metre\",1],\n",
      "            ID[\"EPSG\",8806]],\n",
      "        PARAMETER[\"False northing\",0,\n",
      "            LENGTHUNIT[\"metre\",1],\n",
      "            ID[\"EPSG\",8807]],\n",
      "        ID[\"EPSG\",16005]],\n",
      "    CS[Cartesian,3],\n",
      "        AXIS[\"(E)\",east,\n",
      "            ORDER[1],\n",
      "            LENGTHUNIT[\"metre\",1,\n",
      "                ID[\"EPSG\",9001]]],\n",
      "        AXIS[\"(N)\",north,\n",
      "            ORDER[2],\n",
      "            LENGTHUNIT[\"metre\",1,\n",
      "                ID[\"EPSG\",9001]]],\n",
      "        AXIS[\"ellipsoidal height (h)\",up,\n",
      "            ORDER[3],\n",
      "            LENGTHUNIT[\"metre\",1,\n",
      "                ID[\"EPSG\",9001]]],\n",
      "    USAGE[\n",
      "        SCOPE[\"unknown\"],\n",
      "        AREA[\"United States (USA) - between 156°W and 150°W onshore - Hawaii.\"],\n",
      "        BBOX[18.87,-156,20.86,-154.74]],\n",
      "    REMARK[\"Promoted to 3D from EPSG:6635\"]]\n"
     ]
    }
   ],
   "source": [
    "! projinfo EPSG:6635 --3d"
   ]
  },
  {
   "cell_type": "code",
   "execution_count": 8,
   "id": "c1abf27d-2ea8-4393-95fc-c9f6c10947e6",
   "metadata": {
    "editable": true,
    "slideshow": {
     "slide_type": ""
    },
    "tags": []
   },
   "outputs": [
    {
     "name": "stdout",
     "output_type": "stream",
     "text": [
      "Candidate operations found: 1\n",
      "-------------------------------------\n",
      "Operation No. 1:\n",
      "\n",
      "unknown id, Inverse of UTM zone 5N + Null geographic offset from NAD83(PA11) (geog2D) to NAD83(PA11) (geog3D), 0 m, American Samoa, Marshall Islands, United States (USA) - Hawaii, United States minor outlying islands; onshore and offshore.\n",
      "\n",
      "PROJ string:\n",
      "+proj=pipeline\n",
      "  +step +inv +proj=utm +zone=5 +ellps=GRS80\n",
      "  +step +proj=unitconvert +xy_in=rad +z_in=m +xy_out=deg +z_out=m\n",
      "  +step +proj=axisswap +order=2,1\n",
      "\n",
      "WKT2:2019 string:\n",
      "CONCATENATEDOPERATION[\"Inverse of UTM zone 5N + Null geographic offset from NAD83(PA11) (geog2D) to NAD83(PA11) (geog3D)\",\n",
      "    SOURCECRS[\n",
      "        PROJCRS[\"NAD83(PA11) / UTM zone 5N\",\n",
      "            BASEGEOGCRS[\"NAD83(PA11)\",\n",
      "                DATUM[\"NAD83 (National Spatial Reference System PA11)\",\n",
      "                    ELLIPSOID[\"GRS 1980\",6378137,298.257222101,\n",
      "                        LENGTHUNIT[\"metre\",1]]],\n",
      "                PRIMEM[\"Greenwich\",0,\n",
      "                    ANGLEUNIT[\"degree\",0.0174532925199433]],\n",
      "                ID[\"EPSG\",6322]],\n",
      "            CONVERSION[\"UTM zone 5N\",\n",
      "                METHOD[\"Transverse Mercator\",\n",
      "                    ID[\"EPSG\",9807]],\n",
      "                PARAMETER[\"Latitude of natural origin\",0,\n",
      "                    ANGLEUNIT[\"degree\",0.0174532925199433],\n",
      "                    ID[\"EPSG\",8801]],\n",
      "                PARAMETER[\"Longitude of natural origin\",-153,\n",
      "                    ANGLEUNIT[\"degree\",0.0174532925199433],\n",
      "                    ID[\"EPSG\",8802]],\n",
      "                PARAMETER[\"Scale factor at natural origin\",0.9996,\n",
      "                    SCALEUNIT[\"unity\",1],\n",
      "                    ID[\"EPSG\",8805]],\n",
      "                PARAMETER[\"False easting\",500000,\n",
      "                    LENGTHUNIT[\"metre\",1],\n",
      "                    ID[\"EPSG\",8806]],\n",
      "                PARAMETER[\"False northing\",0,\n",
      "                    LENGTHUNIT[\"metre\",1],\n",
      "                    ID[\"EPSG\",8807]]],\n",
      "            CS[Cartesian,2],\n",
      "                AXIS[\"(E)\",east,\n",
      "                    ORDER[1],\n",
      "                    LENGTHUNIT[\"metre\",1]],\n",
      "                AXIS[\"(N)\",north,\n",
      "                    ORDER[2],\n",
      "                    LENGTHUNIT[\"metre\",1]],\n",
      "            ID[\"EPSG\",6635]]],\n",
      "    TARGETCRS[\n",
      "        GEOGCRS[\"NAD83(PA11)\",\n",
      "            DATUM[\"NAD83 (National Spatial Reference System PA11)\",\n",
      "                ELLIPSOID[\"GRS 1980\",6378137,298.257222101,\n",
      "                    LENGTHUNIT[\"metre\",1]]],\n",
      "            PRIMEM[\"Greenwich\",0,\n",
      "                ANGLEUNIT[\"degree\",0.0174532925199433]],\n",
      "            CS[ellipsoidal,3],\n",
      "                AXIS[\"geodetic latitude (Lat)\",north,\n",
      "                    ORDER[1],\n",
      "                    ANGLEUNIT[\"degree\",0.0174532925199433]],\n",
      "                AXIS[\"geodetic longitude (Lon)\",east,\n",
      "                    ORDER[2],\n",
      "                    ANGLEUNIT[\"degree\",0.0174532925199433]],\n",
      "                AXIS[\"ellipsoidal height (h)\",up,\n",
      "                    ORDER[3],\n",
      "                    LENGTHUNIT[\"metre\",1]],\n",
      "            ID[\"EPSG\",6321]]],\n",
      "    STEP[\n",
      "        CONVERSION[\"Inverse of UTM zone 5N\",\n",
      "            METHOD[\"Inverse of Transverse Mercator\",\n",
      "                ID[\"INVERSE(EPSG)\",9807]],\n",
      "            PARAMETER[\"Latitude of natural origin\",0,\n",
      "                ANGLEUNIT[\"degree\",0.0174532925199433],\n",
      "                ID[\"EPSG\",8801]],\n",
      "            PARAMETER[\"Longitude of natural origin\",-153,\n",
      "                ANGLEUNIT[\"degree\",0.0174532925199433],\n",
      "                ID[\"EPSG\",8802]],\n",
      "            PARAMETER[\"Scale factor at natural origin\",0.9996,\n",
      "                SCALEUNIT[\"unity\",1],\n",
      "                ID[\"EPSG\",8805]],\n",
      "            PARAMETER[\"False easting\",500000,\n",
      "                LENGTHUNIT[\"metre\",1],\n",
      "                ID[\"EPSG\",8806]],\n",
      "            PARAMETER[\"False northing\",0,\n",
      "                LENGTHUNIT[\"metre\",1],\n",
      "                ID[\"EPSG\",8807]],\n",
      "            ID[\"INVERSE(EPSG)\",16005]]],\n",
      "    STEP[\n",
      "        COORDINATEOPERATION[\"Null geographic offset from NAD83(PA11) (geog2D) to NAD83(PA11) (geog3D)\",\n",
      "            SOURCECRS[\n",
      "                GEOGCRS[\"NAD83(PA11)\",\n",
      "                    DATUM[\"NAD83 (National Spatial Reference System PA11)\",\n",
      "                        ELLIPSOID[\"GRS 1980\",6378137,298.257222101,\n",
      "                            LENGTHUNIT[\"metre\",1]]],\n",
      "                    PRIMEM[\"Greenwich\",0,\n",
      "                        ANGLEUNIT[\"degree\",0.0174532925199433]],\n",
      "                    CS[ellipsoidal,2],\n",
      "                        AXIS[\"geodetic latitude (Lat)\",north,\n",
      "                            ORDER[1],\n",
      "                            ANGLEUNIT[\"degree\",0.0174532925199433]],\n",
      "                        AXIS[\"geodetic longitude (Lon)\",east,\n",
      "                            ORDER[2],\n",
      "                            ANGLEUNIT[\"degree\",0.0174532925199433]],\n",
      "                    ID[\"EPSG\",6322]]],\n",
      "            TARGETCRS[\n",
      "                GEOGCRS[\"NAD83(PA11)\",\n",
      "                    DATUM[\"NAD83 (National Spatial Reference System PA11)\",\n",
      "                        ELLIPSOID[\"GRS 1980\",6378137,298.257222101,\n",
      "                            LENGTHUNIT[\"metre\",1]]],\n",
      "                    PRIMEM[\"Greenwich\",0,\n",
      "                        ANGLEUNIT[\"degree\",0.0174532925199433]],\n",
      "                    CS[ellipsoidal,3],\n",
      "                        AXIS[\"geodetic latitude (Lat)\",north,\n",
      "                            ORDER[1],\n",
      "                            ANGLEUNIT[\"degree\",0.0174532925199433]],\n",
      "                        AXIS[\"geodetic longitude (Lon)\",east,\n",
      "                            ORDER[2],\n",
      "                            ANGLEUNIT[\"degree\",0.0174532925199433]],\n",
      "                        AXIS[\"ellipsoidal height (h)\",up,\n",
      "                            ORDER[3],\n",
      "                            LENGTHUNIT[\"metre\",1]],\n",
      "                    ID[\"EPSG\",6321]]],\n",
      "            METHOD[\"Geographic3D offsets\",\n",
      "                ID[\"EPSG\",9660]],\n",
      "            PARAMETER[\"Latitude offset\",0,\n",
      "                ANGLEUNIT[\"degree\",0.0174532925199433],\n",
      "                ID[\"EPSG\",8601]],\n",
      "            PARAMETER[\"Longitude offset\",0,\n",
      "                ANGLEUNIT[\"degree\",0.0174532925199433],\n",
      "                ID[\"EPSG\",8602]],\n",
      "            PARAMETER[\"Vertical Offset\",0,\n",
      "                LENGTHUNIT[\"metre\",1],\n",
      "                ID[\"EPSG\",8603]],\n",
      "            OPERATIONACCURACY[0]]],\n",
      "    OPERATIONACCURACY[0],\n",
      "    USAGE[\n",
      "        SCOPE[\"unknown\"],\n",
      "        AREA[\"American Samoa, Marshall Islands, United States (USA) - Hawaii, United States minor outlying islands; onshore and offshore.\"],\n",
      "        BBOX[-17.56,157.47,31.8,-151.27]]]\n"
     ]
    }
   ],
   "source": [
    "! projinfo -s EPSG:6635 -t EPSG:6321"
   ]
  },
  {
   "cell_type": "code",
   "execution_count": 9,
   "id": "4090af22-167e-4ad2-849b-4a8084872f0d",
   "metadata": {},
   "outputs": [
    {
     "name": "stdout",
     "output_type": "stream",
     "text": [
      "Candidate operations found: 1\n",
      "-------------------------------------\n",
      "Operation No. 1:\n",
      "\n",
      "unknown id, Conversion from NAD83(PA11) (geog3D) to NAD83(PA11) (geocentric) + Inverse of ITRF2014 to NAD83(PA11) (1) + Conversion from ITRF2014 (geocentric) to ITRF2014 (geog3D), 0 m, American Samoa, Marshall Islands, United States (USA) - Hawaii, United States minor outlying islands; onshore and offshore.\n",
      "\n",
      "PROJ string:\n",
      "+proj=pipeline\n",
      "  +step +proj=axisswap +order=2,1\n",
      "  +step +proj=unitconvert +xy_in=deg +z_in=m +xy_out=rad +z_out=m\n",
      "  +step +proj=cart +ellps=GRS80\n",
      "  +step +inv +proj=helmert +x=0.9109 +y=-2.0129 +z=-0.5863 +rx=0.022749\n",
      "        +ry=0.02656 +rz=-0.025706 +s=0.00212 +dx=0.0001 +dy=0.0001 +dz=-0.0019\n",
      "        +drx=-0.000384 +dry=0.001007 +drz=-0.002186 +ds=0.00011 +t_epoch=2010\n",
      "        +convention=coordinate_frame\n",
      "  +step +inv +proj=cart +ellps=GRS80\n",
      "  +step +proj=unitconvert +xy_in=rad +z_in=m +xy_out=deg +z_out=m\n",
      "  +step +proj=axisswap +order=2,1\n",
      "\n",
      "WKT2:2019 string:\n",
      "CONCATENATEDOPERATION[\"Conversion from NAD83(PA11) (geog3D) to NAD83(PA11) (geocentric) + Inverse of ITRF2014 to NAD83(PA11) (1) + Conversion from ITRF2014 (geocentric) to ITRF2014 (geog3D)\",\n",
      "    SOURCECRS[\n",
      "        GEOGCRS[\"NAD83(PA11)\",\n",
      "            DATUM[\"NAD83 (National Spatial Reference System PA11)\",\n",
      "                ELLIPSOID[\"GRS 1980\",6378137,298.257222101,\n",
      "                    LENGTHUNIT[\"metre\",1]]],\n",
      "            PRIMEM[\"Greenwich\",0,\n",
      "                ANGLEUNIT[\"degree\",0.0174532925199433]],\n",
      "            CS[ellipsoidal,3],\n",
      "                AXIS[\"geodetic latitude (Lat)\",north,\n",
      "                    ORDER[1],\n",
      "                    ANGLEUNIT[\"degree\",0.0174532925199433]],\n",
      "                AXIS[\"geodetic longitude (Lon)\",east,\n",
      "                    ORDER[2],\n",
      "                    ANGLEUNIT[\"degree\",0.0174532925199433]],\n",
      "                AXIS[\"ellipsoidal height (h)\",up,\n",
      "                    ORDER[3],\n",
      "                    LENGTHUNIT[\"metre\",1]],\n",
      "            ID[\"EPSG\",6321]]],\n",
      "    TARGETCRS[\n",
      "        GEOGCRS[\"ITRF2014\",\n",
      "            DYNAMIC[\n",
      "                FRAMEEPOCH[2010]],\n",
      "            DATUM[\"International Terrestrial Reference Frame 2014\",\n",
      "                ELLIPSOID[\"GRS 1980\",6378137,298.257222101,\n",
      "                    LENGTHUNIT[\"metre\",1]]],\n",
      "            PRIMEM[\"Greenwich\",0,\n",
      "                ANGLEUNIT[\"degree\",0.0174532925199433]],\n",
      "            CS[ellipsoidal,3],\n",
      "                AXIS[\"geodetic latitude (Lat)\",north,\n",
      "                    ORDER[1],\n",
      "                    ANGLEUNIT[\"degree\",0.0174532925199433]],\n",
      "                AXIS[\"geodetic longitude (Lon)\",east,\n",
      "                    ORDER[2],\n",
      "                    ANGLEUNIT[\"degree\",0.0174532925199433]],\n",
      "                AXIS[\"ellipsoidal height (h)\",up,\n",
      "                    ORDER[3],\n",
      "                    LENGTHUNIT[\"metre\",1]],\n",
      "            ID[\"EPSG\",7912]]],\n",
      "    STEP[\n",
      "        CONVERSION[\"Conversion from NAD83(PA11) (geog3D) to NAD83(PA11) (geocentric)\",\n",
      "            METHOD[\"Geographic/geocentric conversions\",\n",
      "                ID[\"EPSG\",9602]]]],\n",
      "    STEP[\n",
      "        COORDINATEOPERATION[\"Inverse of ITRF2014 to NAD83(PA11) (1) (approx. inversion)\",\n",
      "            SOURCECRS[\n",
      "                GEODCRS[\"NAD83(PA11)\",\n",
      "                    DATUM[\"NAD83 (National Spatial Reference System PA11)\",\n",
      "                        ELLIPSOID[\"GRS 1980\",6378137,298.257222101,\n",
      "                            LENGTHUNIT[\"metre\",1]]],\n",
      "                    PRIMEM[\"Greenwich\",0,\n",
      "                        ANGLEUNIT[\"degree\",0.0174532925199433]],\n",
      "                    CS[Cartesian,3],\n",
      "                        AXIS[\"(X)\",geocentricX,\n",
      "                            ORDER[1],\n",
      "                            LENGTHUNIT[\"metre\",1]],\n",
      "                        AXIS[\"(Y)\",geocentricY,\n",
      "                            ORDER[2],\n",
      "                            LENGTHUNIT[\"metre\",1]],\n",
      "                        AXIS[\"(Z)\",geocentricZ,\n",
      "                            ORDER[3],\n",
      "                            LENGTHUNIT[\"metre\",1]],\n",
      "                    ID[\"EPSG\",6320]]],\n",
      "            TARGETCRS[\n",
      "                GEODCRS[\"ITRF2014\",\n",
      "                    DYNAMIC[\n",
      "                        FRAMEEPOCH[2010]],\n",
      "                    DATUM[\"International Terrestrial Reference Frame 2014\",\n",
      "                        ELLIPSOID[\"GRS 1980\",6378137,298.257222101,\n",
      "                            LENGTHUNIT[\"metre\",1]]],\n",
      "                    PRIMEM[\"Greenwich\",0,\n",
      "                        ANGLEUNIT[\"degree\",0.0174532925199433]],\n",
      "                    CS[Cartesian,3],\n",
      "                        AXIS[\"(X)\",geocentricX,\n",
      "                            ORDER[1],\n",
      "                            LENGTHUNIT[\"metre\",1]],\n",
      "                        AXIS[\"(Y)\",geocentricY,\n",
      "                            ORDER[2],\n",
      "                            LENGTHUNIT[\"metre\",1]],\n",
      "                        AXIS[\"(Z)\",geocentricZ,\n",
      "                            ORDER[3],\n",
      "                            LENGTHUNIT[\"metre\",1]],\n",
      "                    ID[\"EPSG\",7789]]],\n",
      "            METHOD[\"Time-dependent Coordinate Frame rotation (geocen)\",\n",
      "                ID[\"EPSG\",1056]],\n",
      "            PARAMETER[\"X-axis translation\",-0.9109,\n",
      "                LENGTHUNIT[\"metre\",1],\n",
      "                ID[\"EPSG\",8605]],\n",
      "            PARAMETER[\"Y-axis translation\",2.0129,\n",
      "                LENGTHUNIT[\"metre\",1],\n",
      "                ID[\"EPSG\",8606]],\n",
      "            PARAMETER[\"Z-axis translation\",0.5863,\n",
      "                LENGTHUNIT[\"metre\",1],\n",
      "                ID[\"EPSG\",8607]],\n",
      "            PARAMETER[\"X-axis rotation\",-0.022749,\n",
      "                ANGLEUNIT[\"arc-second\",4.84813681109536E-06],\n",
      "                ID[\"EPSG\",8608]],\n",
      "            PARAMETER[\"Y-axis rotation\",-0.02656,\n",
      "                ANGLEUNIT[\"arc-second\",4.84813681109536E-06],\n",
      "                ID[\"EPSG\",8609]],\n",
      "            PARAMETER[\"Z-axis rotation\",0.025706,\n",
      "                ANGLEUNIT[\"arc-second\",4.84813681109536E-06],\n",
      "                ID[\"EPSG\",8610]],\n",
      "            PARAMETER[\"Scale difference\",-0.00212,\n",
      "                SCALEUNIT[\"parts per million\",1E-06],\n",
      "                ID[\"EPSG\",8611]],\n",
      "            PARAMETER[\"Rate of change of X-axis translation\",-0.0001,\n",
      "                LENGTHUNIT[\"metres per year\",3.16887651727315E-08],\n",
      "                ID[\"EPSG\",1040]],\n",
      "            PARAMETER[\"Rate of change of Y-axis translation\",-0.0001,\n",
      "                LENGTHUNIT[\"metres per year\",3.16887651727315E-08],\n",
      "                ID[\"EPSG\",1041]],\n",
      "            PARAMETER[\"Rate of change of Z-axis translation\",0.0019,\n",
      "                LENGTHUNIT[\"metres per year\",3.16887651727315E-08],\n",
      "                ID[\"EPSG\",1042]],\n",
      "            PARAMETER[\"Rate of change of X-axis rotation\",0.000384,\n",
      "                ANGLEUNIT[\"arc-seconds per year\",1.53631468932076E-13],\n",
      "                ID[\"EPSG\",1043]],\n",
      "            PARAMETER[\"Rate of change of Y-axis rotation\",-0.001007,\n",
      "                ANGLEUNIT[\"arc-seconds per year\",1.53631468932076E-13],\n",
      "                ID[\"EPSG\",1044]],\n",
      "            PARAMETER[\"Rate of change of Z-axis rotation\",0.002186,\n",
      "                ANGLEUNIT[\"arc-seconds per year\",1.53631468932076E-13],\n",
      "                ID[\"EPSG\",1045]],\n",
      "            PARAMETER[\"Rate of change of Scale difference\",-0.00011,\n",
      "                SCALEUNIT[\"parts per million per year\",3.16887651727315E-14],\n",
      "                ID[\"EPSG\",1046]],\n",
      "            PARAMETER[\"Parameter reference epoch\",2010,\n",
      "                TIMEUNIT[\"year\",31556925.445],\n",
      "                ID[\"EPSG\",1047]],\n",
      "            OPERATIONACCURACY[0.0],\n",
      "            ID[\"INVERSE(EPSG)\",10335]]],\n",
      "    STEP[\n",
      "        CONVERSION[\"Conversion from ITRF2014 (geocentric) to ITRF2014 (geog3D)\",\n",
      "            METHOD[\"Geographic/geocentric conversions\",\n",
      "                ID[\"EPSG\",9602]]]],\n",
      "    OPERATIONACCURACY[0],\n",
      "    USAGE[\n",
      "        SCOPE[\"unknown\"],\n",
      "        AREA[\"American Samoa, Marshall Islands, United States (USA) - Hawaii, United States minor outlying islands; onshore and offshore.\"],\n",
      "        BBOX[-17.56,157.47,31.8,-151.27]]]\n"
     ]
    }
   ],
   "source": [
    "! projinfo -s EPSG:6321 -t "
   ]
  },
  {
   "cell_type": "code",
   "execution_count": 10,
   "id": "9a979236-654f-4a89-8cdf-abbd0ad7d751",
   "metadata": {
    "editable": true,
    "slideshow": {
     "slide_type": ""
    },
    "tags": []
   },
   "outputs": [
    {
     "name": "stdout",
     "output_type": "stream",
     "text": [
      "Creating output file that is 13905P x 13862L.\n",
      "Using internal nodata values (e.g. 3.4e+38) for image MaunaLoa_3DEP.tif.\n",
      "Copying nodata values from source MaunaLoa_3DEP.tif to destination test_6321.tif.\n",
      "Processing MaunaLoa_3DEP.tif [1/1] : 0...10...20...30...40...50...60...70...80...90...100 - done.\n"
     ]
    }
   ],
   "source": [
    "!gdalwarp $ml_lidar_fn test_6321.tif -s_srs EPSG:6635 -t_srs EPSG:6321\n",
    "#this does not apply a vertical shift"
   ]
  },
  {
   "cell_type": "code",
   "execution_count": null,
   "id": "5fc9c7d0-0668-47a5-9c54-d3e19967584b",
   "metadata": {
    "editable": true,
    "slideshow": {
     "slide_type": ""
    },
    "tags": []
   },
   "outputs": [],
   "source": [
    "pipeline_with_vertical_shift = '''+proj=pipeline \n",
    "    +step +proj=axisswap +order=2,1 \n",
    "    +step +proj=unitconvert +xy_in=deg +xy_out=rad \n",
    "    +step +proj=gridshift +grids=us_noaa_nadcon5_nad83_1986_nad83_1993_hawaii.tif \n",
    "    +step +proj=gridshift +grids=us_noaa_nadcon5_nad83_1993_nad83_pa11_hawaii.tif  \n",
    "    +step +proj=vgridshift +grids=us_noaa_g2012bh0.tif +multiplier=1 \n",
    "    +step +proj=cart +ellps=GRS80 \n",
    "    +step +inv +proj=helmert +x=0.9109 +y=-2.0129 +z=-0.5863 +rx=0.022749 +ry=0.02656\n",
    "    +rz=-0.025706 +s=0.00212 +dx=0.0001 +dy=0.0001 +dz=-0.0019 +drx=-0.000384 \n",
    "    +dry=0.001007 +drz=-0.002186 +ds=0.00011 +t_epoch=2010 +convention=coordinate_frame \n",
    "    +step +inv +proj=cart +ellps=GRS80 \n",
    "    +step +proj=unitconvert +xy_in=rad +xy_out=deg +step +proj=axisswap +order=2,1'''"
   ]
  },
  {
   "cell_type": "markdown",
   "id": "2498054b-e1e8-4d9b-ad4f-b2c3d316ff48",
   "metadata": {
    "editable": true,
    "slideshow": {
     "slide_type": ""
    },
    "tags": []
   },
   "source": [
    "`PROJ string:\n",
    "+proj=pipeline\n",
    "  +step +inv +proj=utm +zone=5 +ellps=GRS80\n",
    "  +step +proj=vgridshift +grids=us_noaa_g2012bh0.tif +multiplier=1\n",
    "  +step +proj=unitconvert +xy_in=rad +z_in=m +xy_out=deg +z_out=m\n",
    "  +step +proj=axisswap +order=2,1`\n",
    "\n"
   ]
  },
  {
   "cell_type": "code",
   "execution_count": 14,
   "id": "7a6a6a38-1260-405d-bc5a-8555f65868ab",
   "metadata": {
    "editable": true,
    "slideshow": {
     "slide_type": ""
    },
    "tags": []
   },
   "outputs": [
    {
     "name": "stdout",
     "output_type": "stream",
     "text": [
      "COP30_E_temp.tif.aux.xml        MaunaLoa_3DEP.tif\n",
      "COP30_E.tif                     ML_LIDAR_MaunaLoa_3DEP_4269_diff.tif\n",
      "COP30_E.tif.aux.xml             ML_LIDAR.tif\n",
      "MaunaLoa_3DEP_4269.tif          SulphurCone_3DEP.tif\n",
      "MaunaLoa_3DEP_7912.tif          test_6321.tif\n",
      "MaunaLoa_3DEP_7912.tif.aux.xml  test_6321.tif.aux.xml\n"
     ]
    }
   ],
   "source": [
    "ls"
   ]
  },
  {
   "cell_type": "code",
   "execution_count": 21,
   "id": "b1471451-4a82-42b4-8c6e-bb9c0848952d",
   "metadata": {
    "editable": true,
    "slideshow": {
     "slide_type": ""
    },
    "tags": []
   },
   "outputs": [
    {
     "name": "stdout",
     "output_type": "stream",
     "text": [
      "Creating output file that is 13905P x 13862L.\n",
      "Using internal nodata values (e.g. 3.4e+38) for image MaunaLoa_3DEP.tif.\n",
      "Copying nodata values from source MaunaLoa_3DEP.tif to destination MaunaLoa_3DEP_6321.tif.\n",
      "Processing MaunaLoa_3DEP.tif [1/1] : 0...10...20...30...40...50...60...70...80...90...100 - done.\n"
     ]
    }
   ],
   "source": [
    "%%bash\n",
    "PROJ_PIPELINE='+proj=pipeline +step +inv +proj=utm +zone=5 +ellps=GRS80 +step +proj=vgridshift +grids=us_noaa_g2012bh0.tif +multiplier=1 +step +proj=unitconvert +xy_in=rad +z_in=m +xy_out=deg +z_out=m +step +proj=axisswap +order=2,1'\n",
    "INPUT=MaunaLoa_3DEP.tif\n",
    "OUTPUT=MaunaLoa_3DEP_6321.tif\n",
    "CPL_DEBUG=OFF PROJ_DEBUG=2 \\\n",
    " PROJ_NETWORK=ON \\\n",
    " GDAL_DISABLE_READDIR_ON_OPEN=EMPTY_DIR \\\n",
    " gdalwarp -overwrite -wm 500 -r bilinear \\\n",
    "    -co BLOCKXSIZE=128 -co BLOCKYSIZE=128 \\\n",
    "    -s_srs EPSG:6635+5703 -t_srs EPSG:6321 \\\n",
    "    -ct \"${PROJ_PIPELINE}\" \\\n",
    "    ${INPUT} ${OUTPUT}"
   ]
  },
  {
   "cell_type": "markdown",
   "id": "c6dea6bb-020d-44ad-a89b-3906ad613f3e",
   "metadata": {},
   "source": [
    "***************\n",
    "\n",
    "This actually applies the vertical geoid to ellipsoid conversion\n",
    "\n",
    "***************"
   ]
  },
  {
   "cell_type": "code",
   "execution_count": 20,
   "id": "efb24bc3-8b7b-4c6d-8e74-e5cf5b69326b",
   "metadata": {
    "editable": true,
    "slideshow": {
     "slide_type": ""
    },
    "tags": []
   },
   "outputs": [
    {
     "name": "stdout",
     "output_type": "stream",
     "text": [
      "Candidate operations found: 1\n",
      "-------------------------------------\n",
      "Operation No. 1:\n",
      "\n",
      "unknown id, Conversion from NAD83(PA11) (geog3D) to NAD83(PA11) (geocentric) + Inverse of ITRF2014 to NAD83(PA11) (1) + Inverse of WGS 84 (G2139) to ITRF2014 (1) + Conversion from WGS 84 (G2139) (geocentric) to WGS 84 (G2139) (geog3D) + UTM zone 05N, 0.01 m, American Samoa, Marshall Islands, United States (USA) - Hawaii, United States minor outlying islands; onshore and offshore.\n",
      "\n",
      "PROJ string:\n",
      "+proj=pipeline\n",
      "  +step +proj=axisswap +order=2,1\n",
      "  +step +proj=unitconvert +xy_in=deg +z_in=m +xy_out=rad +z_out=m\n",
      "  +step +proj=cart +ellps=GRS80\n",
      "  +step +inv +proj=helmert +x=0.9109 +y=-2.0129 +z=-0.5863 +rx=0.022749\n",
      "        +ry=0.02656 +rz=-0.025706 +s=0.00212 +dx=0.0001 +dy=0.0001 +dz=-0.0019\n",
      "        +drx=-0.000384 +dry=0.001007 +drz=-0.002186 +ds=0.00011 +t_epoch=2010\n",
      "        +convention=coordinate_frame\n",
      "  +step +inv +proj=cart +ellps=WGS84\n",
      "  +step +proj=utm +zone=5 +ellps=WGS84\n",
      "\n",
      "WKT2:2019 string:\n",
      "CONCATENATEDOPERATION[\"Conversion from NAD83(PA11) (geog3D) to NAD83(PA11) (geocentric) + Inverse of ITRF2014 to NAD83(PA11) (1) + Inverse of WGS 84 (G2139) to ITRF2014 (1) + Conversion from WGS 84 (G2139) (geocentric) to WGS 84 (G2139) (geog3D) + UTM zone 05N\",\n",
      "    SOURCECRS[\n",
      "        GEOGCRS[\"NAD83(PA11)\",\n",
      "            DATUM[\"NAD83 (National Spatial Reference System PA11)\",\n",
      "                ELLIPSOID[\"GRS 1980\",6378137,298.257222101,\n",
      "                    LENGTHUNIT[\"metre\",1]]],\n",
      "            PRIMEM[\"Greenwich\",0,\n",
      "                ANGLEUNIT[\"degree\",0.0174532925199433]],\n",
      "            CS[ellipsoidal,3],\n",
      "                AXIS[\"geodetic latitude (Lat)\",north,\n",
      "                    ORDER[1],\n",
      "                    ANGLEUNIT[\"degree\",0.0174532925199433]],\n",
      "                AXIS[\"geodetic longitude (Lon)\",east,\n",
      "                    ORDER[2],\n",
      "                    ANGLEUNIT[\"degree\",0.0174532925199433]],\n",
      "                AXIS[\"ellipsoidal height (h)\",up,\n",
      "                    ORDER[3],\n",
      "                    LENGTHUNIT[\"metre\",1]],\n",
      "            ID[\"EPSG\",6321]]],\n",
      "    TARGETCRS[\n",
      "        PROJCRS[\"WGS 84 (G2139) / UTM 05N\",\n",
      "            BASEGEOGCRS[\"WGS 84 (G2139)\",\n",
      "                DYNAMIC[\n",
      "                    FRAMEEPOCH[2016]],\n",
      "                DATUM[\"World Geodetic System 1984 (G2139)\",\n",
      "                    ELLIPSOID[\"WGS 84\",6378137,298.257223563,\n",
      "                        LENGTHUNIT[\"metre\",1]]],\n",
      "                PRIMEM[\"Greenwich\",0,\n",
      "                    ANGLEUNIT[\"degree\",0.0174532925199433]],\n",
      "                ID[\"EPSG\",9754]],\n",
      "            CONVERSION[\"UTM zone 05N\",\n",
      "                METHOD[\"Transverse Mercator\",\n",
      "                    ID[\"EPSG\",9807]],\n",
      "                PARAMETER[\"Latitude of natural origin\",0,\n",
      "                    ANGLEUNIT[\"degree\",0.0174532925199433],\n",
      "                    ID[\"EPSG\",8801]],\n",
      "                PARAMETER[\"Longitude of natural origin\",-153,\n",
      "                    ANGLEUNIT[\"degree\",0.0174532925199433],\n",
      "                    ID[\"EPSG\",8802]],\n",
      "                PARAMETER[\"Scale factor at natural origin\",0.9996,\n",
      "                    SCALEUNIT[\"unity\",1],\n",
      "                    ID[\"EPSG\",8805]],\n",
      "                PARAMETER[\"False easting\",500000,\n",
      "                    LENGTHUNIT[\"metre\",1],\n",
      "                    ID[\"EPSG\",8806]],\n",
      "                PARAMETER[\"False northing\",0,\n",
      "                    LENGTHUNIT[\"metre\",1],\n",
      "                    ID[\"EPSG\",8807]]],\n",
      "            CS[Cartesian,3],\n",
      "                AXIS[\"(E)\",north,\n",
      "                    MERIDIAN[90,\n",
      "                        ANGLEUNIT[\"degree\",0.0174532925199433]],\n",
      "                    ORDER[1],\n",
      "                    LENGTHUNIT[\"metre\",1]],\n",
      "                AXIS[\"(N)\",north,\n",
      "                    MERIDIAN[0,\n",
      "                        ANGLEUNIT[\"degree\",0.0174532925199433]],\n",
      "                    ORDER[2],\n",
      "                    LENGTHUNIT[\"metre\",1]],\n",
      "                AXIS[\"ellipsoidal height (h)\",up,\n",
      "                    ORDER[3],\n",
      "                    LENGTHUNIT[\"metre\",1,\n",
      "                        ID[\"EPSG\",9001]]]]],\n",
      "    STEP[\n",
      "        CONVERSION[\"Conversion from NAD83(PA11) (geog3D) to NAD83(PA11) (geocentric)\",\n",
      "            METHOD[\"Geographic/geocentric conversions\",\n",
      "                ID[\"EPSG\",9602]]]],\n",
      "    STEP[\n",
      "        COORDINATEOPERATION[\"Inverse of ITRF2014 to NAD83(PA11) (1) (approx. inversion)\",\n",
      "            SOURCECRS[\n",
      "                GEODCRS[\"NAD83(PA11)\",\n",
      "                    DATUM[\"NAD83 (National Spatial Reference System PA11)\",\n",
      "                        ELLIPSOID[\"GRS 1980\",6378137,298.257222101,\n",
      "                            LENGTHUNIT[\"metre\",1]]],\n",
      "                    PRIMEM[\"Greenwich\",0,\n",
      "                        ANGLEUNIT[\"degree\",0.0174532925199433]],\n",
      "                    CS[Cartesian,3],\n",
      "                        AXIS[\"(X)\",geocentricX,\n",
      "                            ORDER[1],\n",
      "                            LENGTHUNIT[\"metre\",1]],\n",
      "                        AXIS[\"(Y)\",geocentricY,\n",
      "                            ORDER[2],\n",
      "                            LENGTHUNIT[\"metre\",1]],\n",
      "                        AXIS[\"(Z)\",geocentricZ,\n",
      "                            ORDER[3],\n",
      "                            LENGTHUNIT[\"metre\",1]],\n",
      "                    ID[\"EPSG\",6320]]],\n",
      "            TARGETCRS[\n",
      "                GEODCRS[\"ITRF2014\",\n",
      "                    DYNAMIC[\n",
      "                        FRAMEEPOCH[2010]],\n",
      "                    DATUM[\"International Terrestrial Reference Frame 2014\",\n",
      "                        ELLIPSOID[\"GRS 1980\",6378137,298.257222101,\n",
      "                            LENGTHUNIT[\"metre\",1]]],\n",
      "                    PRIMEM[\"Greenwich\",0,\n",
      "                        ANGLEUNIT[\"degree\",0.0174532925199433]],\n",
      "                    CS[Cartesian,3],\n",
      "                        AXIS[\"(X)\",geocentricX,\n",
      "                            ORDER[1],\n",
      "                            LENGTHUNIT[\"metre\",1]],\n",
      "                        AXIS[\"(Y)\",geocentricY,\n",
      "                            ORDER[2],\n",
      "                            LENGTHUNIT[\"metre\",1]],\n",
      "                        AXIS[\"(Z)\",geocentricZ,\n",
      "                            ORDER[3],\n",
      "                            LENGTHUNIT[\"metre\",1]],\n",
      "                    ID[\"EPSG\",7789]]],\n",
      "            METHOD[\"Time-dependent Coordinate Frame rotation (geocen)\",\n",
      "                ID[\"EPSG\",1056]],\n",
      "            PARAMETER[\"X-axis translation\",-0.9109,\n",
      "                LENGTHUNIT[\"metre\",1],\n",
      "                ID[\"EPSG\",8605]],\n",
      "            PARAMETER[\"Y-axis translation\",2.0129,\n",
      "                LENGTHUNIT[\"metre\",1],\n",
      "                ID[\"EPSG\",8606]],\n",
      "            PARAMETER[\"Z-axis translation\",0.5863,\n",
      "                LENGTHUNIT[\"metre\",1],\n",
      "                ID[\"EPSG\",8607]],\n",
      "            PARAMETER[\"X-axis rotation\",-0.022749,\n",
      "                ANGLEUNIT[\"arc-second\",4.84813681109536E-06],\n",
      "                ID[\"EPSG\",8608]],\n",
      "            PARAMETER[\"Y-axis rotation\",-0.02656,\n",
      "                ANGLEUNIT[\"arc-second\",4.84813681109536E-06],\n",
      "                ID[\"EPSG\",8609]],\n",
      "            PARAMETER[\"Z-axis rotation\",0.025706,\n",
      "                ANGLEUNIT[\"arc-second\",4.84813681109536E-06],\n",
      "                ID[\"EPSG\",8610]],\n",
      "            PARAMETER[\"Scale difference\",-0.00212,\n",
      "                SCALEUNIT[\"parts per million\",1E-06],\n",
      "                ID[\"EPSG\",8611]],\n",
      "            PARAMETER[\"Rate of change of X-axis translation\",-0.0001,\n",
      "                LENGTHUNIT[\"metres per year\",3.16887651727315E-08],\n",
      "                ID[\"EPSG\",1040]],\n",
      "            PARAMETER[\"Rate of change of Y-axis translation\",-0.0001,\n",
      "                LENGTHUNIT[\"metres per year\",3.16887651727315E-08],\n",
      "                ID[\"EPSG\",1041]],\n",
      "            PARAMETER[\"Rate of change of Z-axis translation\",0.0019,\n",
      "                LENGTHUNIT[\"metres per year\",3.16887651727315E-08],\n",
      "                ID[\"EPSG\",1042]],\n",
      "            PARAMETER[\"Rate of change of X-axis rotation\",0.000384,\n",
      "                ANGLEUNIT[\"arc-seconds per year\",1.53631468932076E-13],\n",
      "                ID[\"EPSG\",1043]],\n",
      "            PARAMETER[\"Rate of change of Y-axis rotation\",-0.001007,\n",
      "                ANGLEUNIT[\"arc-seconds per year\",1.53631468932076E-13],\n",
      "                ID[\"EPSG\",1044]],\n",
      "            PARAMETER[\"Rate of change of Z-axis rotation\",0.002186,\n",
      "                ANGLEUNIT[\"arc-seconds per year\",1.53631468932076E-13],\n",
      "                ID[\"EPSG\",1045]],\n",
      "            PARAMETER[\"Rate of change of Scale difference\",-0.00011,\n",
      "                SCALEUNIT[\"parts per million per year\",3.16887651727315E-14],\n",
      "                ID[\"EPSG\",1046]],\n",
      "            PARAMETER[\"Parameter reference epoch\",2010,\n",
      "                TIMEUNIT[\"year\",31556925.445],\n",
      "                ID[\"EPSG\",1047]],\n",
      "            OPERATIONACCURACY[0.0],\n",
      "            ID[\"INVERSE(EPSG)\",10335]]],\n",
      "    STEP[\n",
      "        COORDINATEOPERATION[\"Inverse of WGS 84 (G2139) to ITRF2014 (1)\",\n",
      "            SOURCECRS[\n",
      "                GEODCRS[\"ITRF2014\",\n",
      "                    DYNAMIC[\n",
      "                        FRAMEEPOCH[2010]],\n",
      "                    DATUM[\"International Terrestrial Reference Frame 2014\",\n",
      "                        ELLIPSOID[\"GRS 1980\",6378137,298.257222101,\n",
      "                            LENGTHUNIT[\"metre\",1]]],\n",
      "                    PRIMEM[\"Greenwich\",0,\n",
      "                        ANGLEUNIT[\"degree\",0.0174532925199433]],\n",
      "                    CS[Cartesian,3],\n",
      "                        AXIS[\"(X)\",geocentricX,\n",
      "                            ORDER[1],\n",
      "                            LENGTHUNIT[\"metre\",1]],\n",
      "                        AXIS[\"(Y)\",geocentricY,\n",
      "                            ORDER[2],\n",
      "                            LENGTHUNIT[\"metre\",1]],\n",
      "                        AXIS[\"(Z)\",geocentricZ,\n",
      "                            ORDER[3],\n",
      "                            LENGTHUNIT[\"metre\",1]],\n",
      "                    ID[\"EPSG\",7789]]],\n",
      "            TARGETCRS[\n",
      "                GEODCRS[\"WGS 84 (G2139)\",\n",
      "                    DYNAMIC[\n",
      "                        FRAMEEPOCH[2016]],\n",
      "                    DATUM[\"World Geodetic System 1984 (G2139)\",\n",
      "                        ELLIPSOID[\"WGS 84\",6378137,298.257223563,\n",
      "                            LENGTHUNIT[\"metre\",1]]],\n",
      "                    PRIMEM[\"Greenwich\",0,\n",
      "                        ANGLEUNIT[\"degree\",0.0174532925199433]],\n",
      "                    CS[Cartesian,3],\n",
      "                        AXIS[\"(X)\",geocentricX,\n",
      "                            ORDER[1],\n",
      "                            LENGTHUNIT[\"metre\",1]],\n",
      "                        AXIS[\"(Y)\",geocentricY,\n",
      "                            ORDER[2],\n",
      "                            LENGTHUNIT[\"metre\",1]],\n",
      "                        AXIS[\"(Z)\",geocentricZ,\n",
      "                            ORDER[3],\n",
      "                            LENGTHUNIT[\"metre\",1]],\n",
      "                    ID[\"EPSG\",9753]]],\n",
      "            METHOD[\"Coordinate Frame rotation (geocentric domain)\",\n",
      "                ID[\"EPSG\",1032]],\n",
      "            PARAMETER[\"X-axis translation\",0,\n",
      "                LENGTHUNIT[\"metre\",1],\n",
      "                ID[\"EPSG\",8605]],\n",
      "            PARAMETER[\"Y-axis translation\",0,\n",
      "                LENGTHUNIT[\"metre\",1],\n",
      "                ID[\"EPSG\",8606]],\n",
      "            PARAMETER[\"Z-axis translation\",0,\n",
      "                LENGTHUNIT[\"metre\",1],\n",
      "                ID[\"EPSG\",8607]],\n",
      "            PARAMETER[\"X-axis rotation\",0,\n",
      "                ANGLEUNIT[\"arc-second\",4.84813681109536E-06],\n",
      "                ID[\"EPSG\",8608]],\n",
      "            PARAMETER[\"Y-axis rotation\",0,\n",
      "                ANGLEUNIT[\"arc-second\",4.84813681109536E-06],\n",
      "                ID[\"EPSG\",8609]],\n",
      "            PARAMETER[\"Z-axis rotation\",0,\n",
      "                ANGLEUNIT[\"arc-second\",4.84813681109536E-06],\n",
      "                ID[\"EPSG\",8610]],\n",
      "            PARAMETER[\"Scale difference\",0,\n",
      "                SCALEUNIT[\"parts per million\",1E-06],\n",
      "                ID[\"EPSG\",8611]],\n",
      "            OPERATIONACCURACY[0.01],\n",
      "            ID[\"INVERSE(EPSG)\",9757],\n",
      "            REMARK[\"Scale difference in ppb where 1/billion = 1E-9 or nm/m.\"]]],\n",
      "    STEP[\n",
      "        CONVERSION[\"Conversion from WGS 84 (G2139) (geocentric) to WGS 84 (G2139) (geog3D)\",\n",
      "            METHOD[\"Geographic/geocentric conversions\",\n",
      "                ID[\"EPSG\",9602]]]],\n",
      "    STEP[\n",
      "        CONVERSION[\"UTM zone 05N\",\n",
      "            METHOD[\"Transverse Mercator\",\n",
      "                ID[\"EPSG\",9807]],\n",
      "            PARAMETER[\"Latitude of natural origin\",0,\n",
      "                ANGLEUNIT[\"degree\",0.0174532925199433],\n",
      "                ID[\"EPSG\",8801]],\n",
      "            PARAMETER[\"Longitude of natural origin\",-153,\n",
      "                ANGLEUNIT[\"degree\",0.0174532925199433],\n",
      "                ID[\"EPSG\",8802]],\n",
      "            PARAMETER[\"Scale factor at natural origin\",0.9996,\n",
      "                SCALEUNIT[\"unity\",1],\n",
      "                ID[\"EPSG\",8805]],\n",
      "            PARAMETER[\"False easting\",500000,\n",
      "                LENGTHUNIT[\"metre\",1],\n",
      "                ID[\"EPSG\",8806]],\n",
      "            PARAMETER[\"False northing\",0,\n",
      "                LENGTHUNIT[\"metre\",1],\n",
      "                ID[\"EPSG\",8807]]]],\n",
      "    OPERATIONACCURACY[0.01],\n",
      "    USAGE[\n",
      "        SCOPE[\"unknown\"],\n",
      "        AREA[\"American Samoa, Marshall Islands, United States (USA) - Hawaii, United States minor outlying islands; onshore and offshore.\"],\n",
      "        BBOX[-17.56,157.47,31.8,-151.27]]]\n"
     ]
    }
   ],
   "source": [
    "! projinfo -s EPSG:6321 -t \"$(cat UTM_Zone5_G2139.wkt)\" --bbox -155.5727033,19.4101513,-155.4696472,19.7729149 --spatial-test intersects --hide-ballpark\n"
   ]
  },
  {
   "cell_type": "markdown",
   "id": "1eb82270-6bc0-4337-b944-5e5610425a5b",
   "metadata": {},
   "source": [
    "********\n",
    "Once we have data in EPSG:6321 (lat/lon, heights above ellipsoid), we can go into our UTM definition with properly specified datum realization (G2139) with very high accuracy (0.01 m)."
   ]
  },
  {
   "cell_type": "code",
   "execution_count": 27,
   "id": "32f967bc-1b6b-418a-8a07-4b2dfe1aca24",
   "metadata": {},
   "outputs": [
    {
     "name": "stdout",
     "output_type": "stream",
     "text": [
      "Creating output file that is 13756P x 14435L.\n",
      "Using internal nodata values (e.g. 3.4e+38) for image MaunaLoa_3DEP_6321.tif.\n",
      "Copying nodata values from source MaunaLoa_3DEP_6321.tif to destination MaunaLoa_3DEP_32605_G2139.tif.tmp.tif.\n",
      "0...10...20...30...40...50...60...70...80...90...100 - done.\n"
     ]
    }
   ],
   "source": [
    "!gdalwarp -tap -of COG -r bilinear -tr 1.0 1.0 -s_srs EPSG:6321 -t_srs UTM_Zone5_G2139.wkt MaunaLoa_3DEP_6321.tif MaunaLoa_3DEP_32605_G2139.tif"
   ]
  },
  {
   "cell_type": "markdown",
   "id": "3a2fa267-a88f-4e36-9976-d5281a2effb8",
   "metadata": {},
   "source": [
    "## Sulphur Cone DEM Conversion"
   ]
  },
  {
   "cell_type": "code",
   "execution_count": 28,
   "id": "1cfdae46-54f3-4cb8-b7fe-85ce30140c00",
   "metadata": {},
   "outputs": [
    {
     "name": "stdout",
     "output_type": "stream",
     "text": [
      "Creating output file that is 13927P x 13883L.\n",
      "Using internal nodata values (e.g. 3.4e+38) for image SulphurCone_3DEP.tif.\n",
      "Copying nodata values from source SulphurCone_3DEP.tif to destination SulphurCone_3DEP_6321.tif.\n",
      "Processing SulphurCone_3DEP.tif [1/1] : 0...10...20...30...40...50...60...70...80...90...100 - done.\n"
     ]
    }
   ],
   "source": [
    "%%bash\n",
    "PROJ_PIPELINE='+proj=pipeline +step +inv +proj=utm +zone=5 +ellps=GRS80 +step +proj=vgridshift +grids=us_noaa_g2012bh0.tif +multiplier=1 +step +proj=unitconvert +xy_in=rad +z_in=m +xy_out=deg +z_out=m +step +proj=axisswap +order=2,1'\n",
    "INPUT=SulphurCone_3DEP.tif\n",
    "OUTPUT=SulphurCone_3DEP_6321.tif\n",
    "CPL_DEBUG=OFF PROJ_DEBUG=2 \\\n",
    " PROJ_NETWORK=ON \\\n",
    " GDAL_DISABLE_READDIR_ON_OPEN=EMPTY_DIR \\\n",
    " gdalwarp -overwrite -wm 500 -r bilinear \\\n",
    "    -co BLOCKXSIZE=128 -co BLOCKYSIZE=128 \\\n",
    "    -s_srs EPSG:6635+5703 -t_srs EPSG:6321 \\\n",
    "    -ct \"${PROJ_PIPELINE}\" \\\n",
    "    ${INPUT} ${OUTPUT}"
   ]
  },
  {
   "cell_type": "code",
   "execution_count": 29,
   "id": "d45c1782-452a-4979-9d62-035f8e48df76",
   "metadata": {},
   "outputs": [
    {
     "name": "stdout",
     "output_type": "stream",
     "text": [
      "Creating output file that is 13789P x 14468L.\n",
      "Using internal nodata values (e.g. 3.4e+38) for image SulphurCone_3DEP_6321.tif.\n",
      "Copying nodata values from source SulphurCone_3DEP_6321.tif to destination SulphurCone_3DEP_32605_G2139.tif.tmp.tif.\n",
      "0...10...20...30...40...50...60...70...80...90...100 - done.\n"
     ]
    }
   ],
   "source": [
    "!gdalwarp -tap -of COG -r bilinear -tr 1.0 1.0 -s_srs EPSG:6321 -t_srs UTM_Zone5_G2139.wkt SulphurCone_3DEP_6321.tif SulphurCone_3DEP_32605_G2139.tif"
   ]
  },
  {
   "cell_type": "markdown",
   "id": "fe5dcd7f-9ac0-43d7-b417-cd2e1fa28dcf",
   "metadata": {},
   "source": [
    "## Kokoolau DEM Conversion"
   ]
  },
  {
   "cell_type": "code",
   "execution_count": 30,
   "id": "93c22df8-0b33-4928-b1a7-984df9c2dba9",
   "metadata": {},
   "outputs": [
    {
     "name": "stdout",
     "output_type": "stream",
     "text": [
      "Creating output file that is 13903P x 13860L.\n",
      "Using internal nodata values (e.g. 3.4e+38) for image Kokoolau_3DEP.tif.\n",
      "Copying nodata values from source Kokoolau_3DEP.tif to destination Kokoolau_3DEP_6321.tif.\n",
      "Processing Kokoolau_3DEP.tif [1/1] : 0...10...20...30...40...50...60...70...80...90...100 - done.\n"
     ]
    }
   ],
   "source": [
    "%%bash\n",
    "PROJ_PIPELINE='+proj=pipeline +step +inv +proj=utm +zone=5 +ellps=GRS80 +step +proj=vgridshift +grids=us_noaa_g2012bh0.tif +multiplier=1 +step +proj=unitconvert +xy_in=rad +z_in=m +xy_out=deg +z_out=m +step +proj=axisswap +order=2,1'\n",
    "INPUT=Kokoolau_3DEP.tif\n",
    "OUTPUT=Kokoolau_3DEP_6321.tif\n",
    "CPL_DEBUG=OFF PROJ_DEBUG=2 \\\n",
    " PROJ_NETWORK=ON \\\n",
    " GDAL_DISABLE_READDIR_ON_OPEN=EMPTY_DIR \\\n",
    " gdalwarp -overwrite -wm 500 -r bilinear \\\n",
    "    -co BLOCKXSIZE=128 -co BLOCKYSIZE=128 \\\n",
    "    -s_srs EPSG:6635+5703 -t_srs EPSG:6321 \\\n",
    "    -ct \"${PROJ_PIPELINE}\" \\\n",
    "    ${INPUT} ${OUTPUT}"
   ]
  },
  {
   "cell_type": "code",
   "execution_count": 31,
   "id": "3092b34a-e6ef-4451-aed5-e5f3fd3dfc66",
   "metadata": {},
   "outputs": [
    {
     "name": "stdout",
     "output_type": "stream",
     "text": [
      "Creating output file that is 13750P x 14439L.\n",
      "Using internal nodata values (e.g. 3.4e+38) for image Kokoolau_3DEP_6321.tif.\n",
      "Copying nodata values from source Kokoolau_3DEP_6321.tif to destination Kokoolau_3DEP_32605_G2139.tif.tmp.tif.\n",
      "0...10...20...30...40...50...60...70...80...90...100 - done.\n"
     ]
    }
   ],
   "source": [
    "!gdalwarp -tap -of COG -r bilinear -tr 1.0 1.0 -s_srs EPSG:6321 -t_srs UTM_Zone5_G2139.wkt Kokoolau_3DEP_6321.tif Kokoolau_3DEP_32605_G2139.tif"
   ]
  },
  {
   "cell_type": "markdown",
   "id": "89a8be3c-3fc6-41d2-a3a0-7a844f6681d7",
   "metadata": {},
   "source": [
    "## PuuKoli DEM Conversion"
   ]
  },
  {
   "cell_type": "code",
   "execution_count": 32,
   "id": "cb630fd5-bb0f-44ec-ac87-8ec053bcbca5",
   "metadata": {},
   "outputs": [
    {
     "name": "stdout",
     "output_type": "stream",
     "text": [
      "Creating output file that is 13900P x 13857L.\n",
      "Using internal nodata values (e.g. 3.4e+38) for image PuuKoli_3DEP.tif.\n",
      "Copying nodata values from source PuuKoli_3DEP.tif to destination PuuKoli_3DEP_6321.tif.\n",
      "Processing PuuKoli_3DEP.tif [1/1] : 0...10...20...30...40...50...60...70...80...90...100 - done.\n"
     ]
    }
   ],
   "source": [
    "%%bash\n",
    "PROJ_PIPELINE='+proj=pipeline +step +inv +proj=utm +zone=5 +ellps=GRS80 +step +proj=vgridshift +grids=us_noaa_g2012bh0.tif +multiplier=1 +step +proj=unitconvert +xy_in=rad +z_in=m +xy_out=deg +z_out=m +step +proj=axisswap +order=2,1'\n",
    "INPUT=PuuKoli_3DEP.tif\n",
    "OUTPUT=PuuKoli_3DEP_6321.tif\n",
    "CPL_DEBUG=OFF PROJ_DEBUG=2 \\\n",
    " PROJ_NETWORK=ON \\\n",
    " GDAL_DISABLE_READDIR_ON_OPEN=EMPTY_DIR \\\n",
    " gdalwarp -overwrite -wm 500 -r bilinear \\\n",
    "    -co BLOCKXSIZE=128 -co BLOCKYSIZE=128 \\\n",
    "    -s_srs EPSG:6635+5703 -t_srs EPSG:6321 \\\n",
    "    -ct \"${PROJ_PIPELINE}\" \\\n",
    "    ${INPUT} ${OUTPUT}"
   ]
  },
  {
   "cell_type": "code",
   "execution_count": 33,
   "id": "09f0d7c5-20e6-4a76-aaff-ae694d62952f",
   "metadata": {},
   "outputs": [
    {
     "name": "stdout",
     "output_type": "stream",
     "text": [
      "Creating output file that is 13744P x 14443L.\n",
      "Using internal nodata values (e.g. 3.4e+38) for image PuuKoli_3DEP_6321.tif.\n",
      "Copying nodata values from source PuuKoli_3DEP_6321.tif to destination PuuKoli_3DEP_32605_G2139.tif.tmp.tif.\n",
      "0...10...20...30...40...50...60...70...80...90...100 - done.\n"
     ]
    }
   ],
   "source": [
    "!gdalwarp -tap -of COG -r bilinear -tr 1.0 1.0 -s_srs EPSG:6321 -t_srs UTM_Zone5_G2139.wkt PuuKoli_3DEP_6321.tif PuuKoli_3DEP_32605_G2139.tif"
   ]
  },
  {
   "cell_type": "markdown",
   "id": "ac659d87-1e46-45fc-add0-452e8542c2f8",
   "metadata": {},
   "source": [
    "## PuuOo DEM Conversion"
   ]
  },
  {
   "cell_type": "code",
   "execution_count": 34,
   "id": "c06d6325-8689-44c9-b514-29098c70c763",
   "metadata": {},
   "outputs": [
    {
     "name": "stdout",
     "output_type": "stream",
     "text": [
      "Creating output file that is 13879P x 13837L.\n",
      "Using internal nodata values (e.g. 3.4e+38) for image PuuOo_3DEP.tif.\n",
      "Copying nodata values from source PuuOo_3DEP.tif to destination PuuOo_3DEP_6321.tif.\n",
      "Processing PuuOo_3DEP.tif [1/1] : 0...10...20...30...40...50...60...70...80...90...100 - done.\n"
     ]
    }
   ],
   "source": [
    "%%bash\n",
    "PROJ_PIPELINE='+proj=pipeline +step +inv +proj=utm +zone=5 +ellps=GRS80 +step +proj=vgridshift +grids=us_noaa_g2012bh0.tif +multiplier=1 +step +proj=unitconvert +xy_in=rad +z_in=m +xy_out=deg +z_out=m +step +proj=axisswap +order=2,1'\n",
    "INPUT=PuuOo_3DEP.tif\n",
    "OUTPUT=PuuOo_3DEP_6321.tif\n",
    "CPL_DEBUG=OFF PROJ_DEBUG=2 \\\n",
    " PROJ_NETWORK=ON \\\n",
    " GDAL_DISABLE_READDIR_ON_OPEN=EMPTY_DIR \\\n",
    " gdalwarp -overwrite -wm 500 -r bilinear \\\n",
    "    -co BLOCKXSIZE=128 -co BLOCKYSIZE=128 \\\n",
    "    -s_srs EPSG:6635+5703 -t_srs EPSG:6321 \\\n",
    "    -ct \"${PROJ_PIPELINE}\" \\\n",
    "    ${INPUT} ${OUTPUT}"
   ]
  },
  {
   "cell_type": "code",
   "execution_count": 35,
   "id": "ed8be4d5-4df7-4358-ac2d-2274e59a6619",
   "metadata": {},
   "outputs": [
    {
     "name": "stdout",
     "output_type": "stream",
     "text": [
      "Creating output file that is 13712P x 14412L.\n",
      "Using internal nodata values (e.g. 3.4e+38) for image PuuOo_3DEP_6321.tif.\n",
      "Copying nodata values from source PuuOo_3DEP_6321.tif to destination PuuOo_3DEP_32605_G2139.tif.tmp.tif.\n",
      "0...10...20...30...40...50...60...70...80...90...100 - done.\n"
     ]
    }
   ],
   "source": [
    "!gdalwarp -tap -of COG -r bilinear -tr 1.0 1.0 -s_srs EPSG:6321 -t_srs UTM_Zone5_G2139.wkt PuuOo_3DEP_6321.tif PuuOo_3DEP_32605_G2139.tif"
   ]
  },
  {
   "cell_type": "markdown",
   "id": "72a62105-cdae-4fed-9038-13402cd2b168",
   "metadata": {},
   "source": [
    "## PuuUlaula DEM Conversion"
   ]
  },
  {
   "cell_type": "code",
   "execution_count": 37,
   "id": "371d38d7-065c-44fc-b93c-76a248309e84",
   "metadata": {},
   "outputs": [
    {
     "name": "stdout",
     "output_type": "stream",
     "text": [
      "Creating output file that is 13881P x 13840L.\n",
      "Using internal nodata values (e.g. 3.4e+38) for image PuuUlaula_3DEP.tif.\n",
      "Copying nodata values from source PuuUlaula_3DEP.tif to destination PuuUlaula_3DEP_6321.tif.\n",
      "Processing PuuUlaula_3DEP.tif [1/1] : 0...10...20...30...40...50...60...70...80...90...100 - done.\n"
     ]
    }
   ],
   "source": [
    "%%bash\n",
    "PROJ_PIPELINE='+proj=pipeline +step +inv +proj=utm +zone=5 +ellps=GRS80 +step +proj=vgridshift +grids=us_noaa_g2012bh0.tif +multiplier=1 +step +proj=unitconvert +xy_in=rad +z_in=m +xy_out=deg +z_out=m +step +proj=axisswap +order=2,1'\n",
    "INPUT=PuuUlaula_3DEP.tif\n",
    "OUTPUT=PuuUlaula_3DEP_6321.tif\n",
    "CPL_DEBUG=OFF PROJ_DEBUG=2 \\\n",
    " PROJ_NETWORK=ON \\\n",
    " GDAL_DISABLE_READDIR_ON_OPEN=EMPTY_DIR \\\n",
    " gdalwarp -overwrite -wm 500 -r bilinear \\\n",
    "    -co BLOCKXSIZE=128 -co BLOCKYSIZE=128 \\\n",
    "    -s_srs EPSG:6635+5703 -t_srs EPSG:6321 \\\n",
    "    -ct \"${PROJ_PIPELINE}\" \\\n",
    "    ${INPUT} ${OUTPUT}"
   ]
  },
  {
   "cell_type": "code",
   "execution_count": 38,
   "id": "9dd03bea-1aca-43fc-aeb4-1b009e288fe2",
   "metadata": {
    "editable": true,
    "slideshow": {
     "slide_type": ""
    },
    "tags": []
   },
   "outputs": [
    {
     "name": "stdout",
     "output_type": "stream",
     "text": [
      "Creating output file that is 13718P x 14409L.\n",
      "Using internal nodata values (e.g. 3.4e+38) for image PuuUlaula_3DEP_6321.tif.\n",
      "Copying nodata values from source PuuUlaula_3DEP_6321.tif to destination PuuUlaula_3DEP_32605_G2139.tif.tmp.tif.\n",
      "0...10...20...30...40...50...60...70...80...90...100 - done.\n"
     ]
    }
   ],
   "source": [
    "!gdalwarp -tap -of COG -r bilinear -tr 1.0 1.0 -s_srs EPSG:6321 -t_srs UTM_Zone5_G2139.wkt PuuUlaula_3DEP_6321.tif PuuUlaula_3DEP_32605_G2139.tif"
   ]
  },
  {
   "cell_type": "markdown",
   "id": "0e3e0de7-241d-4b70-8039-1953427ae1d2",
   "metadata": {},
   "source": [
    "## Mosaic the DEMs"
   ]
  },
  {
   "cell_type": "code",
   "execution_count": 40,
   "id": "4ae35fce-4213-477c-8e3c-ad362a179160",
   "metadata": {},
   "outputs": [
    {
     "name": "stdout",
     "output_type": "stream",
     "text": [
      "\t--> Setting number of processing threads to: 4\n",
      "Writing log: ML_pre_event_3DEP.tif-log-dem_mosaic-05-16-1228-3343478.txt\n",
      "Using output no-data value: 3.4e+38\n",
      "Determining the bounding boxes of the inputs.\n",
      "        --> [*************************************************************] 100%\n",
      "Mosaic size: 40408 x 42123 pixels.\n",
      "Number of tiles: 1 x 1 = 1.\n",
      "Reading the input DEMs.\n",
      "Loading: Kokoolau_3DEP_32605_G2139.tif\n",
      "Loading: MaunaLoa_3DEP_32605_G2139.tif\n",
      "Loading: PuuKoli_3DEP_32605_G2139.tif\n",
      "Loading: PuuOo_3DEP_32605_G2139.tif\n",
      "Loading: PuuUlaula_3DEP_32605_G2139.tif\n",
      "Loading: SulphurCone_3DEP_32605_G2139.tif\n",
      "Writing: ML_pre_event_3DEP.tif\n",
      "        --> [*************************************************************] 100%\n",
      "Re-writing with blocks of size: 256 x 256.\n",
      "        --> [*************************************************************] 99%\n",
      "Number of valid (not no-data) pixels written: 1051634157.\n"
     ]
    }
   ],
   "source": [
    "!/panfs/ccds02/nobackup/people/sbhusha1/sw/StereoPipeline-3.5.0-alpha-2025-04-17-x86_64-Linux/bin/dem_mosaic -o ML_pre_event_3DEP.tif *32605_G2139.tif"
   ]
  },
  {
   "cell_type": "code",
   "execution_count": 41,
   "id": "e13ad99f-9884-4f5d-8345-9b5d1157ed73",
   "metadata": {
    "editable": true,
    "slideshow": {
     "slide_type": ""
    },
    "tags": []
   },
   "outputs": [],
   "source": [
    "def nearest_floor(x, a):\n",
    "    \"\"\"\n",
    "    Round down to the nearest smaller multiple of a.\n",
    "    From https://github.com/uw-cryo/EarthLab_AirQuality_UAV/blob/main/notebooks/EarthLab_AQ_lidar_download_processing_function.ipynb\n",
    "    \"\"\"\n",
    "    return np.floor(x / a) * a\n",
    "def nearest_ceil(x, a):\n",
    "    \"\"\"\n",
    "    Round down to the nearest larger multiple of a.\n",
    "    From https://github.com/uw-cryo/EarthLab_AirQuality_UAV/blob/main/notebooks/EarthLab_AQ_lidar_download_processing_function.ipynb\n",
    "    \"\"\"\n",
    "    return np.ceil(x / a) * a\n",
    "def tap_bounds(site_bounds, res):\n",
    "    \"\"\"\n",
    "    Return target aligned pixel bounds for a given site bounds and resolution.\n",
    "    From https://github.com/uw-cryo/EarthLab_AirQuality_UAV/blob/main/notebooks/EarthLab_AQ_lidar_download_processing_function.ipynb\n",
    "    \"\"\"\n",
    "    return ([nearest_floor(site_bounds[0], res), nearest_floor(site_bounds[1], res), \\\n",
    "            nearest_ceil(site_bounds[2], res), nearest_ceil(site_bounds[3], res)])"
   ]
  },
  {
   "cell_type": "code",
   "execution_count": 62,
   "id": "f7475e1d-68c2-46c4-bc47-32a82e073ae0",
   "metadata": {},
   "outputs": [],
   "source": [
    "stereo_dsm = rioxarray.open_rasterio('20230702_20230801_wt_avg_mos.tif')"
   ]
  },
  {
   "cell_type": "code",
   "execution_count": 63,
   "id": "1838407e-9d11-48d5-a06b-1a42fba79420",
   "metadata": {},
   "outputs": [
    {
     "data": {
      "text/plain": [
       "CRS.from_wkt('PROJCRS[\"WGS 84 (G2139) / UTM 05N\",BASEGEOGCRS[\"WGS 84 (G2139)\",DYNAMIC[FRAMEEPOCH[2016]],DATUM[\"World Geodetic System 1984 (G2139)\",ELLIPSOID[\"WGS 84\",6378137,298.257223563,LENGTHUNIT[\"metre\",1]]],PRIMEM[\"Greenwich\",0,ANGLEUNIT[\"degree\",0.0174532925199433]],ID[\"EPSG\",9754]],CONVERSION[\"UTM zone 05N\",METHOD[\"Transverse Mercator\",ID[\"EPSG\",9807]],PARAMETER[\"Latitude of natural origin\",0,ANGLEUNIT[\"degree\",0.0174532925199433],ID[\"EPSG\",8801]],PARAMETER[\"Longitude of natural origin\",-153,ANGLEUNIT[\"degree\",0.0174532925199433],ID[\"EPSG\",8802]],PARAMETER[\"Scale factor at natural origin\",0.9996,SCALEUNIT[\"unity\",1],ID[\"EPSG\",8805]],PARAMETER[\"False easting\",500000,LENGTHUNIT[\"metre\",1],ID[\"EPSG\",8806]],PARAMETER[\"False northing\",0,LENGTHUNIT[\"metre\",1],ID[\"EPSG\",8807]]],CS[Cartesian,3],AXIS[\"(E)\",north,MERIDIAN[90,ANGLEUNIT[\"degree\",0.0174532925199433]],ORDER[1],LENGTHUNIT[\"metre\",1]],AXIS[\"(N)\",north,MERIDIAN[0,ANGLEUNIT[\"degree\",0.0174532925199433]],ORDER[2],LENGTHUNIT[\"metre\",1]],AXIS[\"ellipsoidal height (h)\",up,ORDER[3],LENGTHUNIT[\"metre\",1,ID[\"EPSG\",9001]]]]')"
      ]
     },
     "execution_count": 63,
     "metadata": {},
     "output_type": "execute_result"
    }
   ],
   "source": [
    "stereo_dsm.rio.crs"
   ]
  },
  {
   "cell_type": "code",
   "execution_count": 64,
   "id": "df87a156-1e1d-4c3e-a0a3-7e107c59ecc4",
   "metadata": {},
   "outputs": [],
   "source": [
    "bounds = stereo_dsm.rio.bounds()"
   ]
  },
  {
   "cell_type": "code",
   "execution_count": 65,
   "id": "1603c13a-83c9-4f3b-b492-4005d2d84d88",
   "metadata": {},
   "outputs": [
    {
     "data": {
      "text/plain": [
       "(217657.40085991763, 2145471.697522143, 244129.40085991763, 2193127.697522143)"
      ]
     },
     "execution_count": 65,
     "metadata": {},
     "output_type": "execute_result"
    }
   ],
   "source": [
    "bounds"
   ]
  },
  {
   "cell_type": "code",
   "execution_count": 66,
   "id": "079a8127-30f5-4a77-8941-eeab33575763",
   "metadata": {},
   "outputs": [],
   "source": [
    "#buffer bounds by 10 m\n",
    "bounds_buffered = [bounds[0]-10,bounds[1]-10,bounds[2]+10,bounds[3]+10]"
   ]
  },
  {
   "cell_type": "code",
   "execution_count": 67,
   "id": "2db5fb07-b366-4f2a-a3cb-cc7306e2eb69",
   "metadata": {},
   "outputs": [],
   "source": [
    "tapped_bounds = tap_bounds(bounds_buffered,res=1.0)"
   ]
  },
  {
   "cell_type": "code",
   "execution_count": 68,
   "id": "a234162a-49a2-40b6-ac69-f7f33d34fea2",
   "metadata": {},
   "outputs": [
    {
     "data": {
      "text/plain": [
       "[np.float64(217647.0),\n",
       " np.float64(2145461.0),\n",
       " np.float64(244140.0),\n",
       " np.float64(2193138.0)]"
      ]
     },
     "execution_count": 68,
     "metadata": {},
     "output_type": "execute_result"
    }
   ],
   "source": [
    "tapped_bounds"
   ]
  },
  {
   "cell_type": "code",
   "execution_count": 69,
   "id": "89249cfb-7092-449f-a65c-cf156c473c23",
   "metadata": {},
   "outputs": [],
   "source": [
    "str_bounds = [str(x) for x in tapped_bounds]\n",
    "t_projwin = ' '.join(str_bounds)"
   ]
  },
  {
   "cell_type": "code",
   "execution_count": 70,
   "id": "e39e0c63-832e-494a-882a-996ba4133633",
   "metadata": {},
   "outputs": [
    {
     "data": {
      "text/plain": [
       "'217647.0 2145461.0 244140.0 2193138.0'"
      ]
     },
     "execution_count": 70,
     "metadata": {},
     "output_type": "execute_result"
    }
   ],
   "source": [
    "t_projwin"
   ]
  },
  {
   "cell_type": "code",
   "execution_count": 71,
   "id": "7a8a40af-4af9-4e9c-90db-4899ac38c950",
   "metadata": {},
   "outputs": [
    {
     "name": "stdout",
     "output_type": "stream",
     "text": [
      "\t--> Setting number of processing threads to: 4\n",
      "Writing log: ML_pre_event_3DEP_stereo_bounds.tif-log-dem_mosaic-05-16-1322-3364439.txt\n",
      "Using output no-data value: 3.4e+38\n",
      "Determining the bounding boxes of the inputs.\n",
      "        --> [*************************************************************] 100%\n",
      "Mosaic size: 26494 x 40349 pixels.\n",
      "Number of tiles: 1 x 1 = 1.\n",
      "Reading the input DEMs.\n",
      "Loading: Kokoolau_3DEP_32605_G2139.tif\n",
      "Loading: MaunaLoa_3DEP_32605_G2139.tif\n",
      "Loading: PuuKoli_3DEP_32605_G2139.tif\n",
      "Loading: PuuOo_3DEP_32605_G2139.tif\n",
      "Loading: PuuUlaula_3DEP_32605_G2139.tif\n",
      "Loading: SulphurCone_3DEP_32605_G2139.tif\n",
      "Writing: ML_pre_event_3DEP_stereo_bounds.tif\n",
      "        --> [*************************************************************] 99%\n",
      "Re-writing with blocks of size: 256 x 256.\n",
      "        --> [*************************************************************] 99%\n",
      "Number of valid (not no-data) pixels written: 780916026.\n"
     ]
    }
   ],
   "source": [
    "! /panfs/ccds02/nobackup/people/sbhusha1/sw/StereoPipeline-3.5.0-alpha-2025-04-17-x86_64-Linux/bin/dem_mosaic --t_projwin $t_projwin -o ML_pre_event_3DEP_stereo_bounds.tif *32605_G2139.tif"
   ]
  },
  {
   "cell_type": "code",
   "execution_count": 72,
   "id": "48e8e7f9-de68-41a1-86dd-d642717ddb46",
   "metadata": {},
   "outputs": [
    {
     "name": "stdout",
     "output_type": "stream",
     "text": [
      "0...10...20...30...40...50...60...70...80...90...100 - done.\n"
     ]
    }
   ],
   "source": [
    "!gdaladdo -r gauss ML_pre_event_3DEP_stereo_bounds.tif 2 4 8 16 32 64 128"
   ]
  },
  {
   "cell_type": "code",
   "execution_count": null,
   "id": "4597d96d-0ad4-4777-b9e9-ddc40c830118",
   "metadata": {
    "editable": true,
    "slideshow": {
     "slide_type": ""
    },
    "tags": []
   },
   "outputs": [],
   "source": []
  }
 ],
 "metadata": {
  "kernelspec": {
   "display_name": "Python [conda env:miniconda3-bhushan_gdal3]",
   "language": "python",
   "name": "conda-env-miniconda3-bhushan_gdal3-py"
  },
  "language_info": {
   "codemirror_mode": {
    "name": "ipython",
    "version": 3
   },
   "file_extension": ".py",
   "mimetype": "text/x-python",
   "name": "python",
   "nbconvert_exporter": "python",
   "pygments_lexer": "ipython3",
   "version": "3.12.0"
  },
  "pixi-kernel": {
   "environment": ""
  }
 },
 "nbformat": 4,
 "nbformat_minor": 5
}
