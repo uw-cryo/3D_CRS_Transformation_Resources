{
 "cells": [
  {
   "cell_type": "markdown",
   "id": "72faf90a",
   "metadata": {},
   "source": [
    "\n",
    "# Reproject ICESat-2 Elevation Points with GeoPandas\n",
    "\n",
    "This notebook illustrates reprojecting (Lon,Lat,Elevation) points in one 3D CRS to another. \n",
    "\n",
    ":::{note} Learning Goals\n",
    "- See how to set 3D Geometries in GeoPandas when working with 3D CRS\n",
    "- Use PROJ to examine reprojection options\n",
    "- Reproject points between specific ITRF and WGS realizations (ITRF2014 to WGS 84 (G2139))\n",
    "- Use tests and view logs to ensure your reprojection is successful and valid\n",
    ":::"
   ]
  },
  {
   "cell_type": "markdown",
   "id": "a4ced85e",
   "metadata": {},
   "source": [
    "## Import libraries and configure logging"
   ]
  },
  {
   "cell_type": "markdown",
   "id": "187d3d59",
   "metadata": {},
   "source": [
    ":::{tip}\n",
    "Libraries like GeoPandas use GDAL and PROJ behind the scenes to perform reprojection between different CRS. Sometimes, there are different algorithms that may be used for reprojection. It can be helpful to expose logging messages to see which libraries and which algorithms are being used behind the scenes.\n",
    ":::"
   ]
  },
  {
   "cell_type": "code",
   "execution_count": null,
   "id": "aff6d69e-07f9-4b6c-87d5-5ca7a13c08d0",
   "metadata": {
    "tags": []
   },
   "outputs": [],
   "source": [
    "# This environment variable must be set before importing geopandas for logging\n",
    "import os\n",
    "os.environ['PROJ_DEBUG'] = '2'\n",
    "# Ensure this is 'ON' to get shift grids over the internet\n",
    "print(os.environ['PROJ_NETWORK'])\n",
    "\n",
    "import logging"
   ]
  },
  {
   "cell_type": "code",
   "execution_count": null,
   "id": "a5748199",
   "metadata": {},
   "outputs": [],
   "source": [
    "import fiona\n",
    "import geopandas as gpd"
   ]
  },
  {
   "cell_type": "code",
   "execution_count": null,
   "id": "a2078edc-442b-4ee2-be8a-fd6f47ed0743",
   "metadata": {
    "tags": [
     "hide-output"
    ]
   },
   "outputs": [],
   "source": [
    "# It's good to keep track of versions of geospatial libraries and dependencies\n",
    "gpd.show_versions()"
   ]
  },
  {
   "cell_type": "markdown",
   "id": "8338f785",
   "metadata": {},
   "source": [
    "## Load 3D points"
   ]
  },
  {
   "cell_type": "code",
   "execution_count": null,
   "id": "f4c5d69c-7a9b-48e3-a79e-13addc10ff35",
   "metadata": {
    "tags": []
   },
   "outputs": [],
   "source": [
    "# ICESat-2 data saved from sliderule:\n",
    "#gf = icesat2.atl06p({}, resources=['ATL03_20181019224323_03250112_005_01.h5'])\n",
    "#gf[:100].to_file('ATL03_20181019224323_03250112_005_01.geojson', driver='GeoJSON')\n",
    "\n",
    "gf = gpd.read_file('ATL03_20181019224323_03250112_005_01.geojson')"
   ]
  },
  {
   "cell_type": "code",
   "execution_count": null,
   "id": "20851bf4-27e5-4b53-a82d-610844621713",
   "metadata": {
    "tags": []
   },
   "outputs": [],
   "source": [
    "gf.head(2)"
   ]
  },
  {
   "cell_type": "code",
   "execution_count": null,
   "id": "4e0aab03",
   "metadata": {},
   "outputs": [],
   "source": [
    "gf.crs"
   ]
  },
  {
   "cell_type": "markdown",
   "id": "be457b3d",
   "metadata": {},
   "source": [
    ":::{important}\n",
    "Always check the location of your original data before reprojecting\n",
    ":::"
   ]
  },
  {
   "cell_type": "code",
   "execution_count": null,
   "id": "18957036-0c63-4c6d-b7ba-92d33d66c8ac",
   "metadata": {
    "tags": []
   },
   "outputs": [],
   "source": [
    "points = gf.reset_index()\n",
    "points.loc[:, 'time'] = points.time.dt.strftime('%Y-%m-%d')\n",
    "points.explore(zoom_start=2, column='h_mean')"
   ]
  },
  {
   "cell_type": "code",
   "execution_count": null,
   "id": "46d8f194-ae4e-44d8-b0c7-6f820ed6d5d3",
   "metadata": {
    "tags": []
   },
   "outputs": [],
   "source": [
    "# Get bounding box of all of our points\n",
    "w,s,e,n = gf.union_all().bounds #W, S, E, N\n",
    "print(w,s,e,n)"
   ]
  },
  {
   "cell_type": "markdown",
   "id": "6e734315",
   "metadata": {},
   "source": [
    "## Check reprojection options\n",
    "\n",
    "The `projinfo` command is very helpful to see which algorithms (or 'pipelines') could be used to go from one CRS to another. Below we see `Candidate operations found: 75` indicating there are a total of 75 options, which are ordered top to bottom in decreasing preference! \n",
    "\n",
    "If logging is enabled (PROJ_DEBUG=2) you will see many lines like `pj_open_lib(us_noaa_FL.tif)` which correspond to PROJ checking for availability of shift grids required for *any* of the  possible transforms. These may either be files in local directories, or retrieved over the network from https://cdn.proj.org"
   ]
  },
  {
   "cell_type": "code",
   "execution_count": null,
   "id": "ea5af76b",
   "metadata": {},
   "outputs": [],
   "source": [
    "!PROJ_DEBUG=0 projinfo -s EPSG:7912 -t EPSG:9518 -o PROJ --hide-ballpark --spatial-test intersects | grep Candidate"
   ]
  },
  {
   "cell_type": "markdown",
   "id": "4e4b0923",
   "metadata": {},
   "source": [
    ":::{note}\n",
    "All CRS have a \"valid area\", for example, some regional CRS definitions are only valid for specific countries or continents, but global CRSs (like EPSG:7912) are valid for the entire globe! This is a common reason for `projinfo` returning a lot of possible transforms. Importantly `projinfo` does not know where our data is unless we pass a `--bbox`, which can be helpful for narrowing in on the best reprojection pipeline to use.\n",
    ":::"
   ]
  },
  {
   "cell_type": "code",
   "execution_count": null,
   "id": "e02040c2-aa7d-4962-affc-fc6430e76aae",
   "metadata": {
    "tags": []
   },
   "outputs": [],
   "source": [
    "!projinfo -s EPSG:7912 -t EPSG:9518 -o PROJ --grid-check none --bbox {w},{s},{e},{n}  --hide-ballpark --spatial-test intersects | head -n 20"
   ]
  },
  {
   "cell_type": "markdown",
   "id": "a885000d",
   "metadata": {},
   "source": [
    "## Reproject data \n",
    "\n",
    "By default geopandas will use the first operation reported by `projinfo`. In this case:\n",
    "\n",
    "```\n",
    "+proj=pipeline\n",
    "  +step +proj=axisswap +order=2,1\n",
    "  +step +proj=unitconvert +xy_in=deg +xy_out=rad\n",
    "  +step +inv +proj=vgridshift +grids=us_nga_egm08_25.tif +multiplier=1\n",
    "  +step +proj=unitconvert +xy_in=rad +xy_out=deg\n",
    "  +step +proj=axisswap +order=2,1\n",
    "```\n",
    "\n",
    "☝️ `+proj=vgridshift +grids=us_nga_egm08_25.tif` will apply interpolated vertical offsets corresponding to the repojection of ellipsoid height to geoid height. For the above transform we do not have *horizontal* position changes, only vertical.\n",
    "\n",
    ":::{important}\n",
    "For Geopandas to select this PROJ pipeline, the geometry column *must be 3D* (contain elevation as a coordinate)\n",
    ":::"
   ]
  },
  {
   "cell_type": "code",
   "execution_count": null,
   "id": "4006bcc0-14dd-4bbd-aa8f-9e37df3ff1fc",
   "metadata": {
    "tags": []
   },
   "outputs": [],
   "source": [
    "points3D = gpd.points_from_xy(gf.geometry.x, gf.geometry.y, gf.h_mean)\n",
    "gf3D = gpd.GeoDataFrame(geometry=points3D, crs='EPSG:7912')"
   ]
  },
  {
   "cell_type": "code",
   "execution_count": null,
   "id": "cd570844",
   "metadata": {},
   "outputs": [],
   "source": [
    "gf3D[:1].get_coordinates(include_z=True)"
   ]
  },
  {
   "cell_type": "code",
   "execution_count": null,
   "id": "84ea693d-64b1-463c-889d-2a79295dbaf5",
   "metadata": {
    "tags": []
   },
   "outputs": [],
   "source": [
    "# Reprojection happens here\n",
    "gfGeoid = gf3D.to_crs(epsg=9518)\n",
    "gfGeoid[:1].get_coordinates(include_z=True)"
   ]
  },
  {
   "cell_type": "markdown",
   "id": "342f8a55",
   "metadata": {},
   "source": [
    "### Validate results \n",
    "\n",
    "Once you're satisfied that the results reflect the expected magnitude of difference, it can be a good idea to add tests to your code to ensure there are no issues in the future. A common gotcha is if you do not have a vertical shift grid locally and there are network connectivity issues the reproject may not actually result in reprojected values!"
   ]
  },
  {
   "cell_type": "code",
   "execution_count": null,
   "id": "aa3a5113",
   "metadata": {},
   "outputs": [],
   "source": [
    "# X&Y coordinates should be the same, but Z should be different\n",
    "gpd.pd.testing.assert_frame_equal(gfGeoid.get_coordinates(), gf3D.get_coordinates())\n",
    "\n",
    "max_dz = (gfGeoid.get_coordinates(include_z=True).z - gf3D.get_coordinates(include_z=True).z).max().astype('int16')\n",
    "assert max_dz == 29"
   ]
  },
  {
   "cell_type": "markdown",
   "id": "9bdd6af0",
   "metadata": {},
   "source": [
    "## Avoiding bogus reprojection\n",
    "\n",
    ":::{warning}\n",
    "GeoPandas will happily do bogus transforms for you and not report error messages. Exercise caution by checking that logs show your intented transform is used, or add validation to your codebase to ensure reprojections are consistent with what you expect. This is especially important when converting data from a globally-defined CRS (because the valid extent of a global CRS always intersects the valid extent of any other CRS target extent)\n",
    ":::"
   ]
  },
  {
   "cell_type": "code",
   "execution_count": null,
   "id": "3463fcf7",
   "metadata": {},
   "outputs": [],
   "source": [
    "# Here we'll use a target CRS valid only for the United States, but our data is in Antarctica!\n",
    "!projinfo EPSG:2927+5703 -o WKT2:2019 --single-line"
   ]
  },
  {
   "cell_type": "code",
   "execution_count": null,
   "id": "daaf9ecc",
   "metadata": {},
   "outputs": [],
   "source": [
    "# That is a complicated transform!\n",
    "!PROJ_DEBUG=0 projinfo -s EPSG:7912 -t EPSG:2927+5703 -q -o PROJ"
   ]
  },
  {
   "cell_type": "code",
   "execution_count": null,
   "id": "30c8b1dc-da22-4556-8f7b-fec65ff10d3c",
   "metadata": {
    "tags": []
   },
   "outputs": [],
   "source": [
    "logging.basicConfig(level=logging.DEBUG)\n",
    "\n",
    "with fiona.Env(CPL_DEBUG=True):\n",
    "    bogus = gf3D.to_crs(epsg=\"2927+5703\")"
   ]
  },
  {
   "cell_type": "markdown",
   "id": "5748eb21",
   "metadata": {},
   "source": [
    ":::{note}\n",
    "Examining the logging messages shows which shift grids are successful located and the last line (\"Using coordinate operation...\") displays which reprojection pipeline is actually used. Whenever in doubt it's good to examine these logs.\n",
    ":::"
   ]
  },
  {
   "cell_type": "code",
   "execution_count": null,
   "id": "daf65bfc-2dff-4a88-a0dd-d2ef04c1fa76",
   "metadata": {
    "tags": []
   },
   "outputs": [],
   "source": [
    "bogus.head()"
   ]
  },
  {
   "cell_type": "markdown",
   "id": "ea633431",
   "metadata": {},
   "source": [
    ":::{note}\n",
    "The above transform was performed even though the points are outside the valid area of the target CRS. X and Y values have changed significantly (and fall outside the domain of the CRS), and Z values are unchanged!\n",
    ":::"
   ]
  }
 ],
 "metadata": {
  "kernelspec": {
   "display_name": "default",
   "language": "python",
   "name": "python3"
  },
  "language_info": {
   "codemirror_mode": {
    "name": "ipython",
    "version": 3
   },
   "file_extension": ".py",
   "mimetype": "text/x-python",
   "name": "python",
   "nbconvert_exporter": "python",
   "pygments_lexer": "ipython3",
   "version": "3.13.5"
  }
 },
 "nbformat": 4,
 "nbformat_minor": 5
}
