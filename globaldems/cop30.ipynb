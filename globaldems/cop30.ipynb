{
 "cells": [
  {
   "cell_type": "markdown",
   "metadata": {},
   "source": [
    "---\n",
    "skip_execution: true\n",
    "---"
   ]
  },
  {
   "cell_type": "markdown",
   "metadata": {},
   "source": [
    "# Copernicus DEM \n",
    "\n",
    "This notebook illustrates a way to encode a 3D proj transformation into a GDAL VRT so that you can load elevation ellipsoid heights rather than geoid heights. This can happen \"on-the-fly\", so there is no need to download and save local files. \n",
    "\n",
    "We'll use:\n",
    "https://portal.opentopography.org/raster?opentopoID=OTSDEM.032021.4326.3\n",
    "\n",
    "```\n",
    "Horizontal Coordinates: WGS84 [EPSG: 4326]\n",
    "Vertical Coordinates: EGM2008 [EPSG: 3855]\n",
    "```\n",
    "\n",
    ":::{warning} \n",
    "The product page lists the horizontal CRS as EPSG:4326, the WGS84 Ensemble. This is very common, but actually less precise than specifying the known \"realization\" or specific datum definition WGS84 (G1150) (https://epsg.io/9055), which you can verify by digging into ESA's documentation https://dataspace.copernicus.eu/explore-data/data-collections/copernicus-contributing-missions/collections-description/COP-DEM\n",
    ":::\n",
    "\n",
    "In GDAL we can specify a full 3D CRS as a compound CRS `EPSG:9055+3855`"
   ]
  },
  {
   "cell_type": "code",
   "execution_count": 1,
   "metadata": {},
   "outputs": [
    {
     "name": "stdout",
     "output_type": "stream",
     "text": [
      "\n",
      "PROJ.4 : +proj=longlat +datum=WGS84 +no_defs\n",
      "\n",
      "OGC WKT2:2019 :\n",
      "GEOGCRS[\"WGS 84\",\n",
      "    ENSEMBLE[\"World Geodetic System 1984 ensemble\",\n",
      "        MEMBER[\"World Geodetic System 1984 (Transit)\"],\n",
      "        MEMBER[\"World Geodetic System 1984 (G730)\"],\n",
      "        MEMBER[\"World Geodetic System 1984 (G873)\"],\n",
      "        MEMBER[\"World Geodetic System 1984 (G1150)\"],\n",
      "        MEMBER[\"World Geodetic System 1984 (G1674)\"],\n",
      "        MEMBER[\"World Geodetic System 1984 (G1762)\"],\n",
      "        MEMBER[\"World Geodetic System 1984 (G2139)\"],\n",
      "        MEMBER[\"World Geodetic System 1984 (G2296)\"],\n",
      "        ELLIPSOID[\"WGS 84\",6378137,298.257223563,\n",
      "            LENGTHUNIT[\"metre\",1]],\n",
      "        ENSEMBLEACCURACY[2.0]],\n",
      "    PRIMEM[\"Greenwich\",0,\n",
      "        ANGLEUNIT[\"degree\",0.0174532925199433]],\n",
      "    CS[ellipsoidal,2],\n",
      "        AXIS[\"geodetic latitude (Lat)\",north,\n",
      "            ORDER[1],\n",
      "            ANGLEUNIT[\"degree\",0.0174532925199433]],\n",
      "        AXIS[\"geodetic longitude (Lon)\",east,\n",
      "            ORDER[2],\n",
      "            ANGLEUNIT[\"degree\",0.0174532925199433]],\n",
      "    USAGE[\n",
      "        SCOPE[\"Horizontal component of 3D system.\"],\n",
      "        AREA[\"World.\"],\n",
      "        BBOX[-90,-180,90,180]],\n",
      "    ID[\"EPSG\",4326]]\n",
      "\n"
     ]
    }
   ],
   "source": [
    "%%bash\n",
    "# NOTE: 'GEOCRS' SCOPE[\"Horizontal component of 3D system.\"], CS[ellipsoidal,2],\n",
    "# ENSEMBLE[\"World Geodetic System 1984 ensemble\",\n",
    "# ENSEMBLEACCURACY[2.0]],\n",
    "gdalsrsinfo EPSG:4326"
   ]
  },
  {
   "cell_type": "code",
   "execution_count": 2,
   "metadata": {},
   "outputs": [
    {
     "name": "stdout",
     "output_type": "stream",
     "text": [
      "PROJ.4 string:\n"
     ]
    },
    {
     "name": "stderr",
     "output_type": "stream",
     "text": [
      "Cannot open https://cdn.proj.org/Und_min1x1_egm2008_isw=82_WGS84_TideFree.gz: HTTP error 404: <?xml version=\"1.0\" encoding=\"UTF-8\"?>\n",
      "<Error><Code>NoSuchKey</Code><Message>The specified key does not exist.</Message><Key>Und_min1x1_egm2008_isw=82_WGS84_TideFree.gz</Key><RequestId>G5EQJJJ1G3SNACPW</RequestId><HostId>3mKkT5qXDZdI3B0lNvB9btUiJPPU200jcVJOcrk5Vxsf4iXklsUdHMyJwrQ3l1g4UswitgLAgvU=</HostId></Error>\n",
      "Cannot open https://cdn.proj.org/Und_min1x1_egm2008_isw=82_WGS84_TideFree.gz: HTTP error 404: <?xml version=\"1.0\" encoding=\"UTF-8\"?>\n",
      "<Error><Code>NoSuchKey</Code><Message>The specified key does not exist.</Message><Key>Und_min1x1_egm2008_isw=82_WGS84_TideFree.gz</Key><RequestId>G5EQJJJ1G3SNACPW</RequestId><HostId>3mKkT5qXDZdI3B0lNvB9btUiJPPU200jcVJOcrk5Vxsf4iXklsUdHMyJwrQ3l1g4UswitgLAgvU=</HostId></Error>\n"
     ]
    },
    {
     "name": "stdout",
     "output_type": "stream",
     "text": [
      "+proj=longlat +ellps=WGS84 +towgs84=0,0,0,0,0,0,0 +geoidgrids=us_nga_egm08_25.tif +geoid_crs=WGS84 +vunits=m +no_defs +type=crs\n",
      "\n",
      "WKT2:2019 string:\n",
      "COMPOUNDCRS[\"WGS 84 (G1150) + EGM2008 height\",\n",
      "    GEOGCRS[\"WGS 84 (G1150)\",\n",
      "        DYNAMIC[\n",
      "            FRAMEEPOCH[2001]],\n",
      "        DATUM[\"World Geodetic System 1984 (G1150)\",\n",
      "            ELLIPSOID[\"WGS 84\",6378137,298.257223563,\n",
      "                LENGTHUNIT[\"metre\",1]]],\n",
      "        PRIMEM[\"Greenwich\",0,\n",
      "            ANGLEUNIT[\"degree\",0.0174532925199433]],\n",
      "        CS[ellipsoidal,2],\n",
      "            AXIS[\"geodetic latitude (Lat)\",north,\n",
      "                ORDER[1],\n",
      "                ANGLEUNIT[\"degree\",0.0174532925199433]],\n",
      "            AXIS[\"geodetic longitude (Lon)\",east,\n",
      "                ORDER[2],\n",
      "                ANGLEUNIT[\"degree\",0.0174532925199433]],\n",
      "        USAGE[\n",
      "            SCOPE[\"Geodesy. Navigation and positioning using GPS satellite system.\"],\n",
      "            AREA[\"World.\"],\n",
      "            BBOX[-90,-180,90,180]],\n",
      "        ID[\"EPSG\",9055]],\n",
      "    VERTCRS[\"EGM2008 height\",\n",
      "        VDATUM[\"EGM2008 geoid\"],\n",
      "        CS[vertical,1],\n",
      "            AXIS[\"gravity-related height (H)\",up,\n",
      "                LENGTHUNIT[\"metre\",1]],\n",
      "        USAGE[\n",
      "            SCOPE[\"Geodesy.\"],\n",
      "            AREA[\"World.\"],\n",
      "            BBOX[-90,-180,90,180]],\n",
      "        ID[\"EPSG\",3855]]]\n"
     ]
    }
   ],
   "source": [
    "%%bash\n",
    "# NOTE: GEOGCRS[\"WGS 84 (G1150)\" + VERTCRS[\"EGM2008 height\"\n",
    "projinfo EPSG:9055+3855"
   ]
  },
  {
   "cell_type": "markdown",
   "metadata": {},
   "source": [
    "## Convert to ellipsoid height \n",
    "\n",
    "We are interested in comparing DEM elevations to altimeter elevations made by ICESAT-2. Which uses [EPSG:7912](https://epsg.io/7912) (ITRF2014 ellipsoid heights)."
   ]
  },
  {
   "cell_type": "markdown",
   "metadata": {},
   "source": [
    "The simplest transform to ellipsoid height would be to keep the same datum realization and apply a vertical shift to account for the geoid offset:"
   ]
  },
  {
   "cell_type": "markdown",
   "metadata": {},
   "source": [
    "### Caution: use 3D CRS"
   ]
  },
  {
   "cell_type": "code",
   "execution_count": 3,
   "metadata": {},
   "outputs": [
    {
     "name": "stdout",
     "output_type": "stream",
     "text": [
      "Candidate operations found: 1\n",
      "-------------------------------------\n",
      "Operation No. 1:\n",
      "\n",
      "unknown id, Null geographic offset from WGS 84 (G1150) to WGS 84 (G1150), 0 m, World.\n",
      "\n",
      "PROJ string:\n",
      "+proj=noop\n"
     ]
    }
   ],
   "source": [
    "%%bash\n",
    "\n",
    "# CAREFUL! 3D -> 2D definitions just ignore the Z-axis by default.\n",
    "projinfo -s EPSG:9055+3855 -t EPSG:9055 -o PROJ --hide-ballpark"
   ]
  },
  {
   "cell_type": "code",
   "execution_count": 4,
   "metadata": {},
   "outputs": [
    {
     "name": "stdout",
     "output_type": "stream",
     "text": [
      "Candidate operations found: 1\n",
      "-------------------------------------\n",
      "Operation No. 1:\n",
      "\n",
      "unknown id, Inverse of WGS 84 to EGM2008 height (1) using WGS 84 to WGS 84 (G1150), 5 m, World.\n",
      "\n",
      "PROJ string:\n",
      "+proj=pipeline\n",
      "  +step +proj=axisswap +order=2,1\n",
      "  +step +proj=unitconvert +xy_in=deg +xy_out=rad\n",
      "  +step +proj=vgridshift +grids=us_nga_egm08_25.tif +multiplier=1\n",
      "  +step +proj=unitconvert +xy_in=rad +xy_out=deg\n",
      "  +step +proj=axisswap +order=2,1\n"
     ]
    }
   ],
   "source": [
    "%%bash\n",
    "\n",
    "# WGS (G1150) 3D + EGM2008 -> WGS (G1150) 3D\n",
    "# NOTE: +step +proj=vgridshift +grids=us_nga_egm08_25.tif +multiplier=1\n",
    "# NOTE: The shift grid metadata uses WGS 84 ENSEMBLE (EPSG:4979) to EGM2008 height (EPSG:3855), resulting 5m accuracy?\n",
    "projinfo -s EPSG:9055+3855 -t EPSG:7661 -o PROJ --hide-ballpark"
   ]
  },
  {
   "cell_type": "code",
   "execution_count": 5,
   "metadata": {},
   "outputs": [
    {
     "name": "stdout",
     "output_type": "stream",
     "text": [
      "+proj=pipeline +step +proj=axisswap +order=2,1 +step +proj=unitconvert +xy_in=deg +xy_out=rad +step +proj=vgridshift +grids=us_nga_egm08_25.tif +multiplier=1 +step +proj=unitconvert +xy_in=rad +xy_out=deg +step +proj=axisswap +order=2,1\n"
     ]
    }
   ],
   "source": [
    "%%bash\n",
    "# To get a properly formatted single-line string to pass to other programs like gdalwarp:\n",
    "projinfo -s EPSG:9055+3855 -t EPSG:7661 -o PROJ --hide-ballpark --single-line -q"
   ]
  },
  {
   "cell_type": "code",
   "execution_count": 6,
   "metadata": {},
   "outputs": [
    {
     "name": "stdout",
     "output_type": "stream",
     "text": [
      "Downloading from https://cdn.proj.org into /Users/scotthenderson/Library/Application Support/proj\n",
      "https://cdn.proj.org/us_nga_egm08_25.tif already downloaded.\n"
     ]
    }
   ],
   "source": [
    "# If you're going to use this grid a lot, download it!\n",
    "!projsync --file us_nga_egm08_25"
   ]
  },
  {
   "cell_type": "code",
   "execution_count": 7,
   "metadata": {},
   "outputs": [
    {
     "name": "stdout",
     "output_type": "stream",
     "text": [
      "Driver: GTiff/GeoTIFF\n",
      "Files: /vsicurl/https://cdn.proj.org/us_nga_egm08_25.tif\n",
      "       /vsicurl/https://cdn.proj.org/us_nga_egm08_25.tif.aux.xml\n",
      "Size is 8640, 4321\n",
      "Coordinate System is:\n",
      "GEOGCRS[\"WGS 84\",\n",
      "    ENSEMBLE[\"World Geodetic System 1984 ensemble\",\n",
      "        MEMBER[\"World Geodetic System 1984 (Transit)\"],\n",
      "        MEMBER[\"World Geodetic System 1984 (G730)\"],\n",
      "        MEMBER[\"World Geodetic System 1984 (G873)\"],\n",
      "        MEMBER[\"World Geodetic System 1984 (G1150)\"],\n",
      "        MEMBER[\"World Geodetic System 1984 (G1674)\"],\n",
      "        MEMBER[\"World Geodetic System 1984 (G1762)\"],\n",
      "        MEMBER[\"World Geodetic System 1984 (G2139)\"],\n",
      "        MEMBER[\"World Geodetic System 1984 (G2296)\"],\n",
      "        ELLIPSOID[\"WGS 84\",6378137,298.257223563,\n",
      "            LENGTHUNIT[\"metre\",1]],\n",
      "        ENSEMBLEACCURACY[2.0]],\n",
      "    PRIMEM[\"Greenwich\",0,\n",
      "        ANGLEUNIT[\"degree\",0.0174532925199433]],\n",
      "    CS[ellipsoidal,3],\n",
      "        AXIS[\"geodetic latitude (Lat)\",north,\n",
      "            ORDER[1],\n",
      "            ANGLEUNIT[\"degree\",0.0174532925199433]],\n",
      "        AXIS[\"geodetic longitude (Lon)\",east,\n",
      "            ORDER[2],\n",
      "            ANGLEUNIT[\"degree\",0.0174532925199433]],\n",
      "        AXIS[\"ellipsoidal height (h)\",up,\n",
      "            ORDER[3],\n",
      "            LENGTHUNIT[\"metre\",1]],\n",
      "    USAGE[\n",
      "        SCOPE[\"Geodesy. Navigation and positioning using GPS satellite system.\"],\n",
      "        AREA[\"World.\"],\n",
      "        BBOX[-90,-180,90,180]],\n",
      "    ID[\"EPSG\",4979]]\n",
      "Data axis to CRS axis mapping: 2,1,3\n",
      "Origin = (-180.020833333333343,90.020833333333329)\n",
      "Pixel Size = (0.041666666666667,-0.041666666666667)\n",
      "Metadata:\n",
      "  TIFFTAG_IMAGEDESCRIPTION=WGS 84 (EPSG:4979) to EGM2008 height (EPSG:3855). Converted from egm08_25.gtx (last modified at 2018/10/08)\n",
      "  TIFFTAG_DATETIME=2019:12:27 00:00:00\n",
      "  TIFFTAG_COPYRIGHT=Derived from work by NGA. Public Domain\n",
      "  area_of_use=World\n",
      "  target_crs_epsg_code=3855\n",
      "  TYPE=VERTICAL_OFFSET_GEOGRAPHIC_TO_VERTICAL\n",
      "  AREA_OR_POINT=Point\n",
      "Image Structure Metadata:\n",
      "  COMPRESSION=DEFLATE\n",
      "  INTERLEAVE=BAND\n",
      "  PREDICTOR=3\n",
      "Corner Coordinates:\n",
      "Upper Left  (-180.0208333,  90.0208333) (180d 1'15.00\"W, 90d 1'15.00\"N)\n",
      "Lower Left  (-180.0208333, -90.0208333) (180d 1'15.00\"W, 90d 1'15.00\"S)\n",
      "Upper Right ( 179.9791667,  90.0208333) (179d58'45.00\"E, 90d 1'15.00\"N)\n",
      "Lower Right ( 179.9791667, -90.0208333) (179d58'45.00\"E, 90d 1'15.00\"S)\n",
      "Center      (  -0.0208333,   0.0000000) (  0d 1'15.00\"W,  0d 0' 0.00\"N)\n",
      "Band 1 Block=256x256 Type=Float32, ColorInterp=Gray\n",
      "  Description = geoid_undulation\n",
      "  Min=-50.018 Max=85.824 \n",
      "  Unit Type: metre\n",
      "  Metadata:\n",
      "    STATISTICS_APPROXIMATE=YES\n",
      "    STATISTICS_MAXIMUM=85.823783874512\n",
      "    STATISTICS_MEAN=1.0811106698347\n",
      "    STATISTICS_MINIMUM=-50.018199920654\n",
      "    STATISTICS_STDDEV=26.622038806097\n",
      "    STATISTICS_VALID_PERCENT=100\n"
     ]
    }
   ],
   "source": [
    "!gdalinfo /vsicurl/https://cdn.proj.org/us_nga_egm08_25.tif"
   ]
  },
  {
   "cell_type": "markdown",
   "metadata": {},
   "source": [
    "## Helmert transform to more recent WGS/ITRF Realization\n",
    "\n",
    "The helmert transform accounts for updates to the datum realization and plate motion over time (so t_epoch is specified). This provides a matrix-transform to go from one WGS84/ITRF realization to another. These transforms are applied to ECEF coordinates. You can get parameters via online calculators (https://itrf.ign.fr/en/solutions/transformations) or look them up in the PROJ database:"
   ]
  },
  {
   "cell_type": "code",
   "execution_count": 8,
   "metadata": {},
   "outputs": [
    {
     "name": "stdout",
     "output_type": "stream",
     "text": [
      "Candidate operations found: 1\n",
      "-------------------------------------\n",
      "Operation No. 1:\n",
      "\n",
      "unknown id, Conversion from WGS 84 (G1150) (geog3D) to WGS 84 (G1150) (geocentric) + WGS 84 (G1150) to WGS 84 (G1674) (1) + Conversion from WGS 84 (G1674) (geocentric) to WGS 84 (G1674) (geog3D), 0.02 m, World\n",
      "\n",
      "PROJ string:\n",
      "+proj=pipeline\n",
      "  +step +proj=axisswap +order=2,1\n",
      "  +step +proj=unitconvert +xy_in=deg +z_in=m +xy_out=rad +z_out=m\n",
      "  +step +proj=cart +ellps=WGS84\n",
      "  +step +proj=helmert +x=-0.0024 +y=0.0016 +z=0.0232 +rx=-0.00027 +ry=0.00027\n",
      "        +rz=-0.00038 +s=0.00208 +dx=-0.0001 +dy=-0.0001 +dz=0.0018 +drx=0 +dry=0\n",
      "        +drz=0 +ds=-8e-05 +t_epoch=2005 +convention=coordinate_frame\n",
      "  +step +inv +proj=cart +ellps=WGS84\n",
      "  +step +proj=unitconvert +xy_in=rad +z_in=m +xy_out=deg +z_out=m\n",
      "  +step +proj=axisswap +order=2,1\n"
     ]
    }
   ],
   "source": [
    "%%bash\n",
    "# No grid shift but next WGS realization\n",
    "# WGS (G1150) 3D + EGM2008 -> WGS (G1674) 3D\n",
    "projinfo -s EPSG:7661 -t EPSG:7663 -o PROJ"
   ]
  },
  {
   "cell_type": "code",
   "execution_count": 9,
   "metadata": {},
   "outputs": [
    {
     "name": "stdout",
     "output_type": "stream",
     "text": [
      "+proj=pipeline +step +proj=axisswap +order=2,1 +step +proj=unitconvert +xy_in=deg +z_in=m +xy_out=rad +z_out=m +step +proj=cart +ellps=WGS84 +step +proj=helmert +x=-0.0007 +y=-0.0012 +z=0.0261 +rx=0 +ry=0 +rz=0 +s=-0.00212 +dx=-0.0001 +dy=-0.0001 +dz=0.0019 +drx=0 +dry=0 +drz=0 +ds=-0.00011 +t_epoch=2010 +convention=position_vector +step +inv +proj=cart +ellps=GRS80 +step +proj=unitconvert +xy_in=rad +z_in=m +xy_out=deg +z_out=m +step +proj=axisswap +order=2,1\n"
     ]
    }
   ],
   "source": [
    "!projinfo -s EPSG:7661 -t EPSG:7912 -o PROJ --single-line -q"
   ]
  },
  {
   "cell_type": "code",
   "execution_count": 10,
   "metadata": {},
   "outputs": [],
   "source": [
    "%%bash\n",
    "# Combined NOTE: this requires PROJ>=9.6\n",
    "# https://github.com/OSGeo/PROJ/issues/4362\n",
    "#projinfo -s EPSG:9055+3855 -t EPSG:7663 -o proj"
   ]
  },
  {
   "cell_type": "markdown",
   "metadata": {},
   "source": [
    "```bash\n",
    "    +proj=pipeline\n",
    "      +step +proj=axisswap +order=2,1\n",
    "      +step +proj=unitconvert +xy_in=deg +xy_out=rad\n",
    "      +step +proj=vgridshift +grids=us_nga_egm08_25.tif +multiplier=1\n",
    "      +step +proj=cart +ellps=WGS84\n",
    "      +step +proj=helmert +x=-0.0024 +y=0.0016 +z=0.0232 +rx=-0.00027 +ry=0.00027\n",
    "            +rz=-0.00038 +s=0.00208 +dx=-0.0001 +dy=-0.0001 +dz=0.0018 +drx=0 +dry=0\n",
    "            +drz=0 +ds=-8e-05 +t_epoch=2005 +convention=coordinate_frame\n",
    "      +step +inv +proj=cart +ellps=WGS84\n",
    "      +step +proj=unitconvert +xy_in=rad +xy_out=deg\n",
    "      +step +proj=axisswap +order=2,1\n",
    "```"
   ]
  },
  {
   "cell_type": "code",
   "execution_count": 11,
   "metadata": {},
   "outputs": [],
   "source": [
    "# Note: using '--spatial-test intersects' would bring more results (62)\n",
    "# See https://proj.org/en/stable/apps/projinfo.html#cmdoption-projinfo-spatial-test\n",
    "# For global grid shifts --spatial-test interests isn't ideal because PROJ will offer options of using regional datums like GDA2020 (defined just for Australia)\n",
    "#!projinfo -s EPSG:9055+3855 -t EPSG:7912 -o proj"
   ]
  },
  {
   "cell_type": "markdown",
   "metadata": {},
   "source": [
    "```bash\n",
    "+proj=pipeline\n",
    "  +step +proj=axisswap +order=2,1\n",
    "  +step +proj=unitconvert +xy_in=deg +xy_out=rad\n",
    "  +step +proj=vgridshift +grids=us_nga_egm08_25.tif +multiplier=1\n",
    "  +step +proj=cart +ellps=WGS84\n",
    "  +step +proj=helmert +x=-0.0007 +y=-0.0012 +z=0.0261 +rx=0 +ry=0 +rz=0\n",
    "        +s=-0.00212 +dx=-0.0001 +dy=-0.0001 +dz=0.0019 +drx=0 +dry=0 +drz=0\n",
    "        +ds=-0.00011 +t_epoch=2010 +convention=position_vector\n",
    "  +step +inv +proj=cart +ellps=GRS80\n",
    "  +step +proj=unitconvert +xy_in=rad +xy_out=deg\n",
    "  +step +proj=axisswap +order=2,1\n",
    "```"
   ]
  },
  {
   "cell_type": "markdown",
   "metadata": {},
   "source": [
    "## Encoding transform in a GDAL VRT "
   ]
  },
  {
   "cell_type": "code",
   "execution_count": 12,
   "metadata": {},
   "outputs": [
    {
     "name": "stdout",
     "output_type": "stream",
     "text": [
      "Driver: VRT/Virtual Raster\n",
      "Size is 1296001, 626401\n",
      "Coordinate System is:\n",
      "GEOGCRS[\"WGS 84\",\n",
      "    DATUM[\"World Geodetic System 1984\",\n",
      "        ELLIPSOID[\"WGS 84\",6378137,298.257223563,\n",
      "            LENGTHUNIT[\"metre\",1]]],\n",
      "    PRIMEM[\"Greenwich\",0,\n",
      "        ANGLEUNIT[\"degree\",0.0174532925199433]],\n",
      "    CS[ellipsoidal,2],\n",
      "        AXIS[\"geodetic latitude (Lat)\",north,\n",
      "            ORDER[1],\n",
      "            ANGLEUNIT[\"degree\",0.0174532925199433]],\n",
      "        AXIS[\"geodetic longitude (Lon)\",east,\n",
      "            ORDER[2],\n",
      "            ANGLEUNIT[\"degree\",0.0174532925199433]],\n",
      "    ID[\"EPSG\",4326]]\n",
      "Data axis to CRS axis mapping: 2,1\n",
      "Origin = (-180.000138899999996,84.000138899999996)\n",
      "Pixel Size = (0.000277777777778,-0.000277777777778)\n",
      "Metadata:\n",
      "  AREA_OR_POINT=Point\n",
      "Corner Coordinates:\n",
      "Upper Left  (-180.0001389,  84.0001389) (180d 0' 0.50\"W, 84d 0' 0.50\"N)\n",
      "Lower Left  (-180.0001389, -90.0001389) (180d 0' 0.50\"W, 90d 0' 0.50\"S)\n",
      "Upper Right ( 180.0001389,  84.0001389) (180d 0' 0.50\"E, 84d 0' 0.50\"N)\n",
      "Lower Right ( 180.0001389, -90.0001389) (180d 0' 0.50\"E, 90d 0' 0.50\"S)\n",
      "Center      (  -0.0000000,  -3.0000000) (  0d 0' 0.00\"W,  3d 0' 0.00\"S)\n",
      "Band 1 Block=128x128 Type=Float32, ColorInterp=Gray\n"
     ]
    }
   ],
   "source": [
    "%%bash\n",
    "\n",
    "INPUT=/vsicurl/https://opentopography.s3.sdsc.edu/raster/COP30/COP30_hh.vrt\n",
    "\n",
    "# NOTE: -nofl is for \"no file list\" (Useful For VRTs with tons of rasters!)\n",
    "# NOTE: EPSG:4326 is wrong :( so we need to override it!\n",
    "\n",
    "GDAL_DISABLE_READDIR_ON_OPEN=EMPTY_DIR \\\n",
    " gdalinfo -nofl $INPUT"
   ]
  },
  {
   "cell_type": "code",
   "execution_count": 13,
   "metadata": {},
   "outputs": [
    {
     "name": "stdout",
     "output_type": "stream",
     "text": [
      "Driver: VRT/Virtual Raster\n",
      "Size is 1296001, 626399\n",
      "Coordinate System is:\n",
      "GEOGCRS[\"WGS 84\",\n",
      "    DATUM[\"World Geodetic System 1984\",\n",
      "        ELLIPSOID[\"WGS 84\",6378137,298.257223563,\n",
      "            LENGTHUNIT[\"metre\",1]]],\n",
      "    PRIMEM[\"Greenwich\",0,\n",
      "        ANGLEUNIT[\"degree\",0.0174532925199433]],\n",
      "    CS[ellipsoidal,2],\n",
      "        AXIS[\"geodetic latitude (Lat)\",north,\n",
      "            ORDER[1],\n",
      "            ANGLEUNIT[\"degree\",0.0174532925199433]],\n",
      "        AXIS[\"geodetic longitude (Lon)\",east,\n",
      "            ORDER[2],\n",
      "            ANGLEUNIT[\"degree\",0.0174532925199433]],\n",
      "    ID[\"EPSG\",4326]]\n",
      "Data axis to CRS axis mapping: 2,1\n",
      "Origin = (-180.000138899999996,84.000694455555546)\n",
      "Pixel Size = (0.000277777777778,-0.000277777777778)\n",
      "Metadata:\n",
      "  AREA_OR_POINT=Point\n",
      "Corner Coordinates:\n",
      "Upper Left  (-180.0001389,  84.0006945) (180d 0' 0.50\"W, 84d 0' 2.50\"N)\n",
      "Lower Left  (-180.0001389, -89.9990278) (180d 0' 0.50\"W, 89d59'56.50\"S)\n",
      "Upper Right ( 180.0001389,  84.0006945) (180d 0' 0.50\"E, 84d 0' 2.50\"N)\n",
      "Lower Right ( 180.0001389, -89.9990278) (180d 0' 0.50\"E, 89d59'56.50\"S)\n",
      "Center      (  -0.0000000,  -2.9991667) (  0d 0' 0.00\"W,  2d59'57.00\"S)\n",
      "Band 1 Block=128x128 Type=Float32, ColorInterp=Gray\n"
     ]
    }
   ],
   "source": [
    "%%bash\n",
    "\n",
    "# A way to trim out of bounds pixels (< -90 latitude) in theory this will get rid of\n",
    "# ERROR 1: PROJ: vgridshift: Invalid latitude\n",
    "# But would need to adjust transform on the VRT as well...\n",
    "\n",
    "GDAL_DISABLE_READDIR_ON_OPEN=EMPTY_DIR \\\n",
    " gdalinfo -nofl \"vrt:///tmp/COP30_hh.vrt?srcwin=0,-2,1296001,626399\"\n"
   ]
  },
  {
   "cell_type": "code",
   "execution_count": 13,
   "metadata": {},
   "outputs": [
    {
     "name": "stdout",
     "output_type": "stream",
     "text": [
      "+proj=pipeline +step +proj=axisswap +order=2,1 +step +proj=unitconvert +xy_in=deg +xy_out=rad +step +proj=vgridshift +grids=us_nga_egm08_25.tif +multiplier=1 +step +proj=unitconvert +xy_in=rad +xy_out=deg +step +proj=axisswap +order=2,1\n",
      "Creating output file that is 1296001P x 626401L.\n",
      "Processing /vsicurl/https://opentopography.s3.sdsc.edu/raster/COP30/COP30_hh.vrt [1/1] : 0...10...20...30...40...50...60...70...80...90...100 - done.\n"
     ]
    }
   ],
   "source": [
    "%%bash\n",
    "\n",
    "# ENSURE EGM2008 applied\n",
    "\n",
    "PROJ_PIPELINE='+proj=pipeline +step +proj=axisswap +order=2,1 +step +proj=unitconvert +xy_in=deg +xy_out=rad +step +proj=vgridshift +grids=us_nga_egm08_25.tif +multiplier=1 +step +proj=unitconvert +xy_in=rad +xy_out=deg +step +proj=axisswap +order=2,1'\n",
    "echo $PROJ_PIPELINE\n",
    "INPUT=/vsicurl/https://opentopography.s3.sdsc.edu/raster/COP30/COP30_hh.vrt\n",
    "OUTPUT=COP30_hh_7661.vrt\n",
    "\n",
    "CPL_DEBUG=OFF PROJ_DEBUG=2 \\\n",
    " PROJ_NETWORK=ON \\\n",
    " GDAL_DISABLE_READDIR_ON_OPEN=EMPTY_DIR \\\n",
    " gdalwarp -overwrite -wm 500 \\\n",
    "    -co BLOCKXSIZE=128 -co BLOCKYSIZE=128 \\\n",
    "    -te -180.000138888888898 -90.000138888888891 180.000138888888891 84.000138888888891 \\\n",
    "    -tr 0.000277777777778 0.000277777777778 \\\n",
    "    -s_srs EPSG:9055+3855 -t_srs EPSG:7661 \\\n",
    "    -ct \"${PROJ_PIPELINE}\" \\\n",
    "    ${INPUT} ${OUTPUT}\n"
   ]
  },
  {
   "cell_type": "code",
   "execution_count": 15,
   "metadata": {},
   "outputs": [
    {
     "name": "stdout",
     "output_type": "stream",
     "text": [
      "+proj=pipeline +step +proj=axisswap +order=2,1 +step +proj=unitconvert +xy_in=deg +xy_out=rad +step +proj=vgridshift +grids=us_nga_egm08_25.tif +multiplier=1 +step +proj=cart +ellps=WGS84 +step +proj=helmert +x=-0.0007 +y=-0.0012 +z=0.0261 +rx=0 +ry=0 +rz=0 +s=-0.00212 +dx=-0.0001 +dy=-0.0001 +dz=0.0019 +drx=0 +dry=0 +drz=0 +ds=-0.00011 +t_epoch=2010 +convention=position_vector +step +inv +proj=cart +ellps=GRS80 +step +proj=unitconvert +xy_in=rad +xy_out=deg +step +proj=axisswap +order=2,1\n",
      "Creating output file that is 1296001P x 626401L.\n",
      "Processing /vsicurl/https://opentopography.s3.sdsc.edu/raster/COP30/COP30_hh.vrt [1/1] : 0...10...20...30...40...50...60...70...80...90...100 - done.\n"
     ]
    }
   ],
   "source": [
    "%%bash\n",
    "\n",
    "# Use GDAL Warp to *encode* the appropriate PROJ pipeline\n",
    "# Pass extents explicity using PROJ pipeline\n",
    "# https://github.com/OSGeo/gdal/issues/11610\n",
    "PROJ_PIPELINE='+proj=pipeline +step +proj=axisswap +order=2,1 +step +proj=unitconvert +xy_in=deg +xy_out=rad +step +proj=vgridshift +grids=us_nga_egm08_25.tif +multiplier=1 +step +proj=cart +ellps=WGS84 +step +proj=helmert +x=-0.0007 +y=-0.0012 +z=0.0261 +rx=0 +ry=0 +rz=0 +s=-0.00212 +dx=-0.0001 +dy=-0.0001 +dz=0.0019 +drx=0 +dry=0 +drz=0 +ds=-0.00011 +t_epoch=2010 +convention=position_vector +step +inv +proj=cart +ellps=GRS80 +step +proj=unitconvert +xy_in=rad +xy_out=deg +step +proj=axisswap +order=2,1'\n",
    "echo $PROJ_PIPELINE\n",
    "INPUT=/vsicurl/https://opentopography.s3.sdsc.edu/raster/COP30/COP30_hh.vrt\n",
    "OUTPUT=/tmp/COP30_hh_7912.vrt\n",
    "\n",
    "CPL_DEBUG=OFF PROJ_DEBUG=2 \\\n",
    " PROJ_NETWORK=ON \\\n",
    " GDAL_DISABLE_READDIR_ON_OPEN=EMPTY_DIR \\\n",
    " gdalwarp -overwrite -wm 500 \\\n",
    "    -co BLOCKXSIZE=128 -co BLOCKYSIZE=128 \\\n",
    "    -te -180.000138888888898 -90.000138888888891 180.000138888888891 84.000138888888891 \\\n",
    "    -tr 0.000277777777778 0.000277777777778 \\\n",
    "    -s_srs EPSG:9055+3855 -t_srs EPSG:7912 \\\n",
    "    -ct \"${PROJ_PIPELINE}\" \\\n",
    "    ${INPUT} ${OUTPUT}"
   ]
  },
  {
   "cell_type": "markdown",
   "metadata": {},
   "source": [
    "## Validation \n",
    "\n",
    "1. Query points & compare to transforming single points via PROJ \n",
    "2. Transform a single tiff from within the VRT and compare to on-the-fly transform of same subset region "
   ]
  },
  {
   "cell_type": "code",
   "execution_count": 16,
   "metadata": {},
   "outputs": [
    {
     "name": "stdout",
     "output_type": "stream",
     "text": [
      "Report:\n",
      "  Location: (264600.50004P,163800.50004L)\n",
      "  Band 1:\n",
      "    <LocationInfo><File>/vsicurl/https://opentopography.s3.sdsc.edu/raster/COP30/COP30_hh/Copernicus_DSM_10_N38_00_W107_00_DEM.tif</File></LocationInfo>\n",
      "    Value: 2758.54790051775\n"
     ]
    }
   ],
   "source": [
    "%%bash\n",
    "\n",
    "INPUT=/vsicurl/https://opentopography.s3.sdsc.edu/raster/COP30/COP30_hh.vrt\n",
    "CPL_DEBUG=OFF GDAL_DISABLE_READDIR_ON_OPEN=EMPTY_DIR \\\n",
    " gdallocationinfo -r bilinear -geoloc $INPUT -106.500 38.500"
   ]
  },
  {
   "cell_type": "code",
   "execution_count": 18,
   "metadata": {},
   "outputs": [
    {
     "name": "stdout",
     "output_type": "stream",
     "text": [
      "Report:\n",
      "  Location: (1800.5P,1800.5L)\n",
      "  Band 1:\n",
      "    Value: 2758.5478515625\n"
     ]
    }
   ],
   "source": [
    "%%bash\n",
    "# Sample exactly the same point from the embedded TIFF\n",
    "# NOTE: not sure why these don't agree at the sub-mm level...\n",
    "INPUT=/vsicurl/https://opentopography.s3.sdsc.edu/raster/COP30/COP30_hh/Copernicus_DSM_10_N38_00_W107_00_DEM.tif\n",
    "CPL_DEBUG=OFF GDAL_DISABLE_READDIR_ON_OPEN=EMPTY_DIR \\\n",
    " gdallocationinfo -r bilinear -geoloc $INPUT -106.500 38.500"
   ]
  },
  {
   "cell_type": "code",
   "execution_count": 19,
   "metadata": {},
   "outputs": [
    {
     "name": "stderr",
     "output_type": "stream",
     "text": [
      "ERROR 1: PROJ: vgridshift: Invalid latitude\n",
      "ERROR 1: PROJ: vgridshift: Invalid latitude\n",
      "ERROR 1: PROJ: vgridshift: Invalid latitude\n",
      "ERROR 1: PROJ: vgridshift: Invalid latitude\n",
      "ERROR 1: PROJ: vgridshift: Invalid latitude\n",
      "ERROR 1: PROJ: vgridshift: Invalid latitude\n",
      "ERROR 1: PROJ: vgridshift: Invalid latitude\n",
      "ERROR 1: PROJ: vgridshift: Invalid latitude\n",
      "ERROR 1: PROJ: vgridshift: Invalid latitude\n",
      "ERROR 1: PROJ: vgridshift: Invalid latitude\n",
      "ERROR 1: PROJ: vgridshift: Invalid latitude\n",
      "ERROR 1: PROJ: vgridshift: Invalid latitude\n",
      "ERROR 1: PROJ: vgridshift: Invalid latitude\n",
      "ERROR 1: PROJ: vgridshift: Invalid latitude\n",
      "ERROR 1: PROJ: vgridshift: Invalid latitude\n",
      "ERROR 1: PROJ: vgridshift: Invalid latitude\n",
      "ERROR 1: PROJ: vgridshift: Invalid latitude\n",
      "ERROR 1: PROJ: vgridshift: Invalid latitude\n",
      "ERROR 1: PROJ: vgridshift: Invalid latitude\n",
      "ERROR 1: PROJ: vgridshift: Invalid latitude\n",
      "ERROR 1: PROJ: vgridshift: Invalid latitude\n",
      "ERROR 1: PROJ: vgridshift: Invalid latitude\n",
      "ERROR 1: PROJ: vgridshift: Invalid latitude\n"
     ]
    },
    {
     "name": "stdout",
     "output_type": "stream",
     "text": [
      "Report:\n",
      "  Location: (264600.499999788P,163800.499999869L)\n",
      "  Band 1:\n",
      "    Value: 2744.04248051403\n"
     ]
    }
   ],
   "source": [
    "%%bash\n",
    "# Confirm Geoid shift ~10m yep.\n",
    "INPUT=/tmp/COP30_hh_7912.vrt\n",
    "CPL_DEBUG=OFF GDAL_DISABLE_READDIR_ON_OPEN=EMPTY_DIR \\\n",
    " gdallocationinfo -r bilinear -geoloc $INPUT -106.500 38.500\n"
   ]
  },
  {
   "cell_type": "code",
   "execution_count": 20,
   "metadata": {},
   "outputs": [
    {
     "name": "stdout",
     "output_type": "stream",
     "text": [
      "      38.50000      -106.50000    2744.04248           inf\n"
     ]
    }
   ],
   "source": [
    "%%bash\n",
    "# 7912 Single point using proj, agrees w/ GDAL to sub-mm levels\n",
    "PROJ_PIPELINE='+proj=pipeline +step +proj=axisswap +order=2,1 +step +proj=unitconvert +xy_in=deg +xy_out=rad +step +proj=vgridshift +grids=us_nga_egm08_25.tif +multiplier=1 +step +proj=cart +ellps=WGS84 +step +proj=helmert +x=-0.0007 +y=-0.0012 +z=0.0261 +rx=0 +ry=0 +rz=0 +s=-0.00212 +dx=-0.0001 +dy=-0.0001 +dz=0.0019 +drx=0 +dry=0 +drz=0 +ds=-0.00011 +t_epoch=2010 +convention=position_vector +step +inv +proj=cart +ellps=GRS80 +step +proj=unitconvert +xy_in=rad +xy_out=deg +step +proj=axisswap +order=2,1'\n",
    "#USE proj directly to convert this point\n",
    "echo 38.5000000 -106.5000000 2758.54790051775 | cct -d 5 $PROJ_PIPELINE"
   ]
  },
  {
   "cell_type": "code",
   "execution_count": null,
   "metadata": {},
   "outputs": [],
   "source": []
  }
 ],
 "metadata": {
  "kernelspec": {
   "display_name": "default",
   "language": "python",
   "name": "python3"
  },
  "language_info": {
   "codemirror_mode": {
    "name": "ipython",
    "version": 3
   },
   "file_extension": ".py",
   "mimetype": "text/x-python",
   "name": "python",
   "nbconvert_exporter": "python",
   "pygments_lexer": "ipython3",
   "version": "3.13.5"
  }
 },
 "nbformat": 4,
 "nbformat_minor": 2
}
