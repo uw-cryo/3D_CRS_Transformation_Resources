{
 "cells": [
  {
   "cell_type": "markdown",
   "id": "72faf90a",
   "metadata": {},
   "source": [
    "\n",
    "# Reproject ICESat-2 Elevation Points with GeoPandas"
   ]
  },
  {
   "cell_type": "code",
   "execution_count": null,
   "id": "aff6d69e-07f9-4b6c-87d5-5ca7a13c08d0",
   "metadata": {
    "tags": []
   },
   "outputs": [],
   "source": [
    "# To surface background logging messages from PROJ\n",
    "import os\n",
    "os.environ['USE_PYGEOS'] = '0'\n",
    "os.environ['PROJ_DEBUG'] = '2' # For showing logs\n",
    "#os.environ['PROJ_NETWORK'] = 'ON' # Ensure this is 'ON' to get shift grids over the internet\n",
    "print(os.environ['PROJ_NETWORK'])"
   ]
  },
  {
   "cell_type": "code",
   "execution_count": null,
   "id": "a5748199",
   "metadata": {},
   "outputs": [],
   "source": [
    "import fiona\n",
    "import geopandas as gpd"
   ]
  },
  {
   "cell_type": "code",
   "execution_count": null,
   "id": "a2078edc-442b-4ee2-be8a-fd6f47ed0743",
   "metadata": {
    "tags": []
   },
   "outputs": [],
   "source": [
    "gpd.show_versions()"
   ]
  },
  {
   "cell_type": "code",
   "execution_count": null,
   "id": "f4c5d69c-7a9b-48e3-a79e-13addc10ff35",
   "metadata": {
    "tags": []
   },
   "outputs": [],
   "source": [
    "# Saved from sliderule:\n",
    "#gf = icesat2.atl06p({}, resources=['ATL03_20181019224323_03250112_005_01.h5'])\n",
    "#gf[:100].to_file('ATL03_20181019224323_03250112_005_01.geojson', driver='GeoJSON')\n",
    "gf = gpd.read_file('ATL03_20181019224323_03250112_005_01.geojson')"
   ]
  },
  {
   "cell_type": "code",
   "execution_count": null,
   "id": "20851bf4-27e5-4b53-a82d-610844621713",
   "metadata": {
    "tags": []
   },
   "outputs": [],
   "source": [
    "gf.head(2)"
   ]
  },
  {
   "cell_type": "code",
   "execution_count": null,
   "id": "4e0aab03",
   "metadata": {},
   "outputs": [],
   "source": [
    "gf.crs"
   ]
  },
  {
   "cell_type": "code",
   "execution_count": null,
   "id": "18957036-0c63-4c6d-b7ba-92d33d66c8ac",
   "metadata": {
    "tags": []
   },
   "outputs": [],
   "source": [
    "# Always check where you data is!\n",
    "points = gf.reset_index()\n",
    "points.loc[:, 'time'] = points.time.dt.strftime('%Y-%m-%d')\n",
    "points.explore(zoom_start=2, column='h_mean')"
   ]
  },
  {
   "cell_type": "code",
   "execution_count": null,
   "id": "46d8f194-ae4e-44d8-b0c7-6f820ed6d5d3",
   "metadata": {
    "tags": []
   },
   "outputs": [],
   "source": [
    "# Get bounding box of all of our points\n",
    "w,s,e,n = gf.union_all().bounds #W, S, E, N\n",
    "print(w,s,e,n)"
   ]
  },
  {
   "cell_type": "code",
   "execution_count": null,
   "id": "e02040c2-aa7d-4962-affc-fc6430e76aae",
   "metadata": {
    "tags": []
   },
   "outputs": [],
   "source": [
    "#!projinfo -s EPSG:7912 -t EPSG:9518 -o PROJ --hide-ballpark --spatial-test intersects\n",
    "!projinfo -s EPSG:7912 -t EPSG:9518 -o PROJ --bbox {w},{s},{e},{n}  --hide-ballpark --spatial-test intersects"
   ]
  },
  {
   "cell_type": "code",
   "execution_count": null,
   "id": "4006bcc0-14dd-4bbd-aa8f-9e37df3ff1fc",
   "metadata": {
    "tags": []
   },
   "outputs": [],
   "source": [
    "# NOTE: only vshift so only expect vertical coordinate change\n",
    "points3D = gpd.points_from_xy(gf.geometry.x, gf.geometry.y, gf.h_mean)\n",
    "gf3D = gpd.GeoDataFrame(geometry=points3D, crs='EPSG:7912')\n",
    "gf3D.head(2)"
   ]
  },
  {
   "cell_type": "code",
   "execution_count": null,
   "id": "38a740de-3c30-4434-a865-22374c7a7f19",
   "metadata": {
    "tags": []
   },
   "outputs": [],
   "source": [
    "gf3D.crs"
   ]
  },
  {
   "cell_type": "code",
   "execution_count": null,
   "id": "cd570844",
   "metadata": {},
   "outputs": [],
   "source": [
    "gf3D[:1].get_coordinates(include_z=True)"
   ]
  },
  {
   "cell_type": "code",
   "execution_count": null,
   "id": "84ea693d-64b1-463c-889d-2a79295dbaf5",
   "metadata": {
    "tags": []
   },
   "outputs": [],
   "source": [
    "gfGeoid = gf3D.to_crs(epsg=9518)\n",
    "gfGeoid[:1].get_coordinates(include_z=True)"
   ]
  },
  {
   "cell_type": "code",
   "execution_count": null,
   "id": "30c8b1dc-da22-4556-8f7b-fec65ff10d3c",
   "metadata": {
    "tags": []
   },
   "outputs": [],
   "source": [
    "# SHow debug log\n",
    "\n",
    "# CAREFUL, geopandas will happily do bogus transforms for you!\n",
    "\n",
    "import logging\n",
    "logging.basicConfig(level=logging.DEBUG)\n",
    "\n",
    "with fiona.Env(CPL_DEBUG=True):\n",
    "    test = gf3D.to_crs(epsg=\"2927+5703\")"
   ]
  },
  {
   "cell_type": "code",
   "execution_count": null,
   "id": "daf65bfc-2dff-4a88-a0dd-d2ef04c1fa76",
   "metadata": {
    "tags": []
   },
   "outputs": [],
   "source": [
    "test.head()"
   ]
  }
 ],
 "metadata": {
  "kernelspec": {
   "display_name": "default",
   "language": "python",
   "name": "python3"
  },
  "language_info": {
   "codemirror_mode": {
    "name": "ipython",
    "version": 3
   },
   "file_extension": ".py",
   "mimetype": "text/x-python",
   "name": "python",
   "nbconvert_exporter": "python",
   "pygments_lexer": "ipython3",
   "version": "3.13.5"
  }
 },
 "nbformat": 4,
 "nbformat_minor": 5
}
