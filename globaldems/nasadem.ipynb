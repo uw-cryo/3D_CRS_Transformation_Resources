{
 "cells": [
  {
   "cell_type": "markdown",
   "metadata": {},
   "source": [
    "---\n",
    "skip_execution: true\n",
    "---"
   ]
  },
  {
   "cell_type": "markdown",
   "metadata": {},
   "source": [
    "# NASADEM\n",
    "\n",
    "It's reprocessed SRTM, so assume the same vertical reference as SRTM:\n",
    "\n",
    "WGS (G1150) 3D + EGM1996 = EPSG:9055+5773 \n",
    "\n",
    "https://spatialreference.org/ref/epsg/9055/ \n",
    "\n",
    "https://spatialreference.org/ref/epsg/5773/\n",
    "\n",
    "https://portal.opentopography.org/datasetMetadata?otCollectionID=OT.032021.4326.2\n",
    "\n",
    "Also on Planetary Computer:\n",
    "https://planetarycomputer.microsoft.com/dataset/nasadem\n"
   ]
  },
  {
   "cell_type": "code",
   "execution_count": 1,
   "metadata": {},
   "outputs": [
    {
     "name": "stdout",
     "output_type": "stream",
     "text": [
      "Driver: VRT/Virtual Raster\n",
      "Size is 1288801, 421201\n",
      "Coordinate System is:\n",
      "GEOGCRS[\"WGS 84\",\n",
      "    DATUM[\"World Geodetic System 1984\",\n",
      "        ELLIPSOID[\"WGS 84\",6378137,298.257223563,\n",
      "            LENGTHUNIT[\"metre\",1]]],\n",
      "    PRIMEM[\"Greenwich\",0,\n",
      "        ANGLEUNIT[\"degree\",0.0174532925199433]],\n",
      "    CS[ellipsoidal,2],\n",
      "        AXIS[\"geodetic latitude (Lat)\",north,\n",
      "            ORDER[1],\n",
      "            ANGLEUNIT[\"degree\",0.0174532925199433]],\n",
      "        AXIS[\"geodetic longitude (Lon)\",east,\n",
      "            ORDER[2],\n",
      "            ANGLEUNIT[\"degree\",0.0174532925199433]],\n",
      "    ID[\"EPSG\",4326]]\n",
      "Data axis to CRS axis mapping: 2,1\n",
      "Origin = (-179.000138888888898,61.000138888888891)\n",
      "Pixel Size = (0.000277777777778,-0.000277777777778)\n",
      "Corner Coordinates:\n",
      "Upper Left  (-179.0001389,  61.0001389) (179d 0' 0.50\"W, 61d 0' 0.50\"N)\n",
      "Lower Left  (-179.0001389, -56.0001389) (179d 0' 0.50\"W, 56d 0' 0.50\"S)\n",
      "Upper Right ( 179.0001389,  61.0001389) (179d 0' 0.50\"E, 61d 0' 0.50\"N)\n",
      "Lower Right ( 179.0001389, -56.0001389) (179d 0' 0.50\"E, 56d 0' 0.50\"S)\n",
      "Center      (   0.0000000,   2.5000000) (  0d 0' 0.00\"E,  2d30' 0.00\"N)\n",
      "Band 1 Block=128x128 Type=Int16, ColorInterp=Gray\n",
      "  NoData Value=-32768\n"
     ]
    }
   ],
   "source": [
    "%%bash\n",
    "\n",
    "INPUT=/vsicurl/https://opentopography.s3.sdsc.edu/raster/NASADEM/NASADEM_be.vrt\n",
    "CPL_DEBUG=OFF GDAL_DISABLE_READDIR_ON_OPEN=EMPTY_DIR \\\n",
    " gdalinfo -nofl $INPUT"
   ]
  },
  {
   "cell_type": "code",
   "execution_count": 2,
   "metadata": {},
   "outputs": [],
   "source": [
    "#%%bash\n",
    "# Also inspect a single tile:\n",
    "#GDAL_DISABLE_READDIR_ON_OPEN=EMPTY_DIR \\\n",
    "# gdalinfo /vsicurl/https://opentopography.s3.sdsc.edu/raster/NASADEM/NASADEM_be/NASADEM_HGT_n38w107.tif"
   ]
  },
  {
   "cell_type": "code",
   "execution_count": 3,
   "metadata": {},
   "outputs": [
    {
     "name": "stdout",
     "output_type": "stream",
     "text": [
      "Report:\n",
      "  Location: (261000P,81000L)\n",
      "  Band 1:\n",
      "    <LocationInfo><File>/vsicurl/https://opentopography.s3.sdsc.edu/raster/NASADEM/NASADEM_be/NASADEM_HGT_n38w107.tif</File></LocationInfo>\n",
      "    Value: 2762\n"
     ]
    }
   ],
   "source": [
    "%%bash\n",
    "\n",
    "INPUT=/vsicurl/https://opentopography.s3.sdsc.edu/raster/NASADEM/NASADEM_be.vrt\n",
    "CPL_DEBUG=OFF GDAL_DISABLE_READDIR_ON_OPEN=EMPTY_DIR \\\n",
    " gdallocationinfo -geoloc $INPUT -106.500 38.500"
   ]
  },
  {
   "cell_type": "markdown",
   "metadata": {},
   "source": [
    "## Convert to Ellipsoid Height \n",
    "\n",
    "Combined vertical shift grid + helmert transform https://github.com/OSGeo/PROJ/issues/4362\n"
   ]
  },
  {
   "cell_type": "code",
   "execution_count": 5,
   "metadata": {},
   "outputs": [
    {
     "name": "stdout",
     "output_type": "stream",
     "text": [
      "Creating output file that is 1288801P x 421201L.\n",
      "Using internal nodata values (e.g. -32768) for image /vsicurl/https://opentopography.s3.sdsc.edu/raster/NASADEM/NASADEM_be.vrt.\n",
      "Copying nodata values from source /vsicurl/https://opentopography.s3.sdsc.edu/raster/NASADEM/NASADEM_be.vrt to destination nasadem_7661.vrt.\n",
      "Processing /vsicurl/https://opentopography.s3.sdsc.edu/raster/NASADEM/NASADEM_be.vrt [1/1] : 0...10...20...30...40...50...60...70...80...90...100 - done.\n"
     ]
    }
   ],
   "source": [
    "%%bash\n",
    "\n",
    "SSRS='EPSG:9055+5773'\n",
    "TSRS='EPSG:7661'\n",
    "PROJ_PIPELINE=`projinfo -s EPSG:9055+5773 -t EPSG:7661 -o PROJ --hide-ballpark -q --single-line`\n",
    "INPUT=/vsicurl/https://opentopography.s3.sdsc.edu/raster/NASADEM/NASADEM_be.vrt\n",
    "OUTPUT=nasadem_7661.vrt\n",
    "\n",
    "CPL_DEBUG=OFF PROJ_DEBUG=2 \\\n",
    " PROJ_NETWORK=ON \\\n",
    " GDAL_DISABLE_READDIR_ON_OPEN=EMPTY_DIR \\\n",
    " gdalwarp -overwrite -wm 500 -r bilinear -ot Float32 -te -179.0001389 -56.0001389 179.0001389 61.0001389 -s_srs $SSRS -t_srs $TSRS -ct \"${PROJ_PIPELINE}\" ${INPUT} ${OUTPUT}\n"
   ]
  },
  {
   "cell_type": "code",
   "execution_count": 6,
   "metadata": {},
   "outputs": [
    {
     "name": "stdout",
     "output_type": "stream",
     "text": [
      "Report:\n",
      "  Location: (261000P,81000L)\n",
      "  Band 1:\n",
      "    Value: 2747.1591796875\n"
     ]
    }
   ],
   "source": [
    "%%bash\n",
    "\n",
    "INPUT=nasadem_7661.vrt\n",
    "CPL_DEBUG=OFF GDAL_DISABLE_READDIR_ON_OPEN=EMPTY_DIR \\\n",
    " gdallocationinfo -geoloc $INPUT -106.500 38.500"
   ]
  },
  {
   "cell_type": "code",
   "execution_count": 7,
   "metadata": {},
   "outputs": [
    {
     "data": {
      "text/plain": [
       "'+proj=pipeline  +step +proj=axisswap +order=2,1  +step +proj=unitconvert +xy_in=deg +xy_out=rad  +step +proj=vgridshift +grids=us_nga_egm96_15.tif +multiplier=1  +step +proj=cart +ellps=WGS84  +step +proj=helmert +x=-0.0007 +y=-0.0012 +z=0.0261 +rx=0 +ry=0 +rz=0        +s=-0.00212 +dx=-0.0001 +dy=-0.0001 +dz=0.0019 +drx=0 +dry=0 +drz=0        +ds=-0.00011 +t_epoch=2010 +convention=position_vector  +step +inv +proj=cart +ellps=GRS80  +step +proj=unitconvert +xy_in=rad +z_in=m +xy_out=deg +z_out=m  +step +proj=axisswap +order=2,1'"
      ]
     },
     "execution_count": 7,
     "metadata": {},
     "output_type": "execute_result"
    }
   ],
   "source": [
    "#projinfo -s EPSG:9055+5773 -t EPSG:7661 -o PROJ --hide-ballpark -q --single-line\n",
    "#projinfo -s EPSG:9055 -t EPSG:7912 -o PROJ --hide-ballpark --single-line -q\n",
    "pipeline='''+proj=pipeline\n",
    "  +step +proj=axisswap +order=2,1\n",
    "  +step +proj=unitconvert +xy_in=deg +xy_out=rad\n",
    "  +step +proj=vgridshift +grids=us_nga_egm96_15.tif +multiplier=1\n",
    "  +step +proj=cart +ellps=WGS84\n",
    "  +step +proj=helmert +x=-0.0007 +y=-0.0012 +z=0.0261 +rx=0 +ry=0 +rz=0\n",
    "        +s=-0.00212 +dx=-0.0001 +dy=-0.0001 +dz=0.0019 +drx=0 +dry=0 +drz=0\n",
    "        +ds=-0.00011 +t_epoch=2010 +convention=position_vector\n",
    "  +step +inv +proj=cart +ellps=GRS80\n",
    "  +step +proj=unitconvert +xy_in=rad +z_in=m +xy_out=deg +z_out=m\n",
    "  +step +proj=axisswap +order=2,1'''\n",
    "pipeline.replace('\\n','')"
   ]
  },
  {
   "cell_type": "code",
   "execution_count": 9,
   "metadata": {},
   "outputs": [
    {
     "name": "stdout",
     "output_type": "stream",
     "text": [
      "Creating output file that is 1288801P x 421201L.\n",
      "Using internal nodata values (e.g. -32768) for image /vsicurl/https://opentopography.s3.sdsc.edu/raster/NASADEM/NASADEM_be.vrt.\n",
      "Copying nodata values from source /vsicurl/https://opentopography.s3.sdsc.edu/raster/NASADEM/NASADEM_be.vrt to destination nasadem_7912.vrt.\n",
      "Processing /vsicurl/https://opentopography.s3.sdsc.edu/raster/NASADEM/NASADEM_be.vrt [1/1] : 0...10...20...30...40...50...60...70...80...90...100 - done.\n"
     ]
    }
   ],
   "source": [
    "%%bash\n",
    "\n",
    "SSRS='EPSG:9055+5773'\n",
    "TSRS='EPSG:7912'\n",
    "PROJ_PIPELINE='+proj=pipeline  +step +proj=axisswap +order=2,1  +step +proj=unitconvert +xy_in=deg +xy_out=rad  +step +proj=vgridshift +grids=us_nga_egm96_15.tif +multiplier=1  +step +proj=cart +ellps=WGS84  +step +proj=helmert +x=-0.0007 +y=-0.0012 +z=0.0261 +rx=0 +ry=0 +rz=0        +s=-0.00212 +dx=-0.0001 +dy=-0.0001 +dz=0.0019 +drx=0 +dry=0 +drz=0        +ds=-0.00011 +t_epoch=2010 +convention=position_vector  +step +inv +proj=cart +ellps=GRS80  +step +proj=unitconvert +xy_in=rad +z_in=m +xy_out=deg +z_out=m  +step +proj=axisswap +order=2,1'\n",
    "INPUT=/vsicurl/https://opentopography.s3.sdsc.edu/raster/NASADEM/NASADEM_be.vrt\n",
    "OUTPUT=nasadem_7912.vrt\n",
    "\n",
    "CPL_DEBUG=OFF PROJ_DEBUG=2 \\\n",
    " PROJ_NETWORK=ON \\\n",
    " GDAL_DISABLE_READDIR_ON_OPEN=EMPTY_DIR \\\n",
    " gdalwarp -overwrite -wm 500 -r bilinear -ot Float32 -te -179.0001389 -56.0001389 179.0001389 61.0001389 -s_srs $SSRS -t_srs $TSRS -ct \"${PROJ_PIPELINE}\" ${INPUT} ${OUTPUT}\n"
   ]
  },
  {
   "cell_type": "code",
   "execution_count": 10,
   "metadata": {},
   "outputs": [
    {
     "name": "stdout",
     "output_type": "stream",
     "text": [
      "Report:\n",
      "  Location: (261000P,81000L)\n",
      "  Band 1:\n",
      "    Value: 2747.1611328125\n"
     ]
    }
   ],
   "source": [
    "%%bash\n",
    "\n",
    "INPUT=nasadem_7912.vrt\n",
    "CPL_DEBUG=OFF GDAL_DISABLE_READDIR_ON_OPEN=EMPTY_DIR \\\n",
    " gdallocationinfo -geoloc $INPUT -106.500 38.500"
   ]
  },
  {
   "cell_type": "markdown",
   "metadata": {},
   "source": [
    "## Planetary Computer \n",
    "\n",
    "Here we demonstrate using stac-geoparquet + GDAL GTI instead of a VRT"
   ]
  },
  {
   "cell_type": "code",
   "execution_count": 12,
   "metadata": {},
   "outputs": [
    {
     "name": "stdout",
     "output_type": "stream",
     "text": [
      "INFO: Open of `/vsiaz/items/nasadem.parquet'\n",
      "      using driver `Parquet' successful.\n",
      "\n",
      "Layer name: nasadem\n",
      "Geometry: Polygon\n",
      "Feature Count: 14520\n",
      "Extent: (-179.000139, -56.000139) - (179.000139, 61.000139)\n",
      "Layer SRS WKT:\n",
      "GEOGCRS[\"WGS 84\",\n",
      "    ENSEMBLE[\"World Geodetic System 1984 ensemble\",\n",
      "        MEMBER[\"World Geodetic System 1984 (Transit)\"],\n",
      "        MEMBER[\"World Geodetic System 1984 (G730)\"],\n",
      "        MEMBER[\"World Geodetic System 1984 (G873)\"],\n",
      "        MEMBER[\"World Geodetic System 1984 (G1150)\"],\n",
      "        MEMBER[\"World Geodetic System 1984 (G1674)\"],\n",
      "        MEMBER[\"World Geodetic System 1984 (G1762)\"],\n",
      "        MEMBER[\"World Geodetic System 1984 (G2139)\"],\n",
      "        ELLIPSOID[\"WGS 84\",6378137,298.257223563,\n",
      "            LENGTHUNIT[\"metre\",1]],\n",
      "        ENSEMBLEACCURACY[2.0]],\n",
      "    PRIMEM[\"Greenwich\",0,\n",
      "        ANGLEUNIT[\"degree\",0.0174532925199433]],\n",
      "    CS[ellipsoidal,2],\n",
      "        AXIS[\"geodetic latitude (Lat)\",north,\n",
      "            ORDER[1],\n",
      "            ANGLEUNIT[\"degree\",0.0174532925199433]],\n",
      "        AXIS[\"geodetic longitude (Lon)\",east,\n",
      "            ORDER[2],\n",
      "            ANGLEUNIT[\"degree\",0.0174532925199433]],\n",
      "    USAGE[\n",
      "        SCOPE[\"Horizontal component of 3D system.\"],\n",
      "        AREA[\"World.\"],\n",
      "        BBOX[-90,-180,90,180]],\n",
      "    ID[\"EPSG\",4326]]\n",
      "Data axis to CRS axis mapping: 2,1\n",
      "Geometry Column = geometry\n",
      "type: String (0.0)\n",
      "stac_version: String (0.0)\n",
      "stac_extensions: StringList (0.0)\n",
      "id: String (0.0)\n",
      "bbox: RealList (0.0)\n",
      "links: String(JSON) (0.0)\n",
      "assets.elevation.href: String (0.0)\n",
      "assets.elevation.roles: StringList (0.0)\n",
      "assets.elevation.title: String (0.0)\n",
      "assets.elevation.type: String (0.0)\n",
      "assets.rendered_preview.href: String (0.0)\n",
      "assets.rendered_preview.rel: String (0.0)\n",
      "assets.rendered_preview.roles: StringList (0.0)\n",
      "assets.rendered_preview.title: String (0.0)\n",
      "assets.rendered_preview.type: String (0.0)\n",
      "assets.tilejson.href: String (0.0)\n",
      "assets.tilejson.roles: StringList (0.0)\n",
      "assets.tilejson.title: String (0.0)\n",
      "assets.tilejson.type: String (0.0)\n",
      "collection: String (0.0)\n",
      "datetime: DateTime (UTC)\n",
      "proj:bbox: RealList (0.0)\n",
      "proj:epsg: Integer64 (0.0)\n",
      "proj:shape: Integer64List (0.0)\n",
      "proj:transform: RealList (0.0)\n"
     ]
    }
   ],
   "source": [
    "%%bash\n",
    "# Feature Count: 14520, assets.elevation.href\n",
    "CPL_DEBUG=OFF GDAL_DISABLE_READDIR_ON_OPEN=EMPTY_DIR \\\n",
    " VSICURL_PC_URL_SIGNING=YES \\\n",
    " AZURE_STORAGE_ACCOUNT=pcstacitems \\\n",
    " AZURE_STORAGE_SAS_TOKEN=`curl -s https://planetarycomputer.microsoft.com/api/sas/v1/token/pcstacitems/items | jq -r '.token'` \\\n",
    " ogrinfo -al -so /vsiaz/items/nasadem.parquet"
   ]
  },
  {
   "cell_type": "code",
   "execution_count": 13,
   "metadata": {},
   "outputs": [
    {
     "name": "stdout",
     "output_type": "stream",
     "text": [
      "Driver: GTI/GDAL Raster Tile Index\n",
      "Files: none associated\n",
      "Size is 1288802, 421202\n",
      "Coordinate System is:\n",
      "GEOGCRS[\"WGS 84\",\n",
      "    ENSEMBLE[\"World Geodetic System 1984 ensemble\",\n",
      "        MEMBER[\"World Geodetic System 1984 (Transit)\"],\n",
      "        MEMBER[\"World Geodetic System 1984 (G730)\"],\n",
      "        MEMBER[\"World Geodetic System 1984 (G873)\"],\n",
      "        MEMBER[\"World Geodetic System 1984 (G1150)\"],\n",
      "        MEMBER[\"World Geodetic System 1984 (G1674)\"],\n",
      "        MEMBER[\"World Geodetic System 1984 (G1762)\"],\n",
      "        MEMBER[\"World Geodetic System 1984 (G2139)\"],\n",
      "        MEMBER[\"World Geodetic System 1984 (G2296)\"],\n",
      "        ELLIPSOID[\"WGS 84\",6378137,298.257223563,\n",
      "            LENGTHUNIT[\"metre\",1]],\n",
      "        ENSEMBLEACCURACY[2.0]],\n",
      "    PRIMEM[\"Greenwich\",0,\n",
      "        ANGLEUNIT[\"degree\",0.0174532925199433]],\n",
      "    CS[ellipsoidal,2],\n",
      "        AXIS[\"geodetic latitude (Lat)\",north,\n",
      "            ORDER[1],\n",
      "            ANGLEUNIT[\"degree\",0.0174532925199433]],\n",
      "        AXIS[\"geodetic longitude (Lon)\",east,\n",
      "            ORDER[2],\n",
      "            ANGLEUNIT[\"degree\",0.0174532925199433]],\n",
      "    USAGE[\n",
      "        SCOPE[\"Horizontal component of 3D system.\"],\n",
      "        AREA[\"World.\"],\n",
      "        BBOX[-90,-180,90,180]],\n",
      "    ID[\"EPSG\",4326]]\n",
      "Data axis to CRS axis mapping: 2,1\n",
      "Origin = (-179.000138889999988,61.000138890000002)\n",
      "Pixel Size = (0.000277777777778,-0.000277777777778)\n",
      "Corner Coordinates:\n",
      "Upper Left  (-179.0001389,  61.0001389) (179d 0' 0.50\"W, 61d 0' 0.50\"N)\n",
      "Lower Left  (-179.0001389, -56.0004167) (179d 0' 0.50\"W, 56d 0' 1.50\"S)\n",
      "Upper Right ( 179.0004167,  61.0001389) (179d 0' 1.50\"E, 61d 0' 0.50\"N)\n",
      "Lower Right ( 179.0004167, -56.0004167) (179d 0' 1.50\"E, 56d 0' 1.50\"S)\n",
      "Center      (   0.0001389,   2.4998611) (  0d 0' 0.50\"E,  2d29'59.50\"N)\n",
      "Band 1 Block=256x256 Type=Int16, ColorInterp=Gray\n",
      "  NoData Value=-32768\n"
     ]
    }
   ],
   "source": [
    "%%bash\n",
    "\n",
    "CPL_DEBUG=OFF GDAL_DISABLE_READDIR_ON_OPEN=EMPTY_DIR \\\n",
    " VSICURL_PC_URL_SIGNING=YES \\\n",
    " AZURE_STORAGE_ACCOUNT=pcstacitems \\\n",
    " AZURE_STORAGE_SAS_TOKEN=`curl -s https://planetarycomputer.microsoft.com/api/sas/v1/token/pcstacitems/items | jq -r '.token'` \\\n",
    " gdalinfo GTI:/vsiaz/items/nasadem.parquet -oo LOCATION_FIELD=assets.elevation.href"
   ]
  },
  {
   "cell_type": "raw",
   "metadata": {
    "vscode": {
     "languageId": "raw"
    }
   },
   "source": [
    "<VRTDataset rasterXSize=\"1296001\" rasterYSize=\"417601\">\n",
    "  <SRS>GEOGCS[\"WGS 84\",DATUM[\"WGS_1984\",SPHEROID[\"WGS 84\",6378137,298.257223563,AUTHORITY[\"EPSG\",\"7030\"]],AUTHORITY[\"EPSG\",\"6326\"]],PRIMEM[\"Greenwich\",0,AUTHORITY[\"EPSG\",\"8901\"]],UNIT[\"degree\",0.0174532925199433,AUTHORITY[\"EPSG\",\"9122\"]],AUTHORITY[\"EPSG\",\"4326\"]]</SRS>\n",
    "  <GeoTransform> -1.8000013888888890e+02,  2.7777777777781459e-04,  0.0000000000000000e+00,  6.0000138888888891e+01,  0.0000000000000000e+00, -2.7777777777781459e-04</GeoTransform>\n",
    "  <VRTRasterBand dataType=\"Int16\" band=\"1\">\n",
    "    <NoDataValue>-32768</NoDataValue>"
   ]
  },
  {
   "cell_type": "code",
   "execution_count": 14,
   "metadata": {},
   "outputs": [],
   "source": [
    "with open('nasadem.gti', 'w') as f:\n",
    "    f.write(\"\"\"<GDALTileIndexDataset>\n",
    "    <IndexDataset>/vsiaz/items/nasadem.parquet</IndexDataset>\n",
    "    <LocationField>assets.elevation.href</LocationField>\n",
    "    <GeoTransform>-1.8000013888888890e+02,  2.7777777777781459e-04,0.0000000000000000e+00,6.0000138888888891e+01,0.0000000000000000e+00,-2.7777777777781459e-04</GeoTransform>\n",
    "    <XSize>1296001</XSize>\n",
    "    <YSize>417601</YSize>\n",
    "    <BandCount>1</BandCount>\n",
    "    <DataType>Int16</DataType>\n",
    "</GDALTileIndexDataset>\n",
    "\"\"\")"
   ]
  },
  {
   "cell_type": "code",
   "execution_count": 15,
   "metadata": {},
   "outputs": [
    {
     "name": "stdout",
     "output_type": "stream",
     "text": [
      "Driver: GTI/GDAL Raster Tile Index\n",
      "Files: nasadem.gti\n",
      "Size is 1296001, 417601\n",
      "Coordinate System is:\n",
      "GEOGCRS[\"WGS 84\",\n",
      "    ENSEMBLE[\"World Geodetic System 1984 ensemble\",\n",
      "        MEMBER[\"World Geodetic System 1984 (Transit)\"],\n",
      "        MEMBER[\"World Geodetic System 1984 (G730)\"],\n",
      "        MEMBER[\"World Geodetic System 1984 (G873)\"],\n",
      "        MEMBER[\"World Geodetic System 1984 (G1150)\"],\n",
      "        MEMBER[\"World Geodetic System 1984 (G1674)\"],\n",
      "        MEMBER[\"World Geodetic System 1984 (G1762)\"],\n",
      "        MEMBER[\"World Geodetic System 1984 (G2139)\"],\n",
      "        MEMBER[\"World Geodetic System 1984 (G2296)\"],\n",
      "        ELLIPSOID[\"WGS 84\",6378137,298.257223563,\n",
      "            LENGTHUNIT[\"metre\",1]],\n",
      "        ENSEMBLEACCURACY[2.0]],\n",
      "    PRIMEM[\"Greenwich\",0,\n",
      "        ANGLEUNIT[\"degree\",0.0174532925199433]],\n",
      "    CS[ellipsoidal,2],\n",
      "        AXIS[\"geodetic latitude (Lat)\",north,\n",
      "            ORDER[1],\n",
      "            ANGLEUNIT[\"degree\",0.0174532925199433]],\n",
      "        AXIS[\"geodetic longitude (Lon)\",east,\n",
      "            ORDER[2],\n",
      "            ANGLEUNIT[\"degree\",0.0174532925199433]],\n",
      "    USAGE[\n",
      "        SCOPE[\"Horizontal component of 3D system.\"],\n",
      "        AREA[\"World.\"],\n",
      "        BBOX[-90,-180,90,180]],\n",
      "    ID[\"EPSG\",4326]]\n",
      "Data axis to CRS axis mapping: 2,1\n",
      "Origin = (-180.000138888888898,60.000138888888891)\n",
      "Pixel Size = (0.000277777777778,-0.000277777777778)\n",
      "Corner Coordinates:\n",
      "Upper Left  (-180.0001389,  60.0001389) (180d 0' 0.50\"W, 60d 0' 0.50\"N)\n",
      "Lower Left  (-180.0001389, -56.0001389) (180d 0' 0.50\"W, 56d 0' 0.50\"S)\n",
      "Upper Right ( 180.0001389,  60.0001389) (180d 0' 0.50\"E, 60d 0' 0.50\"N)\n",
      "Lower Right ( 180.0001389, -56.0001389) (180d 0' 0.50\"E, 56d 0' 0.50\"S)\n",
      "Center      (   0.0000000,   2.0000000) (  0d 0' 0.00\"E,  2d 0' 0.00\"N)\n",
      "Band 1 Block=256x256 Type=Int16, ColorInterp=Undefined\n"
     ]
    }
   ],
   "source": [
    "%%bash\n",
    "\n",
    "CPL_DEBUG=OFF GDAL_DISABLE_READDIR_ON_OPEN=EMPTY_DIR \\\n",
    " VSICURL_PC_URL_SIGNING=YES \\\n",
    " AZURE_STORAGE_ACCOUNT=pcstacitems \\\n",
    " AZURE_STORAGE_SAS_TOKEN=`curl -s https://planetarycomputer.microsoft.com/api/sas/v1/token/pcstacitems/items | jq -r '.token'` \\\n",
    " gdalinfo nasadem.gti"
   ]
  },
  {
   "cell_type": "code",
   "execution_count": 16,
   "metadata": {},
   "outputs": [
    {
     "name": "stdout",
     "output_type": "stream",
     "text": [
      "Report:\n",
      "  Location: (264600P,77400L)\n",
      "  Band 1:\n",
      "    <LocationInfo><File>/vsicurl/https://nasademeuwest.blob.core.windows.net/nasadem-cog/v001/NASADEM_HGT_n38w107.tif</File></LocationInfo>\n",
      "    Value: 2762\n"
     ]
    }
   ],
   "source": [
    "%%bash\n",
    "\n",
    "INPUT=nasadem.gti\n",
    "CPL_DEBUG=OFF GDAL_DISABLE_READDIR_ON_OPEN=EMPTY_DIR \\\n",
    " VSICURL_PC_URL_SIGNING=YES \\\n",
    " AZURE_STORAGE_ACCOUNT=pcstacitems \\\n",
    " AZURE_STORAGE_SAS_TOKEN=`curl -s https://planetarycomputer.microsoft.com/api/sas/v1/token/pcstacitems/items | jq -r '.token'` \\\n",
    " gdallocationinfo -geoloc $INPUT -106.500 38.500"
   ]
  },
  {
   "cell_type": "code",
   "execution_count": 17,
   "metadata": {},
   "outputs": [
    {
     "name": "stdout",
     "output_type": "stream",
     "text": [
      "Report:\n",
      "  Location: (1800P,1800L)\n",
      "  Band 1:\n",
      "    Value: 2762\n"
     ]
    }
   ],
   "source": [
    "%%bash\n",
    "# Query Tif directly\n",
    "INPUT=/vsicurl/https://nasademeuwest.blob.core.windows.net/nasadem-cog/v001/NASADEM_HGT_n38w107.tif\n",
    "CPL_DEBUG=OFF GDAL_DISABLE_READDIR_ON_OPEN=EMPTY_DIR \\\n",
    " VSICURL_PC_URL_SIGNING=YES \\\n",
    " gdallocationinfo -geoloc $INPUT -106.500 38.500"
   ]
  },
  {
   "cell_type": "code",
   "execution_count": 18,
   "metadata": {},
   "outputs": [
    {
     "name": "stderr",
     "output_type": "stream",
     "text": [
      "ERROR 1: Point outside of projection domain\n"
     ]
    },
    {
     "name": "stdout",
     "output_type": "stream",
     "text": [
      "Creating output file that is 1296001P x 417601L.\n",
      "Processing nasadem.gti [1/1] : 0...10...20...30...40...50...60...70...80...90...100 - done.\n"
     ]
    }
   ],
   "source": [
    "\n",
    "%%bash\n",
    "\n",
    "SSRS='EPSG:9055+5773'\n",
    "TSRS='EPSG:7912'\n",
    "PROJ_PIPELINE='+proj=pipeline  +step +proj=axisswap +order=2,1  +step +proj=unitconvert +xy_in=deg +xy_out=rad  +step +proj=vgridshift +grids=us_nga_egm96_15.tif +multiplier=1  +step +proj=cart +ellps=WGS84  +step +proj=helmert +x=-0.0007 +y=-0.0012 +z=0.0261 +rx=0 +ry=0 +rz=0        +s=-0.00212 +dx=-0.0001 +dy=-0.0001 +dz=0.0019 +drx=0 +dry=0 +drz=0        +ds=-0.00011 +t_epoch=2010 +convention=position_vector  +step +inv +proj=cart +ellps=GRS80  +step +proj=unitconvert +xy_in=rad +z_in=m +xy_out=deg +z_out=m  +step +proj=axisswap +order=2,1'\n",
    "INPUT=nasadem.gti\n",
    "OUTPUT=nasadem_7912.gti.vrt\n",
    "\n",
    "CPL_DEBUG=OFF PROJ_DEBUG=2 \\\n",
    " PROJ_NETWORK=ON \\\n",
    " GDAL_DISABLE_READDIR_ON_OPEN=EMPTY_DIR \\\n",
    " VSICURL_PC_URL_SIGNING=YES \\\n",
    " AZURE_STORAGE_ACCOUNT=pcstacitems \\\n",
    " AZURE_STORAGE_SAS_TOKEN=`curl -s https://planetarycomputer.microsoft.com/api/sas/v1/token/pcstacitems/items | jq -r '.token'` \\\n",
    " gdalwarp -overwrite -wm 500 -co BLOCKXSIZE=512 -co BLOCKYSIZE=512 -r bilinear -ot Float32 -te -180.0001389 -56.0001389 180.0001389 60.0001389 -s_srs $SSRS -t_srs $TSRS -ct \"${PROJ_PIPELINE}\" ${INPUT} ${OUTPUT}\n"
   ]
  },
  {
   "cell_type": "code",
   "execution_count": 19,
   "metadata": {},
   "outputs": [
    {
     "name": "stdout",
     "output_type": "stream",
     "text": [
      "Report:\n",
      "  Location: (264600P,77400L)\n",
      "  Band 1:\n",
      "    Value: 2747.1611328125\n"
     ]
    }
   ],
   "source": [
    "%%bash\n",
    "# Does this match opentopography VRT? Value: 2747.1611328125, yes\n",
    "INPUT=nasadem_7912.gti.vrt\n",
    "CPL_DEBUG=OFF GDAL_DISABLE_READDIR_ON_OPEN=EMPTY_DIR \\\n",
    " VSICURL_PC_URL_SIGNING=YES \\\n",
    " AZURE_STORAGE_ACCOUNT=pcstacitems \\\n",
    " AZURE_STORAGE_SAS_TOKEN=`curl -s https://planetarycomputer.microsoft.com/api/sas/v1/token/pcstacitems/items | jq -r '.token'` \\\n",
    " gdallocationinfo -geoloc $INPUT -106.500 38.500"
   ]
  },
  {
   "cell_type": "code",
   "execution_count": 20,
   "metadata": {},
   "outputs": [
    {
     "name": "stdout",
     "output_type": "stream",
     "text": [
      "Report:\n",
      "  Location: (264600.500023667P,77400.5000251724L)\n",
      "  Band 1:\n",
      "    Value: 2747.16103365231\n"
     ]
    }
   ],
   "source": [
    "%%bash\n",
    "# Does this match using PROJ directly?\n",
    "INPUT=nasadem_7912.gti.vrt\n",
    "CPL_DEBUG=OFF GDAL_DISABLE_READDIR_ON_OPEN=EMPTY_DIR \\\n",
    " VSICURL_PC_URL_SIGNING=YES \\\n",
    " AZURE_STORAGE_ACCOUNT=pcstacitems \\\n",
    " AZURE_STORAGE_SAS_TOKEN=`curl -s https://planetarycomputer.microsoft.com/api/sas/v1/token/pcstacitems/items | jq -r '.token'` \\\n",
    " gdallocationinfo -r bilinear -geoloc $INPUT -106.500000 38.500000"
   ]
  },
  {
   "cell_type": "code",
   "execution_count": 21,
   "metadata": {},
   "outputs": [
    {
     "name": "stdout",
     "output_type": "stream",
     "text": [
      "      38.50000      -106.50000    2747.16309           inf\n"
     ]
    }
   ],
   "source": [
    "%%bash\n",
    "# 7912 Single point using proj, agrees w/ GDAL to w/n mm\n",
    "PROJ_PIPELINE='+proj=pipeline  +step +proj=axisswap +order=2,1  +step +proj=unitconvert +xy_in=deg +xy_out=rad  +step +proj=vgridshift +grids=us_nga_egm96_15.tif +multiplier=1  +step +proj=cart +ellps=WGS84  +step +proj=helmert +x=-0.0007 +y=-0.0012 +z=0.0261 +rx=0 +ry=0 +rz=0        +s=-0.00212 +dx=-0.0001 +dy=-0.0001 +dz=0.0019 +drx=0 +dry=0 +drz=0        +ds=-0.00011 +t_epoch=2010 +convention=position_vector  +step +inv +proj=cart +ellps=GRS80  +step +proj=unitconvert +xy_in=rad +z_in=m +xy_out=deg +z_out=m  +step +proj=axisswap +order=2,1'\n",
    "#USE proj directly to convert this point\n",
    "echo 38.5000000 -106.5000000 2762.0 | cct -d 5 $PROJ_PIPELINE"
   ]
  }
 ],
 "metadata": {
  "kernelspec": {
   "display_name": "default",
   "language": "python",
   "name": "python3"
  },
  "language_info": {
   "codemirror_mode": {
    "name": "ipython",
    "version": 3
   },
   "file_extension": ".py",
   "mimetype": "text/x-python",
   "name": "python",
   "nbconvert_exporter": "python",
   "pygments_lexer": "ipython3",
   "version": "3.13.5"
  }
 },
 "nbformat": 4,
 "nbformat_minor": 2
}
