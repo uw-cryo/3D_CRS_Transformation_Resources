{
 "cells": [
  {
   "cell_type": "markdown",
   "metadata": {},
   "source": [
    "---\n",
    "skip_execution: true\n",
    "---"
   ]
  },
  {
   "cell_type": "markdown",
   "metadata": {},
   "source": [
    "# SRTM 30m\n",
    "\n",
    "```\n",
    "Survey Date: 02/11/2000 - 02/22/2000\n",
    "Horizontal Coordinates: WGS84 [EPSG: 4326]\n",
    "Vertical Coordinates: WGS84 (EGM96 GEOID)\n",
    "```\n",
    "https://portal.opentopography.org/raster?opentopoID=OTSRTM.082015.4326.1\n",
    "\n",
    "NOTE: 4326 is not ideal, instead use specific Geoid reference:\n",
    "\n",
    "WGS (G1150) 3D + EGM1996 = EPSG:9055+5773 \n",
    "\n",
    "https://spatialreference.org/ref/epsg/9055/ \n",
    "\n",
    "https://spatialreference.org/ref/epsg/5773/\n",
    "\n",
    "\n",
    "Warning: the opentopo SRTM data is also not very cloud optimized\n",
    "see https://lists.osgeo.org/pipermail/gdal-dev/2025-January/thread.html"
   ]
  },
  {
   "cell_type": "code",
   "execution_count": 1,
   "metadata": {},
   "outputs": [
    {
     "name": "stdout",
     "output_type": "stream",
     "text": [
      "Driver: VRT/Virtual Raster\n",
      "Size is 1296001, 417601\n",
      "Coordinate System is:\n",
      "GEOGCRS[\"WGS 84\",\n",
      "    DATUM[\"World Geodetic System 1984\",\n",
      "        ELLIPSOID[\"WGS 84\",6378137,298.257223563,\n",
      "            LENGTHUNIT[\"metre\",1]]],\n",
      "    PRIMEM[\"Greenwich\",0,\n",
      "        ANGLEUNIT[\"degree\",0.0174532925199433]],\n",
      "    CS[ellipsoidal,2],\n",
      "        AXIS[\"geodetic latitude (Lat)\",north,\n",
      "            ORDER[1],\n",
      "            ANGLEUNIT[\"degree\",0.0174532925199433]],\n",
      "        AXIS[\"geodetic longitude (Lon)\",east,\n",
      "            ORDER[2],\n",
      "            ANGLEUNIT[\"degree\",0.0174532925199433]],\n",
      "    ID[\"EPSG\",4326]]\n",
      "Data axis to CRS axis mapping: 2,1\n",
      "Origin = (-180.000138888888898,60.000138888888891)\n",
      "Pixel Size = (0.000277777777778,-0.000277777777778)\n",
      "Corner Coordinates:\n",
      "Upper Left  (-180.0001389,  60.0001389) (180d 0' 0.50\"W, 60d 0' 0.50\"N)\n",
      "Lower Left  (-180.0001389, -56.0001389) (180d 0' 0.50\"W, 56d 0' 0.50\"S)\n",
      "Upper Right ( 180.0001389,  60.0001389) (180d 0' 0.50\"E, 60d 0' 0.50\"N)\n",
      "Lower Right ( 180.0001389, -56.0001389) (180d 0' 0.50\"E, 56d 0' 0.50\"S)\n",
      "Center      (   0.0000000,   2.0000000) (  0d 0' 0.00\"E,  2d 0' 0.00\"N)\n",
      "Band 1 Block=128x128 Type=Int16, ColorInterp=Gray\n",
      "  NoData Value=-32768\n"
     ]
    }
   ],
   "source": [
    "%%bash\n",
    "\n",
    "GDAL_DISABLE_READDIR_ON_OPEN=EMPTY_DIR \\\n",
    " gdalinfo -nofl /vsicurl/https://opentopography.s3.sdsc.edu/raster/SRTM_GL1/SRTM_GL1_srtm.vrt"
   ]
  },
  {
   "cell_type": "markdown",
   "metadata": {},
   "source": [
    "## VRT Connection Strings\n",
    "\n",
    "a convenient way to override the CRS in metadata is with vrt connection strings:\n",
    "\n",
    "https://gdal.org/en/stable/drivers/raster/vrt.html#vrt-connection-string"
   ]
  },
  {
   "cell_type": "code",
   "execution_count": 2,
   "metadata": {},
   "outputs": [
    {
     "name": "stdout",
     "output_type": "stream",
     "text": [
      "Driver: VRT/Virtual Raster\n",
      "Size is 1296001, 417601\n",
      "Coordinate System is:\n",
      "COMPOUNDCRS[\"WGS 84 (G1150) + EGM96 height\",\n",
      "    GEOGCRS[\"WGS 84 (G1150)\",\n",
      "        DYNAMIC[\n",
      "            FRAMEEPOCH[2001]],\n",
      "        DATUM[\"World Geodetic System 1984 (G1150)\",\n",
      "            ELLIPSOID[\"WGS 84\",6378137,298.257223563,\n",
      "                LENGTHUNIT[\"metre\",1]]],\n",
      "        PRIMEM[\"Greenwich\",0,\n",
      "            ANGLEUNIT[\"degree\",0.0174532925199433]],\n",
      "        CS[ellipsoidal,2],\n",
      "            AXIS[\"geodetic latitude (Lat)\",north,\n",
      "                ORDER[1],\n",
      "                ANGLEUNIT[\"degree\",0.0174532925199433]],\n",
      "            AXIS[\"geodetic longitude (Lon)\",east,\n",
      "                ORDER[2],\n",
      "                ANGLEUNIT[\"degree\",0.0174532925199433]],\n",
      "        USAGE[\n",
      "            SCOPE[\"Geodesy. Navigation and positioning using GPS satellite system.\"],\n",
      "            AREA[\"World.\"],\n",
      "            BBOX[-90,-180,90,180]],\n",
      "        ID[\"EPSG\",9055]],\n",
      "    VERTCRS[\"EGM96 height\",\n",
      "        VDATUM[\"EGM96 geoid\"],\n",
      "        CS[vertical,1],\n",
      "            AXIS[\"gravity-related height (H)\",up,\n",
      "                LENGTHUNIT[\"metre\",1]],\n",
      "        USAGE[\n",
      "            SCOPE[\"Geodesy.\"],\n",
      "            AREA[\"World.\"],\n",
      "            BBOX[-90,-180,90,180]],\n",
      "        ID[\"EPSG\",5773]]]\n",
      "Data axis to CRS axis mapping: 2,1,3\n",
      "Origin = (-180.000138888888898,60.000138888888891)\n",
      "Pixel Size = (0.000277777777778,-0.000277777777778)\n",
      "Corner Coordinates:\n",
      "Upper Left  (-180.0001389,  60.0001389) (180d 0' 0.50\"W, 60d 0' 0.50\"N)\n",
      "Lower Left  (-180.0001389, -56.0001389) (180d 0' 0.50\"W, 56d 0' 0.50\"S)\n",
      "Upper Right ( 180.0001389,  60.0001389) (180d 0' 0.50\"E, 60d 0' 0.50\"N)\n",
      "Lower Right ( 180.0001389, -56.0001389) (180d 0' 0.50\"E, 56d 0' 0.50\"S)\n",
      "Center      (   0.0000000,   2.0000000) (  0d 0' 0.00\"E,  2d 0' 0.00\"N)\n",
      "Band 1 Block=128x128 Type=Int16, ColorInterp=Gray\n",
      "  NoData Value=-32768\n"
     ]
    }
   ],
   "source": [
    "%%bash\n",
    "\n",
    "GDAL_DISABLE_READDIR_ON_OPEN=EMPTY_DIR \\\n",
    " gdalinfo -nofl vrt:///vsicurl/https://opentopography.s3.sdsc.edu/raster/SRTM_GL1/SRTM_GL1_srtm.vrt?a_srs=EPSG:9055+5773"
   ]
  },
  {
   "cell_type": "code",
   "execution_count": 3,
   "metadata": {},
   "outputs": [
    {
     "name": "stdout",
     "output_type": "stream",
     "text": [
      "Driver: VRT/Virtual Raster\n",
      "Size is 1296001, 417601\n",
      "Coordinate System is:\n",
      "GEOGCRS[\"WGS 84\",\n",
      "    DATUM[\"World Geodetic System 1984\",\n",
      "        ELLIPSOID[\"WGS 84\",6378137,298.257223563,\n",
      "            LENGTHUNIT[\"metre\",1]]],\n",
      "    PRIMEM[\"Greenwich\",0,\n",
      "        ANGLEUNIT[\"degree\",0.0174532925199433]],\n",
      "    CS[ellipsoidal,2],\n",
      "        AXIS[\"geodetic latitude (Lat)\",north,\n",
      "            ORDER[1],\n",
      "            ANGLEUNIT[\"degree\",0.0174532925199433]],\n",
      "        AXIS[\"geodetic longitude (Lon)\",east,\n",
      "            ORDER[2],\n",
      "            ANGLEUNIT[\"degree\",0.0174532925199433]],\n",
      "    ID[\"EPSG\",4326]]\n",
      "Data axis to CRS axis mapping: 2,1\n",
      "Origin = (-180.000138888888898,60.000138888888891)\n",
      "Pixel Size = (0.000277777777778,-0.000277777777778)\n",
      "Corner Coordinates:\n",
      "Upper Left  (-180.0001389,  60.0001389) (180d 0' 0.50\"W, 60d 0' 0.50\"N)\n",
      "Lower Left  (-180.0001389, -56.0001389) (180d 0' 0.50\"W, 56d 0' 0.50\"S)\n",
      "Upper Right ( 180.0001389,  60.0001389) (180d 0' 0.50\"E, 60d 0' 0.50\"N)\n",
      "Lower Right ( 180.0001389, -56.0001389) (180d 0' 0.50\"E, 56d 0' 0.50\"S)\n",
      "Center      (   0.0000000,   2.0000000) (  0d 0' 0.00\"E,  2d 0' 0.00\"N)\n",
      "Band 1 Block=128x128 Type=Float32, ColorInterp=Gray\n",
      "  NoData Value=-32768\n"
     ]
    }
   ],
   "source": [
    "%%bash\n",
    "\n",
    "# NOTE: also SRTM_GL1_Ellip/SRTM_GL1_Ellip_srtm.vrt !\n",
    "# which looks like geoid -> ellipsoid precomputed per tile (SRTM_GL1_Ellip_srtm/North/North_30_60/N52E119_wgs84.tif)\n",
    "GDAL_DISABLE_READDIR_ON_OPEN=EMPTY_DIR \\\n",
    " gdalinfo -nofl /vsicurl/https://opentopography.s3.sdsc.edu/raster/SRTM_GL1_Ellip/SRTM_GL1_Ellip_srtm.vrt"
   ]
  },
  {
   "cell_type": "code",
   "execution_count": 4,
   "metadata": {},
   "outputs": [
    {
     "name": "stdout",
     "output_type": "stream",
     "text": [
      "Driver: GTiff/GeoTIFF\n",
      "Files: /vsicurl/https://opentopography.s3.sdsc.edu/raster/SRTM_GL1/SRTM_GL1_srtm/N38W107.tif\n",
      "Size is 3601, 3601\n",
      "Coordinate System is:\n",
      "GEOGCRS[\"WGS 84\",\n",
      "    ENSEMBLE[\"World Geodetic System 1984 ensemble\",\n",
      "        MEMBER[\"World Geodetic System 1984 (Transit)\"],\n",
      "        MEMBER[\"World Geodetic System 1984 (G730)\"],\n",
      "        MEMBER[\"World Geodetic System 1984 (G873)\"],\n",
      "        MEMBER[\"World Geodetic System 1984 (G1150)\"],\n",
      "        MEMBER[\"World Geodetic System 1984 (G1674)\"],\n",
      "        MEMBER[\"World Geodetic System 1984 (G1762)\"],\n",
      "        MEMBER[\"World Geodetic System 1984 (G2139)\"],\n",
      "        MEMBER[\"World Geodetic System 1984 (G2296)\"],\n",
      "        ELLIPSOID[\"WGS 84\",6378137,298.257223563,\n",
      "            LENGTHUNIT[\"metre\",1]],\n",
      "        ENSEMBLEACCURACY[2.0]],\n",
      "    PRIMEM[\"Greenwich\",0,\n",
      "        ANGLEUNIT[\"degree\",0.0174532925199433]],\n",
      "    CS[ellipsoidal,2],\n",
      "        AXIS[\"geodetic latitude (Lat)\",north,\n",
      "            ORDER[1],\n",
      "            ANGLEUNIT[\"degree\",0.0174532925199433]],\n",
      "        AXIS[\"geodetic longitude (Lon)\",east,\n",
      "            ORDER[2],\n",
      "            ANGLEUNIT[\"degree\",0.0174532925199433]],\n",
      "    USAGE[\n",
      "        SCOPE[\"Horizontal component of 3D system.\"],\n",
      "        AREA[\"World.\"],\n",
      "        BBOX[-90,-180,90,180]],\n",
      "    ID[\"EPSG\",4326]]\n",
      "Data axis to CRS axis mapping: 2,1\n",
      "Origin = (-107.000138888888884,39.000138888888891)\n",
      "Pixel Size = (0.000277777777778,-0.000277777777778)\n",
      "Metadata:\n",
      "  OVR_RESAMPLING_ALG=NEAREST\n",
      "  AREA_OR_POINT=Point\n",
      "Image Structure Metadata:\n",
      "  COMPRESSION=DEFLATE\n",
      "  INTERLEAVE=BAND\n",
      "Corner Coordinates:\n",
      "Upper Left  (-107.0001389,  39.0001389) (107d 0' 0.50\"W, 39d 0' 0.50\"N)\n",
      "Lower Left  (-107.0001389,  37.9998611) (107d 0' 0.50\"W, 37d59'59.50\"N)\n",
      "Upper Right (-105.9998611,  39.0001389) (105d59'59.50\"W, 39d 0' 0.50\"N)\n",
      "Lower Right (-105.9998611,  37.9998611) (105d59'59.50\"W, 37d59'59.50\"N)\n",
      "Center      (-106.5000000,  38.5000000) (106d30' 0.00\"W, 38d30' 0.00\"N)\n",
      "Band 1 Block=512x512 Type=Int16, ColorInterp=Gray\n",
      "  NoData Value=-32768\n",
      "  Overviews: 1801x1801, 901x901, 451x451\n"
     ]
    }
   ],
   "source": [
    "%%bash\n",
    "# Look at a single TIF w/n the VRT\n",
    "\n",
    "GDAL_DISABLE_READDIR_ON_OPEN=EMPTY_DIR \\\n",
    " gdalinfo /vsicurl/https://opentopography.s3.sdsc.edu/raster/SRTM_GL1/SRTM_GL1_srtm/N38W107.tif"
   ]
  },
  {
   "cell_type": "markdown",
   "metadata": {},
   "source": [
    "## Projinfo to check possible CRS Transforms"
   ]
  },
  {
   "cell_type": "code",
   "execution_count": 5,
   "metadata": {},
   "outputs": [
    {
     "name": "stdout",
     "output_type": "stream",
     "text": [
      "+proj=pipeline +step +proj=axisswap +order=2,1 +step +proj=unitconvert +xy_in=deg +xy_out=rad +step +proj=vgridshift +grids=us_nga_egm96_15.tif +multiplier=1 +step +proj=unitconvert +xy_in=rad +xy_out=deg +step +proj=axisswap +order=2,1\n"
     ]
    }
   ],
   "source": [
    "# Convert to ellipsoid height\n",
    "!projinfo -s EPSG:9055+5773 -t EPSG:7661 -o PROJ --hide-ballpark -q --single-line"
   ]
  },
  {
   "cell_type": "code",
   "execution_count": 6,
   "metadata": {},
   "outputs": [
    {
     "name": "stdout",
     "output_type": "stream",
     "text": [
      "Candidate operations found: 1\n",
      "-------------------------------------\n",
      "Operation No. 1:\n",
      "\n",
      "unknown id, Conversion from WGS 84 (G1150) (geog2D) to WGS 84 (G1150) (geocentric) + WGS 84 (G1150) to ITRF2000 (1) + ITRF2000 to ITRF2014 (1) + Conversion from ITRF2014 (geocentric) to ITRF2014 (geog3D), 0.03 m, World\n",
      "\n",
      "PROJ string:\n",
      "+proj=pipeline\n",
      "  +step +proj=axisswap +order=2,1\n",
      "  +step +proj=unitconvert +xy_in=deg +xy_out=rad\n",
      "  +step +proj=cart +ellps=WGS84\n",
      "  +step +proj=helmert +x=-0.0007 +y=-0.0012 +z=0.0261 +rx=0 +ry=0 +rz=0\n",
      "        +s=-0.00212 +dx=-0.0001 +dy=-0.0001 +dz=0.0019 +drx=0 +dry=0 +drz=0\n",
      "        +ds=-0.00011 +t_epoch=2010 +convention=position_vector\n",
      "  +step +inv +proj=cart +ellps=GRS80\n",
      "  +step +proj=unitconvert +xy_in=rad +z_in=m +xy_out=deg +z_out=m\n",
      "  +step +proj=axisswap +order=2,1\n"
     ]
    }
   ],
   "source": [
    "# Convert to ITRF2014  (ICESat-2)\n",
    "!projinfo -s EPSG:9055 -t EPSG:7912 -o PROJ --hide-ballpark"
   ]
  },
  {
   "cell_type": "code",
   "execution_count": 7,
   "metadata": {},
   "outputs": [
    {
     "data": {
      "text/plain": [
       "'+proj=pipeline  +step +proj=axisswap +order=2,1  +step +proj=unitconvert +xy_in=deg +xy_out=rad  +step +proj=vgridshift +grids=us_nga_egm96_15.tif +multiplier=1  +step +proj=cart +ellps=WGS84  +step +proj=helmert +x=-0.0007 +y=-0.0012 +z=0.0261 +rx=0 +ry=0 +rz=0        +s=-0.00212 +dx=-0.0001 +dy=-0.0001 +dz=0.0019 +drx=0 +dry=0 +drz=0        +ds=-0.00011 +t_epoch=2010 +convention=position_vector  +step +inv +proj=cart +ellps=GRS80  +step +proj=unitconvert +xy_in=rad +z_in=m +xy_out=deg +z_out=m  +step +proj=axisswap +order=2,1'"
      ]
     },
     "execution_count": 7,
     "metadata": {},
     "output_type": "execute_result"
    }
   ],
   "source": [
    "# Combined (inject shift grid https://github.com/OSGeo/PROJ/issues/4362\n",
    "# Pipeline as a single line to pass to GDAL\n",
    "#projinfo -s EPSG:9055+5773 -t EPSG:7661 -o PROJ --hide-ballpark -q --single-line\n",
    "#projinfo -s EPSG:9055 -t EPSG:7912 -o PROJ --hide-ballpark --single-line -q\n",
    "pipeline='''+proj=pipeline\n",
    "  +step +proj=axisswap +order=2,1\n",
    "  +step +proj=unitconvert +xy_in=deg +xy_out=rad\n",
    "  +step +proj=vgridshift +grids=us_nga_egm96_15.tif +multiplier=1\n",
    "  +step +proj=cart +ellps=WGS84\n",
    "  +step +proj=helmert +x=-0.0007 +y=-0.0012 +z=0.0261 +rx=0 +ry=0 +rz=0\n",
    "        +s=-0.00212 +dx=-0.0001 +dy=-0.0001 +dz=0.0019 +drx=0 +dry=0 +drz=0\n",
    "        +ds=-0.00011 +t_epoch=2010 +convention=position_vector\n",
    "  +step +inv +proj=cart +ellps=GRS80\n",
    "  +step +proj=unitconvert +xy_in=rad +z_in=m +xy_out=deg +z_out=m\n",
    "  +step +proj=axisswap +order=2,1'''\n",
    "pipeline.replace('\\n','')"
   ]
  },
  {
   "cell_type": "code",
   "execution_count": 8,
   "metadata": {},
   "outputs": [
    {
     "name": "stdout",
     "output_type": "stream",
     "text": [
      "Driver: GTiff/GeoTIFF\n",
      "Files: /vsicurl/https://cdn.proj.org/us_nga_egm96_15.tif\n",
      "Size is 1440, 721\n",
      "Coordinate System is:\n",
      "GEOGCRS[\"WGS 84\",\n",
      "    ENSEMBLE[\"World Geodetic System 1984 ensemble\",\n",
      "        MEMBER[\"World Geodetic System 1984 (Transit)\"],\n",
      "        MEMBER[\"World Geodetic System 1984 (G730)\"],\n",
      "        MEMBER[\"World Geodetic System 1984 (G873)\"],\n",
      "        MEMBER[\"World Geodetic System 1984 (G1150)\"],\n",
      "        MEMBER[\"World Geodetic System 1984 (G1674)\"],\n",
      "        MEMBER[\"World Geodetic System 1984 (G1762)\"],\n",
      "        MEMBER[\"World Geodetic System 1984 (G2139)\"],\n",
      "        MEMBER[\"World Geodetic System 1984 (G2296)\"],\n",
      "        ELLIPSOID[\"WGS 84\",6378137,298.257223563,\n",
      "            LENGTHUNIT[\"metre\",1]],\n",
      "        ENSEMBLEACCURACY[2.0]],\n",
      "    PRIMEM[\"Greenwich\",0,\n",
      "        ANGLEUNIT[\"degree\",0.0174532925199433]],\n",
      "    CS[ellipsoidal,3],\n",
      "        AXIS[\"geodetic latitude (Lat)\",north,\n",
      "            ORDER[1],\n",
      "            ANGLEUNIT[\"degree\",0.0174532925199433]],\n",
      "        AXIS[\"geodetic longitude (Lon)\",east,\n",
      "            ORDER[2],\n",
      "            ANGLEUNIT[\"degree\",0.0174532925199433]],\n",
      "        AXIS[\"ellipsoidal height (h)\",up,\n",
      "            ORDER[3],\n",
      "            LENGTHUNIT[\"metre\",1]],\n",
      "    USAGE[\n",
      "        SCOPE[\"Geodesy. Navigation and positioning using GPS satellite system.\"],\n",
      "        AREA[\"World.\"],\n",
      "        BBOX[-90,-180,90,180]],\n",
      "    ID[\"EPSG\",4979]]\n",
      "Data axis to CRS axis mapping: 2,1,3\n",
      "Origin = (-180.125000000000000,90.125000000000000)\n",
      "Pixel Size = (0.250000000000000,-0.250000000000000)\n",
      "Metadata:\n",
      "  TIFFTAG_IMAGEDESCRIPTION=WGS 84 (EPSG:4979) to EGM96 height (EPSG:5773). Converted from egm96_15.gtx (last modified at 2018/10/05)\n",
      "  TIFFTAG_DATETIME=2019:12:27 00:00:00\n",
      "  TIFFTAG_COPYRIGHT=Derived from work by NGA. Public Domain\n",
      "  area_of_use=World\n",
      "  target_crs_epsg_code=5773\n",
      "  TYPE=VERTICAL_OFFSET_GEOGRAPHIC_TO_VERTICAL\n",
      "  AREA_OR_POINT=Point\n",
      "Image Structure Metadata:\n",
      "  COMPRESSION=DEFLATE\n",
      "  INTERLEAVE=BAND\n",
      "  PREDICTOR=3\n",
      "Corner Coordinates:\n",
      "Upper Left  (-180.1250000,  90.1250000) (180d 7'30.00\"W, 90d 7'30.00\"N)\n",
      "Lower Left  (-180.1250000, -90.1250000) (180d 7'30.00\"W, 90d 7'30.00\"S)\n",
      "Upper Right ( 179.8750000,  90.1250000) (179d52'30.00\"E, 90d 7'30.00\"N)\n",
      "Lower Right ( 179.8750000, -90.1250000) (179d52'30.00\"E, 90d 7'30.00\"S)\n",
      "Center      (  -0.1250000,   0.0000000) (  0d 7'30.00\"W,  0d 0' 0.01\"N)\n",
      "Band 1 Block=256x256 Type=Float32, ColorInterp=Gray\n",
      "  Description = geoid_undulation\n",
      "  Unit Type: metre\n"
     ]
    }
   ],
   "source": [
    "!GDAL_DISABLE_READDIR_ON_OPEN=EMPTY_DIR gdalinfo /vsicurl/https://cdn.proj.org/us_nga_egm96_15.tif"
   ]
  },
  {
   "cell_type": "markdown",
   "metadata": {},
   "source": [
    "## Encode Specific PROJ transform in a VRT"
   ]
  },
  {
   "cell_type": "code",
   "execution_count": 9,
   "metadata": {},
   "outputs": [
    {
     "name": "stdout",
     "output_type": "stream",
     "text": [
      "+proj=pipeline +step +proj=axisswap +order=2,1 +step +proj=unitconvert +xy_in=deg +xy_out=rad +step +proj=vgridshift +grids=us_nga_egm96_15.tif +multiplier=1 +step +proj=unitconvert +xy_in=rad +xy_out=deg +step +proj=axisswap +order=2,1\n",
      "Creating output file that is 1296001P x 417601L.\n",
      "Using internal nodata values (e.g. -32768) for image /vsicurl/https://opentopography.s3.sdsc.edu/raster/SRTM_GL1/SRTM_GL1_srtm.vrt.\n",
      "Copying nodata values from source /vsicurl/https://opentopography.s3.sdsc.edu/raster/SRTM_GL1/SRTM_GL1_srtm.vrt to destination /tmp/SRTM_GL1_srtm_7661.vrt.\n",
      "Processing /vsicurl/https://opentopography.s3.sdsc.edu/raster/SRTM_GL1/SRTM_GL1_srtm.vrt [1/1] : 0...10...20...30...40...50...60...70...80...90...100 - done.\n"
     ]
    }
   ],
   "source": [
    "%%bash\n",
    "# JUST vertical shift grid\n",
    "# Copied combined pipeline from above\n",
    "PROJ_PIPELINE='+proj=pipeline +step +proj=axisswap +order=2,1 +step +proj=unitconvert +xy_in=deg +xy_out=rad +step +proj=vgridshift +grids=us_nga_egm96_15.tif +multiplier=1 +step +proj=unitconvert +xy_in=rad +xy_out=deg +step +proj=axisswap +order=2,1'\n",
    "echo $PROJ_PIPELINE\n",
    "\n",
    "# NOTE: enforce bounds and size to match original global VRT geotransform\n",
    "# https://github.com/OSGeo/gdal/issues/11610\n",
    "\n",
    "# Size is 1296001, 417601\n",
    "#Pixel Size = (0.000277777777778,-0.000277777777778)\n",
    "#Origin = (-180.000138888888898,60.000138888888891)\n",
    "#Corner Coordinates:\n",
    "#Upper Left  (-180.0001389,  60.0001389) (180d 0' 0.50\"W, 60d 0' 0.50\"N)\n",
    "#Lower Left  (-180.0001389, -56.0001389) (180d 0' 0.50\"W, 56d 0' 0.50\"S)\n",
    "#Upper Right ( 180.0001389,  60.0001389) (180d 0' 0.50\"E, 60d 0' 0.50\"N)\n",
    "#Lower Right ( 180.0001389, -56.0001389) (180d 0' 0.50\"E, 56d 0' 0.50\"S)\n",
    "# -te -180.000138888888898 -56.000138888888891 180.000138888888891 60.000138888888891\n",
    "# -tr 0.000277777777778 0.000277777777778\n",
    "# -ts 1296001 417601\n",
    "# -of Float32 (otherwise keeps Int16 of original data)\n",
    "# -r nearest (for sampling original TIFs since the grid is the same, but sampling us_nga_egm96_15.tif uses bilinear interpolation)\n",
    "\n",
    "#NOTE: at least for point queries, setting minmal VRT blocksize of 128x128 seems to result in fewest GET requests\n",
    "\n",
    "INPUT=/vsicurl/https://opentopography.s3.sdsc.edu/raster/SRTM_GL1/SRTM_GL1_srtm.vrt\n",
    "OUTPUT=/tmp/SRTM_GL1_srtm_7661.vrt\n",
    "\n",
    "CPL_DEBUG=OFF PROJ_DEBUG=2 \\\n",
    " PROJ_NETWORK=ON \\\n",
    " GDAL_DISABLE_READDIR_ON_OPEN=EMPTY_DIR \\\n",
    " gdalwarp -overwrite -wm 500 -co BLOCKXSIZE=128 -co BLOCKYSIZE=128 \\\n",
    "    -ot Float32 \\\n",
    "    -te -180.000138888888898 -56.000138888888891 180.000138888888891 60.000138888888891 \\\n",
    "    -ts 1296001 417601 \\\n",
    "    -r nearest \\\n",
    "    -s_srs EPSG:9055+5773 -t_srs EPSG:7661 -ct \"${PROJ_PIPELINE}\" \\\n",
    "    ${INPUT} ${OUTPUT}"
   ]
  },
  {
   "cell_type": "code",
   "execution_count": 10,
   "metadata": {},
   "outputs": [
    {
     "name": "stdout",
     "output_type": "stream",
     "text": [
      "+proj=pipeline +step +proj=axisswap +order=2,1 +step +proj=unitconvert +xy_in=deg +xy_out=rad +step +proj=vgridshift +grids=us_nga_egm96_15.tif +multiplier=1 +step +proj=cart +ellps=WGS84 +step +proj=helmert +x=-0.0007 +y=-0.0012 +z=0.0261 +rx=0 +ry=0 +rz=0 +s=-0.00212 +dx=-0.0001 +dy=-0.0001 +dz=0.0019 +drx=0 +dry=0 +drz=0 +ds=-0.00011 +t_epoch=2010 +convention=position_vector +step +inv +proj=cart +ellps=GRS80 +step +proj=unitconvert +xy_in=rad +z_in=m +xy_out=deg +z_out=m +step +proj=axisswap +order=2,1\n",
      "Creating output file that is 1296001P x 417601L.\n",
      "Using internal nodata values (e.g. -32768) for image /vsicurl/https://opentopography.s3.sdsc.edu/raster/SRTM_GL1/SRTM_GL1_srtm.vrt.\n",
      "Copying nodata values from source /vsicurl/https://opentopography.s3.sdsc.edu/raster/SRTM_GL1/SRTM_GL1_srtm.vrt to destination /tmp/SRTM_GL1_srtm_7912.vrt.\n",
      "Processing /vsicurl/https://opentopography.s3.sdsc.edu/raster/SRTM_GL1/SRTM_GL1_srtm.vrt [1/1] : 0...10...20...30...40...50...60...70...80...90...100 - done.\n"
     ]
    }
   ],
   "source": [
    "%%bash\n",
    "# Vertical shift + Helmert\n",
    "# Copied combined pipeline from above\n",
    "PROJ_PIPELINE='+proj=pipeline  +step +proj=axisswap +order=2,1  +step +proj=unitconvert +xy_in=deg +xy_out=rad  +step +proj=vgridshift +grids=us_nga_egm96_15.tif +multiplier=1  +step +proj=cart +ellps=WGS84  +step +proj=helmert +x=-0.0007 +y=-0.0012 +z=0.0261 +rx=0 +ry=0 +rz=0        +s=-0.00212 +dx=-0.0001 +dy=-0.0001 +dz=0.0019 +drx=0 +dry=0 +drz=0        +ds=-0.00011 +t_epoch=2010 +convention=position_vector  +step +inv +proj=cart +ellps=GRS80  +step +proj=unitconvert +xy_in=rad +z_in=m +xy_out=deg +z_out=m  +step +proj=axisswap +order=2,1'\n",
    "echo $PROJ_PIPELINE\n",
    "\n",
    "INPUT=/vsicurl/https://opentopography.s3.sdsc.edu/raster/SRTM_GL1/SRTM_GL1_srtm.vrt\n",
    "OUTPUT=/tmp/SRTM_GL1_srtm_7912.vrt\n",
    "\n",
    "CPL_DEBUG=OFF PROJ_DEBUG=3 \\\n",
    " PROJ_NETWORK=ON \\\n",
    " GDAL_DISABLE_READDIR_ON_OPEN=EMPTY_DIR \\\n",
    " gdalwarp -wm 500 -overwrite \\\n",
    "    -co BLOCKXSIZE=128 -co BLOCKYSIZE=128 \\\n",
    "    -ot Float32 \\\n",
    "    -te -180.000138888888898 -56.000138888888891 180.000138888888891 60.000138888888891 \\\n",
    "    -ts 1296001 417601 \\\n",
    "    -r nearest \\\n",
    "    -s_srs EPSG:9055+5773 -t_srs EPSG:7912 -ct \"${PROJ_PIPELINE}\" \\\n",
    "    ${INPUT} ${OUTPUT}"
   ]
  },
  {
   "cell_type": "markdown",
   "metadata": {},
   "source": [
    "## Verify that VRT gives expected values \n",
    "\n",
    "Because Opentopography has pre-computed tifs with the geoid -> ellipsoid transform, we can confirm that those have the same elevation values as using the VRT we just created (which computes the transform on-the-fly). \n",
    "\n",
    "7661 and 7912 should agree w/n centimeters"
   ]
  },
  {
   "cell_type": "code",
   "execution_count": 11,
   "metadata": {},
   "outputs": [
    {
     "name": "stdout",
     "output_type": "stream",
     "text": [
      "Report:\n",
      "  Location: (264600P,77400L)\n",
      "  Band 1:\n",
      "    Value: 2751.1630859375\n"
     ]
    }
   ],
   "source": [
    "%%bash\n",
    "\n",
    "# Point query (nearest / point-containing pixel value) GEOID HEIGHT\n",
    "\n",
    "INPUT=/tmp/SRTM_GL1_srtm_7912.vrt\n",
    "CPL_DEBUG=OFF GDAL_DISABLE_READDIR_ON_OPEN=EMPTY_DIR \\\n",
    " gdallocationinfo -geoloc $INPUT -106.500 38.500"
   ]
  },
  {
   "cell_type": "code",
   "execution_count": 12,
   "metadata": {},
   "outputs": [
    {
     "name": "stdout",
     "output_type": "stream",
     "text": [
      "Report:\n",
      "  Location: (264600P,77400L)\n",
      "  Band 1:\n",
      "    Value: 2751.1591796875\n"
     ]
    }
   ],
   "source": [
    "%%bash\n",
    "\n",
    "# Point query (nearest / point-containing pixel value) GEOID HEIGHT\n",
    "# Hmmm, or maybe those ranges reflect the coverage of 5 EGM96 pixels to do bilinear interpolation?\n",
    "INPUT=/tmp/SRTM_GL1_srtm_7661.vrt\n",
    "CPL_DEBUG=OFF GDAL_DISABLE_READDIR_ON_OPEN=EMPTY_DIR \\\n",
    " gdallocationinfo -geoloc $INPUT -106.500 38.500"
   ]
  },
  {
   "cell_type": "code",
   "execution_count": 13,
   "metadata": {},
   "outputs": [
    {
     "name": "stdout",
     "output_type": "stream",
     "text": [
      "Report:\n",
      "  Location: (264600P,77400L)\n",
      "  Band 1:\n",
      "    <LocationInfo><File>/vsicurl/https://opentopography.s3.sdsc.edu/raster/SRTM_GL1_Ellip/SRTM_GL1_Ellip_srtm/North/North_30_60/N38W107_wgs84.tif</File></LocationInfo>\n",
      "    Value: 2751.1591796875\n"
     ]
    }
   ],
   "source": [
    "%%bash\n",
    "\n",
    "# Check against pre-computed value... not exactly sure how they generate these files, but should be close to above values\n",
    "\n",
    "INPUT=/vsicurl/https://opentopography.s3.sdsc.edu/raster/SRTM_GL1_Ellip/SRTM_GL1_Ellip_srtm.vrt\n",
    "CPL_DEBUG=OFF GDAL_DISABLE_READDIR_ON_OPEN=EMPTY_DIR \\\n",
    " gdallocationinfo -geoloc $INPUT -106.500 38.500"
   ]
  },
  {
   "cell_type": "code",
   "execution_count": 14,
   "metadata": {},
   "outputs": [
    {
     "name": "stdout",
     "output_type": "stream",
     "text": [
      "Report:\n",
      "  Location: (264600P,77400L)\n",
      "  Band 1:\n",
      "    <LocationInfo><File>/vsicurl/https://opentopography.s3.sdsc.edu/raster/SRTM_GL1/SRTM_GL1_srtm/N38W107.tif</File></LocationInfo>\n",
      "    Value: 2766\n"
     ]
    }
   ],
   "source": [
    "%%bash\n",
    "\n",
    "# Verify geoid height is offset from Ellipsoid Height\n",
    "\n",
    "INPUT=/vsicurl/https://opentopography.s3.sdsc.edu/raster/SRTM_GL1/SRTM_GL1_srtm.vrt\n",
    "CPL_DEBUG=OFF GDAL_DISABLE_READDIR_ON_OPEN=EMPTY_DIR \\\n",
    " gdallocationinfo -geoloc $INPUT -106.500 38.500"
   ]
  },
  {
   "cell_type": "markdown",
   "metadata": {},
   "source": [
    "## Taking it further:\n",
    "\n",
    "- Verify this is working as expected by looking at validation points around the globe"
   ]
  }
 ],
 "metadata": {
  "kernelspec": {
   "display_name": "default",
   "language": "python",
   "name": "python3"
  },
  "language_info": {
   "codemirror_mode": {
    "name": "ipython",
    "version": 3
   },
   "file_extension": ".py",
   "mimetype": "text/x-python",
   "name": "python",
   "nbconvert_exporter": "python",
   "pygments_lexer": "ipython3",
   "version": "3.13.5"
  }
 },
 "nbformat": 4,
 "nbformat_minor": 2
}
