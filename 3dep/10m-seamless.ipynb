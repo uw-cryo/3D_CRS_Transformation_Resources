{
 "cells": [
  {
   "cell_type": "markdown",
   "metadata": {},
   "source": [
    "# 3DEP Seamless DEMs\n",
    "\n",
    "```\n",
    "Horizontal Coordinates: NAD83 [EPSG: 4269]\n",
    "Vertical Coordinates: NAVD88 [EPSG: 5703]\n",
    "```\n",
    "https://portal.opentopography.org/raster?opentopoID=OTNED.012021.4269.1 \n",
    "\n",
    "```{note}\n",
    "We assume that instead of NAD83(1986) the Seamless data are referenced to the more recent and more accurate realization NAD83(2011) -> EPSG:6318\n",
    "```\n",
    "\n",
    "```{note} 10m ( 1/3 arcsec) seamless covers CONUS, Alaska & other US territories \n",
    "30m (1 arcsec) seamless covers canada too\n",
    "https://portal.opentopography.org/datasetMetadata?otCollectionID=OT.012021.4269.2\n",
    "```\n",
    "\n",
    "```{warning}\n",
    "Beware that this seamless data can be based on different sources including older lidar, *hand-drawn contours from topographic maps*, and SRTM data!\n",
    "```\n",
    "\n",
    "More important references:\n",
    "* https://www.usgs.gov/faqs/what-data-sources-are-used-produce-3d-elevation-program-3dep-dems\n",
    "* https://www.usgs.gov/faqs/what-vertical-accuracy-3d-elevation-program-3dep-dems"
   ]
  },
  {
   "cell_type": "code",
   "execution_count": null,
   "metadata": {},
   "outputs": [],
   "source": [
    "%%bash\n",
    "\n",
    "CPL_DEBUG=OFF GDAL_DISABLE_READDIR_ON_OPEN=EMPTY_DIR \\\n",
    " AWS_NO_SIGN_REQUEST=YES \\\n",
    " gdalinfo -nofl /vsis3/prd-tnm/StagedProducts/Elevation/13/TIFF/USGS_Seamless_DEM_13.vrt"
   ]
  },
  {
   "cell_type": "code",
   "execution_count": null,
   "metadata": {},
   "outputs": [],
   "source": [
    "%%bash\n",
    "# NOTE: -r bilinear or cubic will report fractional pixel position\n",
    "INPUT=/vsis3/prd-tnm/StagedProducts/Elevation/13/TIFF/USGS_Seamless_DEM_13.vrt\n",
    "CPL_DEBUG=OFF GDAL_DISABLE_READDIR_ON_OPEN=EMPTY_DIR \\\n",
    " AWS_NO_SIGN_REQUEST=YES \\\n",
    " gdallocationinfo -geoloc $INPUT -106.5000000 38.5000000"
   ]
  },
  {
   "cell_type": "code",
   "execution_count": null,
   "metadata": {},
   "outputs": [],
   "source": [
    "# NOTE: that 'EPSG:4326' and EPSG:4269 are both lon,lat but not equivalent!\n",
    "# This is fairly uncertain, it's going from EPSG ensemble to NAD83(1986)\n",
    "# Implicitly the 'top' choice of change is to do nothing and assume +/-4m acccuracy\n",
    "#!projinfo -s EPSG:4326 -t EPSG:4269 -o proj --spatial-test intersects"
   ]
  },
  {
   "cell_type": "markdown",
   "metadata": {},
   "source": [
    "## 3DEP Seamless metadata\n",
    "\n",
    "Metadata files for this particular 10m tile live on AWS S3:\n",
    "\n",
    "https://prd-tnm.s3.amazonaws.com/index.html?prefix=StagedProducts/Elevation/13/TIFF/current/n39w107/"
   ]
  },
  {
   "cell_type": "code",
   "execution_count": null,
   "metadata": {},
   "outputs": [],
   "source": [
    "# Look at metadata\n",
    "import geopandas as gpd\n",
    "gf = gpd.read_file('https://prd-tnm.s3.amazonaws.com/StagedProducts/Elevation/13/TIFF/current/n39w107/USGS_13_n39w107.gpkg')"
   ]
  },
  {
   "cell_type": "code",
   "execution_count": null,
   "metadata": {},
   "outputs": [],
   "source": [
    "# Just treat polygon boundaries as EPSG:4326\n",
    "gf = gf.to_crs('EPSG:4326')\n",
    "gf"
   ]
  },
  {
   "cell_type": "code",
   "execution_count": null,
   "metadata": {},
   "outputs": [],
   "source": [
    "# Interesting! Going into this tile we have 13 different data sources. Some going back to 1958\n",
    "# Which dataset is out query point accessing?\n",
    "point=gpd.GeoSeries(gpd.points_from_xy(x=[-106.50000], y=[38.50000], crs='EPSG:4326'))\n",
    "m = gf.explore(column='workpackage')\n",
    "point.explore(m=m, color='magenta')"
   ]
  },
  {
   "cell_type": "markdown",
   "metadata": {},
   "source": [
    "## PROJ Transforms"
   ]
  },
  {
   "cell_type": "code",
   "execution_count": null,
   "metadata": {},
   "outputs": [],
   "source": [
    "# To WGS84 1150\n",
    "# top transform is to just apply a vertical shift grid us_noaa_g2018u0.tif\n",
    "!projinfo -s EPSG:6318+5703 -t EPSG:7661 -o PROJ --hide-ballpark --spatial-test intersects | head -n 20"
   ]
  },
  {
   "cell_type": "code",
   "execution_count": null,
   "metadata": {},
   "outputs": [],
   "source": [
    "# NOTE: override NAD83 (EPSG:4269) with NAD83(2011) (EPSG:6318)\n",
    "!projinfo -s EPSG:6318+5703 -t EPSG:7912 -o PROJ --hide-ballpark --spatial-test intersects | head -n 30"
   ]
  },
  {
   "cell_type": "markdown",
   "metadata": {},
   "source": [
    "## Annotated pipeline\n",
    "\n",
    "```bash\n",
    "+proj=pipeline\n",
    "  # Inverse of NAD83(2011) to NAVD88 height\n",
    "  # (NAVD88 Geoid Height -> NAD83(2011) Ellipsoid Height)\n",
    "  +step +proj=axisswap +order=2,1 \n",
    "  +step +proj=unitconvert +xy_in=deg +xy_out=rad\n",
    "  +step +proj=vgridshift +grids=us_noaa_g2018u0.tif +multiplier=1 \n",
    "  # Conversion from NAD83(2011) (geog3D) to NAD83(2011) (geocentric)\n",
    "  +step +proj=cart +ellps=GRS80 \n",
    "  # Inverse of ITRF2014 to NAD83(2011)\n",
    "  # (NAD83(2011) 3D -> ITRF2014 3D)\n",
    "  +step +inv +proj=helmert +x=1.0053 +y=-1.90921 +z=-0.54157 +rx=0.02678138 \n",
    "        +ry=-0.00042027 +rz=0.01093206 +s=0.00036891 +dx=0.00079 +dy=-0.0006\n",
    "        +dz=-0.00144 +drx=6.667e-05 +dry=-0.00075744 +drz=-5.133e-05\n",
    "        +ds=-7.201e-05 +t_epoch=2010 +convention=coordinate_frame \n",
    "  # Conversion from ITRF2014 (geocentric) to ITRF2014 (geog3D)\n",
    "  +step +inv +proj=cart +ellps=GRS80\n",
    "  +step +proj=unitconvert +xy_in=rad +xy_out=deg\n",
    "  +step +proj=axisswap +order=2,1\n",
    "````"
   ]
  },
  {
   "cell_type": "code",
   "execution_count": null,
   "metadata": {},
   "outputs": [],
   "source": [
    "# Top ranked transform as single line to pass to GDAL\n",
    "!projinfo -s EPSG:6318+5703 -t EPSG:7912 -o PROJ --hide-ballpark --spatial-test intersects --single-line -q"
   ]
  },
  {
   "cell_type": "code",
   "execution_count": null,
   "metadata": {},
   "outputs": [],
   "source": [
    "%%bash\n",
    "# VRT of a VRT inception\n",
    "\n",
    "SSRS='EPSG:9055+5773'\n",
    "TSRS='EPSG:7912'\n",
    "CPL_DEBUG=OFF GDAL_DISABLE_READDIR_ON_OPEN=EMPTY_DIR \\\n",
    "PROJ_PIPELINE='+proj=pipeline +step +proj=axisswap +order=2,1 +step +proj=unitconvert +xy_in=deg +xy_out=rad +step +proj=vgridshift +grids=us_noaa_g2018u0.tif +multiplier=1 +step +proj=cart +ellps=GRS80 +step +inv +proj=helmert +x=1.0053 +y=-1.90921 +z=-0.54157 +rx=0.02678138 +ry=-0.00042027 +rz=0.01093206 +s=0.00036891 +dx=0.00079 +dy=-0.0006 +dz=-0.00144 +drx=6.667e-05 +dry=-0.00075744 +drz=-5.133e-05 +ds=-7.201e-05 +t_epoch=2010 +convention=coordinate_frame +step +inv +proj=cart +ellps=GRS80 +step +proj=unitconvert +xy_in=rad +xy_out=deg +step +proj=axisswap +order=2,1'\n",
    "INPUT=/vsis3/prd-tnm/StagedProducts/Elevation/13/TIFF/USGS_Seamless_DEM_13.vrt\n",
    "OUTPUT=USGS_Seamless_DEM_13_7912.vrt\n",
    "\n",
    "echo $PROJ_PIPELINE\n",
    "\n",
    "CPL_DEBUG=OFF PROJ_DEBUG=2 \\\n",
    " PROJ_NETWORK=ON \\\n",
    " GDAL_DISABLE_READDIR_ON_OPEN=EMPTY_DIR \\\n",
    " AWS_NO_SIGN_REQUEST=YES \\\n",
    " gdalwarp -overwrite -wm 500 -co BLOCKXSIZE=256 -co BLOCKYSIZE=256 -te -180.0005556 -15.0005556 180.0000003 72.0005556 -tr 0.000092592592660 0.000092592592660 -r bilinear -ot Float32 -s_srs $SSRS -t_srs $TSRS -ct \"${PROJ_PIPELINE}\" ${INPUT} ${OUTPUT}"
   ]
  },
  {
   "cell_type": "code",
   "execution_count": null,
   "metadata": {},
   "outputs": [],
   "source": [
    "%%bash\n",
    "\n",
    "INPUT=USGS_Seamless_DEM_13_7912.vrt\n",
    "\n",
    "# Value: 2744.60235816757\n",
    "\n",
    "CPL_DEBUG=OFF GDAL_DISABLE_READDIR_ON_OPEN=EMPTY_DIR \\\n",
    " PROJ_NETWORK=ON \\\n",
    " PROJ_DEBUG=2 \\\n",
    " AWS_NO_SIGN_REQUEST=YES \\\n",
    " gdallocationinfo -r bilinear -geoloc $INPUT -106.5000000 38.5000000"
   ]
  },
  {
   "cell_type": "code",
   "execution_count": null,
   "metadata": {},
   "outputs": [],
   "source": [
    "%%bash\n",
    "# Hmmmm, stated accuracy of transform is 0.015 m , but seeing a difference of 0.12m\n",
    "PROJ_PIPELINE_7912='+proj=pipeline +step +proj=axisswap +order=2,1 +step +proj=unitconvert +xy_in=deg +xy_out=rad +step +proj=vgridshift +grids=us_noaa_g2018u0.tif +multiplier=1 +step +proj=cart +ellps=GRS80 +step +inv +proj=helmert +x=1.0053 +y=-1.90921 +z=-0.54157 +rx=0.02678138 +ry=-0.00042027 +rz=0.01093206 +s=0.00036891 +dx=0.00079 +dy=-0.0006 +dz=-0.00144 +drx=6.667e-05 +dry=-0.00075744 +drz=-5.133e-05 +ds=-7.201e-05 +t_epoch=2010 +convention=coordinate_frame +step +inv +proj=cart +ellps=GRS80 +step +proj=unitconvert +xy_in=rad +xy_out=deg +step +proj=axisswap +order=2,1'\n",
    "echo 38.5000000 -106.5000000 2759.5849609375 | cct -d 5 $PROJ_PIPELINE_7912"
   ]
  }
 ],
 "metadata": {
  "kernelspec": {
   "display_name": "Python (Pixi)",
   "language": "python",
   "name": "pixi-kernel-python3"
  },
  "language_info": {
   "codemirror_mode": {
    "name": "ipython",
    "version": 3
   },
   "file_extension": ".py",
   "mimetype": "text/x-python",
   "name": "python",
   "nbconvert_exporter": "python",
   "pygments_lexer": "ipython3",
   "version": "3.13.1"
  }
 },
 "nbformat": 4,
 "nbformat_minor": 4
}
